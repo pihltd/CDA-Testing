{
 "cells": [
  {
   "cell_type": "code",
   "execution_count": 2,
   "metadata": {},
   "outputs": [],
   "source": [
    "from cdapython import Q, columns, unique_terms"
   ]
  },
  {
   "cell_type": "code",
   "execution_count": 3,
   "metadata": {},
   "outputs": [
    {
     "name": "stderr",
     "output_type": "stream",
     "text": [
      "SELECT field_path FROM `gdc-bq-sample.cda_mvp.INFORMATION_SCHEMA.COLUMN_FIELD_PATHS` WHERE table_name = 'v2'\n"
     ]
    },
    {
     "data": {
      "text/plain": [
       "['days_to_birth',\n",
       " 'race',\n",
       " 'sex',\n",
       " 'ethnicity',\n",
       " 'id',\n",
       " 'ResearchSubject',\n",
       " 'ResearchSubject.Diagnosis',\n",
       " 'ResearchSubject.Diagnosis.morphology',\n",
       " 'ResearchSubject.Diagnosis.tumor_stage',\n",
       " 'ResearchSubject.Diagnosis.tumor_grade',\n",
       " 'ResearchSubject.Diagnosis.Treatment',\n",
       " 'ResearchSubject.Diagnosis.Treatment.type',\n",
       " 'ResearchSubject.Diagnosis.Treatment.outcome',\n",
       " 'ResearchSubject.Diagnosis.id',\n",
       " 'ResearchSubject.Diagnosis.primary_diagnosis',\n",
       " 'ResearchSubject.Diagnosis.age_at_diagnosis',\n",
       " 'ResearchSubject.Specimen',\n",
       " 'ResearchSubject.Specimen.File',\n",
       " 'ResearchSubject.Specimen.File.associated_project',\n",
       " 'ResearchSubject.Specimen.File.identifier',\n",
       " 'ResearchSubject.Specimen.File.identifier.system',\n",
       " 'ResearchSubject.Specimen.File.identifier.value',\n",
       " 'ResearchSubject.Specimen.File.data_category',\n",
       " 'ResearchSubject.Specimen.File.byte_size',\n",
       " 'ResearchSubject.Specimen.File.type',\n",
       " 'ResearchSubject.Specimen.File.label',\n",
       " 'ResearchSubject.Specimen.File.gcs_path',\n",
       " 'ResearchSubject.Specimen.File.file_format',\n",
       " 'ResearchSubject.Specimen.File.checksum',\n",
       " 'ResearchSubject.Specimen.File.id',\n",
       " 'ResearchSubject.Specimen.File.data_type',\n",
       " 'ResearchSubject.Specimen.derived_from_specimen',\n",
       " 'ResearchSubject.Specimen.associated_project',\n",
       " 'ResearchSubject.Specimen.age_at_collection',\n",
       " 'ResearchSubject.Specimen.anatomical_site',\n",
       " 'ResearchSubject.Specimen.source_material_type',\n",
       " 'ResearchSubject.Specimen.derived_from_subject',\n",
       " 'ResearchSubject.Specimen.specimen_type',\n",
       " 'ResearchSubject.Specimen.id',\n",
       " 'ResearchSubject.Specimen.primary_disease_type',\n",
       " 'ResearchSubject.Specimen.identifier',\n",
       " 'ResearchSubject.Specimen.identifier.system',\n",
       " 'ResearchSubject.Specimen.identifier.value',\n",
       " 'ResearchSubject.associated_project',\n",
       " 'ResearchSubject.id',\n",
       " 'ResearchSubject.primary_disease_type',\n",
       " 'ResearchSubject.identifier',\n",
       " 'ResearchSubject.identifier.system',\n",
       " 'ResearchSubject.identifier.value',\n",
       " 'ResearchSubject.primary_disease_site']"
      ]
     },
     "execution_count": 3,
     "metadata": {},
     "output_type": "execute_result"
    }
   ],
   "source": [
    "columns()"
   ]
  },
  {
   "cell_type": "code",
   "execution_count": 4,
   "metadata": {},
   "outputs": [
    {
     "name": "stderr",
     "output_type": "stream",
     "text": [
      "SELECT DISTINCT(_ResearchSubject.primary_disease_type) FROM `gdc-bq-sample.cda_mvp.v2`, UNNEST(ResearchSubject) AS _ResearchSubject ORDER BY _ResearchSubject.primary_disease_type\n"
     ]
    },
    {
     "data": {
      "text/plain": [
       "[None,\n",
       " 'Acinar Cell Neoplasms',\n",
       " 'Adenomas and Adenocarcinomas',\n",
       " 'Adnexal and Skin Appendage Neoplasms',\n",
       " 'Basal Cell Neoplasms',\n",
       " 'Blood Vessel Tumors',\n",
       " 'Breast Invasive Carcinoma',\n",
       " 'Chromophobe Renal Cell Carcinoma',\n",
       " 'Chronic Myeloproliferative Disorders',\n",
       " 'Clear Cell Renal Cell Carcinoma',\n",
       " 'Colon Adenocarcinoma',\n",
       " 'Complex Epithelial Neoplasms',\n",
       " 'Complex Mixed and Stromal Neoplasms',\n",
       " 'Cystic, Mucinous and Serous Neoplasms',\n",
       " 'Ductal and Lobular Neoplasms',\n",
       " 'Early Onset Gastric Cancer',\n",
       " 'Epithelial Neoplasms, NOS',\n",
       " 'Fibroepithelial Neoplasms',\n",
       " 'Fibromatous Neoplasms',\n",
       " 'Germ Cell Neoplasms',\n",
       " 'Giant Cell Tumors',\n",
       " 'Glioblastoma',\n",
       " 'Gliomas',\n",
       " 'Granular Cell Tumors and Alveolar Soft Part Sarcomas',\n",
       " 'Head and Neck Squamous Cell Carcinoma',\n",
       " 'Hepatocellular Carcinoma ',\n",
       " 'Hodgkin Lymphoma',\n",
       " 'Immunoproliferative Diseases',\n",
       " 'Leukemias, NOS',\n",
       " 'Lipomatous Neoplasms',\n",
       " 'Lung Adenocarcinoma',\n",
       " 'Lung Squamous Cell Carcinoma',\n",
       " 'Lymphatic Vessel Tumors',\n",
       " 'Lymphoid Leukemias',\n",
       " 'Malignant Lymphomas, NOS or Diffuse',\n",
       " 'Mast Cell Tumors',\n",
       " 'Mature B-Cell Lymphomas',\n",
       " 'Mature T- and NK-Cell Lymphomas',\n",
       " 'Meningiomas',\n",
       " 'Mesonephromas',\n",
       " 'Mesothelial Neoplasms',\n",
       " 'Miscellaneous Bone Tumors',\n",
       " 'Miscellaneous Tumors',\n",
       " 'Mucoepidermoid Neoplasms',\n",
       " 'Myelodysplastic Syndromes',\n",
       " 'Myeloid Leukemias',\n",
       " 'Myomatous Neoplasms',\n",
       " 'Myxomatous Neoplasms',\n",
       " 'Neoplasms of Histiocytes and Accessory Lymphoid Cells',\n",
       " 'Neoplasms, NOS',\n",
       " 'Nerve Sheath Tumors',\n",
       " 'Neuroepitheliomatous Neoplasms',\n",
       " 'Nevi and Melanomas',\n",
       " 'Not Applicable',\n",
       " 'Not Reported',\n",
       " 'Odontogenic Tumors',\n",
       " 'Oral Squamous Cell Carcinoma',\n",
       " 'Osseous and Chondromatous Neoplasms',\n",
       " 'Other',\n",
       " 'Other Leukemias',\n",
       " 'Ovarian Serous Cystadenocarcinoma',\n",
       " 'Pancreatic Ductal Adenocarcinoma',\n",
       " 'Papillary Renal Cell Carcinoma',\n",
       " 'Paragangliomas and Glomus Tumors',\n",
       " 'Pediatric/AYA Brain Tumors',\n",
       " 'Plasma Cell Tumors',\n",
       " 'Precursor Cell Lymphoblastic Lymphoma',\n",
       " 'Rectum Adenocarcinoma',\n",
       " 'Soft Tissue Tumors and Sarcomas, NOS',\n",
       " 'Specialized Gonadal Neoplasms',\n",
       " 'Squamous Cell Neoplasms',\n",
       " 'Synovial-like Neoplasms',\n",
       " 'Thymic Epithelial Neoplasms',\n",
       " 'Transitional Cell Papillomas and Carcinomas',\n",
       " 'Trophoblastic neoplasms',\n",
       " 'Unknown',\n",
       " 'Uterine Corpus Endometrial Carcinoma']"
      ]
     },
     "execution_count": 4,
     "metadata": {},
     "output_type": "execute_result"
    }
   ],
   "source": [
    "unique_terms(\"ResearchSubject.primary_disease_type\")"
   ]
  },
  {
   "cell_type": "code",
   "execution_count": null,
   "metadata": {},
   "outputs": [],
   "source": []
  }
 ],
 "metadata": {
  "kernelspec": {
   "display_name": "Python 3",
   "language": "python",
   "name": "python3"
  },
  "language_info": {
   "codemirror_mode": {
    "name": "ipython",
    "version": 3
   },
   "file_extension": ".py",
   "mimetype": "text/x-python",
   "name": "python",
   "nbconvert_exporter": "python",
   "pygments_lexer": "ipython3",
   "version": "3.8.5"
  }
 },
 "nbformat": 4,
 "nbformat_minor": 4
}
