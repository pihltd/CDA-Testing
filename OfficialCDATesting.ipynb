{
 "cells": [
  {
   "cell_type": "markdown",
   "metadata": {},
   "source": [
    "# TDP testing notebook"
   ]
  },
  {
   "cell_type": "markdown",
   "metadata": {},
   "source": [
    "## Jupyter Question 1"
   ]
  },
  {
   "cell_type": "code",
   "execution_count": 1,
   "metadata": {},
   "outputs": [],
   "source": [
    "from cdapython import Q, unique_terms, columns"
   ]
  },
  {
   "cell_type": "markdown",
   "metadata": {},
   "source": [
    "### TEST QUERY:  Find data from TCGA-BRCA with donors over 50 and stage IIIC cancer"
   ]
  },
  {
   "cell_type": "markdown",
   "metadata": {},
   "source": [
    "<font color=blue> Is \"stage IIIC cancer\" tumor stage or tumor grade? </font>"
   ]
  },
  {
   "cell_type": "code",
   "execution_count": 4,
   "metadata": {},
   "outputs": [
    {
     "name": "stderr",
     "output_type": "stream",
     "text": [
      "SELECT DISTINCT(_Diagnosis.tumor_grade) FROM `gdc-bq-sample.cda_mvp.v3`, UNNEST(ResearchSubject) AS _ResearchSubject,UNNEST(_ResearchSubject.Diagnosis) AS _Diagnosis ORDER BY _Diagnosis.tumor_grade\n"
     ]
    },
    {
     "data": {
      "text/plain": [
       "[None,\n",
       " 'G1',\n",
       " 'G2',\n",
       " 'G3',\n",
       " 'G4',\n",
       " 'GB',\n",
       " 'GX',\n",
       " 'High Grade',\n",
       " 'Low Grade',\n",
       " 'Not Reported',\n",
       " 'Unknown',\n",
       " 'not reported']"
      ]
     },
     "execution_count": 4,
     "metadata": {},
     "output_type": "execute_result"
    }
   ],
   "source": [
    "unique_terms('ResearchSubject.Diagnosis.tumor_grade')"
   ]
  },
  {
   "cell_type": "code",
   "execution_count": 3,
   "metadata": {},
   "outputs": [
    {
     "name": "stderr",
     "output_type": "stream",
     "text": [
      "SELECT DISTINCT(_Diagnosis.tumor_stage) FROM `gdc-bq-sample.cda_mvp.v3`, UNNEST(ResearchSubject) AS _ResearchSubject,UNNEST(_ResearchSubject.Diagnosis) AS _Diagnosis ORDER BY _Diagnosis.tumor_stage\n"
     ]
    },
    {
     "data": {
      "text/plain": [
       "[None,\n",
       " '',\n",
       " '1B',\n",
       " '2A',\n",
       " '2B',\n",
       " '3',\n",
       " '4',\n",
       " 'Adverse',\n",
       " 'Favorable',\n",
       " 'FavorableOrIntermediate',\n",
       " 'I',\n",
       " 'I b',\n",
       " 'IA',\n",
       " 'IB',\n",
       " 'IC',\n",
       " 'II',\n",
       " 'II b',\n",
       " 'IIA',\n",
       " 'IIB',\n",
       " 'III',\n",
       " 'IIIA',\n",
       " 'IIIB',\n",
       " 'IIIC',\n",
       " 'IPI:0',\n",
       " 'IPI:1',\n",
       " 'IPI:12',\n",
       " 'IPI:13',\n",
       " 'IPI:14',\n",
       " 'IPI:15',\n",
       " 'IPI:2',\n",
       " 'IPI:23',\n",
       " 'IPI:24',\n",
       " 'IPI:25',\n",
       " 'IPI:3',\n",
       " 'IPI:34',\n",
       " 'IPI:35',\n",
       " 'IPI:4',\n",
       " 'IPI:45',\n",
       " 'IPI:5',\n",
       " 'IV',\n",
       " 'IVA',\n",
       " 'IVB',\n",
       " 'IVa',\n",
       " 'IVb',\n",
       " 'Intermediate',\n",
       " 'IntermediateOrAdverse',\n",
       " 'N/A',\n",
       " 'Normal',\n",
       " 'Not Performed',\n",
       " 'Not Reported',\n",
       " 'Not Reported/ Unknown',\n",
       " 'Not Reported/Unknown',\n",
       " 'PT4apN0',\n",
       " 'Stage 1B',\n",
       " 'Stage I',\n",
       " 'Stage IA',\n",
       " 'Stage IA3',\n",
       " 'Stage IB',\n",
       " 'Stage IC',\n",
       " 'Stage II',\n",
       " 'Stage IIA',\n",
       " 'Stage IIB',\n",
       " 'Stage III',\n",
       " 'Stage IIIA',\n",
       " 'Stage IIIB',\n",
       " 'Stage IIIC',\n",
       " 'Stage IV',\n",
       " 'Stage IVA',\n",
       " 'Stage IVB',\n",
       " 'Stage1',\n",
       " 'T1N0Mx',\n",
       " 'T1aN0M0',\n",
       " 'T2',\n",
       " 'TxNxM1',\n",
       " 'Unknown',\n",
       " 'i',\n",
       " 'i/ii nos',\n",
       " 'ii',\n",
       " 'ii/v',\n",
       " 'iii',\n",
       " 'iii/v',\n",
       " 'iiib',\n",
       " 'iiib/v',\n",
       " 'is',\n",
       " 'iv',\n",
       " 'iv/v',\n",
       " 'na',\n",
       " 'no resection',\n",
       " 'not reported',\n",
       " 'pT1',\n",
       " 'pT1a',\n",
       " 'pT1b',\n",
       " 'pT1pN0',\n",
       " 'pT1pNx',\n",
       " 'pT2 N0',\n",
       " 'pT2, pN2,  pM not applicable',\n",
       " 'pT2, pN2, pM not applicable',\n",
       " 'pT2N0',\n",
       " 'pT2N0Mx',\n",
       " 'pT2N1',\n",
       " 'pT2N2',\n",
       " 'pT2pN0',\n",
       " 'pT2pN2b',\n",
       " 'pT2pNx',\n",
       " 'pT3',\n",
       " 'pT3 N2 M(Not Applicable)',\n",
       " 'pT3a',\n",
       " 'pT3pN0',\n",
       " 'pT3pN2b',\n",
       " 'pT3pNx',\n",
       " 'pT4',\n",
       " 'pT4N0',\n",
       " 'pT4apN0',\n",
       " 'pT4apN2b',\n",
       " 'pT4apN2c',\n",
       " 'stage 0',\n",
       " 'stage 4',\n",
       " 'stage i',\n",
       " 'stage ia',\n",
       " 'stage ib',\n",
       " 'stage ii',\n",
       " 'stage iia',\n",
       " 'stage iib',\n",
       " 'stage iic',\n",
       " 'stage iii',\n",
       " 'stage iiia',\n",
       " 'stage iiib',\n",
       " 'stage iiic',\n",
       " 'stage iv',\n",
       " 'stage iva',\n",
       " 'stage ivb',\n",
       " 'stage ivc',\n",
       " 'stage x',\n",
       " 'u',\n",
       " 'unknown',\n",
       " 'v']"
      ]
     },
     "execution_count": 3,
     "metadata": {},
     "output_type": "execute_result"
    }
   ],
   "source": [
    "unique_terms('ResearchSubject.Diagnosis.tumor_stage')"
   ]
  },
  {
   "cell_type": "markdown",
   "metadata": {},
   "source": [
    "<font color = blue> Clearly tumor_stage, however there are three options:  *IIIC*, *Stage IIIC* and *stage iiic*</font>"
   ]
  },
  {
   "cell_type": "code",
   "execution_count": 5,
   "metadata": {},
   "outputs": [],
   "source": [
    "q1 = Q('ResearchSubject.associated_project = \"TCGA-BRCA\"')\n",
    "q2 = Q('ResearchSubject.Diagnosis.age_at_diagnosis > 50*365')\n",
    "g1 = Q('ResearchSubject.Diagnosis.tumor_stage = \"IIIC\"')\n",
    "g2 = Q('ResearchSubject.Diagnosis.tumor_stage = \"Stage IIIC\"')\n",
    "g3 = Q('ResearchSubject.Diagnosis.tumor_stage = \"stage iiic\"')"
   ]
  },
  {
   "cell_type": "markdown",
   "metadata": {},
   "source": [
    "<font color = blue> So test the tumor stage differences one at a time </font>"
   ]
  },
  {
   "cell_type": "code",
   "execution_count": 6,
   "metadata": {},
   "outputs": [
    {
     "name": "stdout",
     "output_type": "stream",
     "text": [
      "\n",
      "Query: SELECT * FROM gdc-bq-sample.cda_mvp.v3, UNNEST(ResearchSubject) AS _ResearchSubject, UNNEST(_ResearchSubject.Diagnosis) AS _Diagnosis WHERE ((_ResearchSubject.associated_project = 'TCGA-BRCA') AND ((_Diagnosis.age_at_diagnosis > 50*365) AND (_Diagnosis.tumor_stage = 'IIIC')))\n",
      "Offset: 0\n",
      "Limit: 1000\n",
      "Count: 0\n",
      "More pages: No\n",
      "\n"
     ]
    }
   ],
   "source": [
    "q = q1.And(q2.And(g1))\n",
    "r1 = q.run()\n",
    "print(r1)"
   ]
  },
  {
   "cell_type": "code",
   "execution_count": 8,
   "metadata": {},
   "outputs": [
    {
     "name": "stdout",
     "output_type": "stream",
     "text": [
      "\n",
      "Query: SELECT * FROM gdc-bq-sample.cda_mvp.v3, UNNEST(ResearchSubject) AS _ResearchSubject, UNNEST(_ResearchSubject.Diagnosis) AS _Diagnosis WHERE ((_ResearchSubject.associated_project = 'TCGA-BRCA') AND ((_Diagnosis.age_at_diagnosis > 50*365) AND (_Diagnosis.tumor_stage = 'Stage IIIC')))\n",
      "Offset: 0\n",
      "Limit: 1000\n",
      "Count: 0\n",
      "More pages: No\n",
      "\n"
     ]
    }
   ],
   "source": [
    "q = q1.And(q2.And(g2))\n",
    "r2 = q.run()\n",
    "print(r2)"
   ]
  },
  {
   "cell_type": "code",
   "execution_count": 9,
   "metadata": {},
   "outputs": [
    {
     "name": "stdout",
     "output_type": "stream",
     "text": [
      "\n",
      "Query: SELECT * FROM gdc-bq-sample.cda_mvp.v3, UNNEST(ResearchSubject) AS _ResearchSubject, UNNEST(_ResearchSubject.Diagnosis) AS _Diagnosis WHERE ((_ResearchSubject.associated_project = 'TCGA-BRCA') AND ((_Diagnosis.age_at_diagnosis > 50*365) AND (_Diagnosis.tumor_stage = 'stage iiic')))\n",
      "Offset: 0\n",
      "Limit: 1000\n",
      "Count: 45\n",
      "More pages: No\n",
      "\n"
     ]
    }
   ],
   "source": [
    "q = q1.And(q2.And(g3))\n",
    "r3 = q.run()\n",
    "print(r3)"
   ]
  },
  {
   "cell_type": "markdown",
   "metadata": {},
   "source": [
    "<font color = blue> From these results, clearly *stage iiic* is the terminology used </font>"
   ]
  },
  {
   "cell_type": "code",
   "execution_count": 13,
   "metadata": {},
   "outputs": [
    {
     "name": "stdout",
     "output_type": "stream",
     "text": [
      "Stage: stage iiic\tGrade: not reported\tPrimary Diagnosis: Pleomorphic carcinoma\n",
      "\n",
      "Stage: stage iiic\tGrade: not reported\tPrimary Diagnosis: Infiltrating duct carcinoma, NOS\n",
      "\n",
      "Stage: stage iiic\tGrade: not reported\tPrimary Diagnosis: Infiltrating duct carcinoma, NOS\n",
      "\n",
      "Stage: stage iiic\tGrade: not reported\tPrimary Diagnosis: Infiltrating duct carcinoma, NOS\n",
      "\n",
      "Stage: stage iiic\tGrade: not reported\tPrimary Diagnosis: Infiltrating duct carcinoma, NOS\n",
      "\n",
      "Stage: stage iiic\tGrade: not reported\tPrimary Diagnosis: Infiltrating duct carcinoma, NOS\n",
      "\n",
      "Stage: stage iiic\tGrade: not reported\tPrimary Diagnosis: Infiltrating duct carcinoma, NOS\n",
      "\n",
      "Stage: stage iiic\tGrade: not reported\tPrimary Diagnosis: Infiltrating duct carcinoma, NOS\n",
      "\n",
      "Stage: stage iiic\tGrade: not reported\tPrimary Diagnosis: Infiltrating duct carcinoma, NOS\n",
      "\n",
      "Stage: stage iiic\tGrade: not reported\tPrimary Diagnosis: Infiltrating duct carcinoma, NOS\n",
      "\n",
      "Stage: stage iiic\tGrade: not reported\tPrimary Diagnosis: Infiltrating duct carcinoma, NOS\n",
      "\n",
      "Stage: stage iiic\tGrade: not reported\tPrimary Diagnosis: Infiltrating duct carcinoma, NOS\n",
      "\n",
      "Stage: stage iiic\tGrade: not reported\tPrimary Diagnosis: Infiltrating duct carcinoma, NOS\n",
      "\n",
      "Stage: Stage IIIC\tGrade: Not Reported\tPrimary Diagnosis: Infiltrating duct carcinoma, NOS\n",
      "\n",
      "Stage: stage iiic\tGrade: not reported\tPrimary Diagnosis: Lobular carcinoma, NOS\n",
      "\n",
      "Stage: stage iiic\tGrade: not reported\tPrimary Diagnosis: Lobular carcinoma, NOS\n",
      "\n",
      "Stage: stage iiic\tGrade: not reported\tPrimary Diagnosis: Lobular carcinoma, NOS\n",
      "\n",
      "Stage: stage iiic\tGrade: not reported\tPrimary Diagnosis: Lobular carcinoma, NOS\n",
      "\n",
      "Stage: stage iiic\tGrade: not reported\tPrimary Diagnosis: Lobular carcinoma, NOS\n",
      "\n",
      "Stage: stage iiic\tGrade: not reported\tPrimary Diagnosis: Lobular carcinoma, NOS\n",
      "\n",
      "Stage: stage iiic\tGrade: not reported\tPrimary Diagnosis: Lobular carcinoma, NOS\n",
      "\n",
      "Stage: stage iiic\tGrade: not reported\tPrimary Diagnosis: Lobular carcinoma, NOS\n",
      "\n",
      "Stage: stage iiic\tGrade: not reported\tPrimary Diagnosis: Lobular carcinoma, NOS\n",
      "\n",
      "Stage: Stage IIIC\tGrade: Not Reported\tPrimary Diagnosis: Lobular carcinoma, NOS\n",
      "\n",
      "Stage: stage iiic\tGrade: not reported\tPrimary Diagnosis: Infiltrating duct and lobular carcinoma\n",
      "\n",
      "Stage: stage iiic\tGrade: not reported\tPrimary Diagnosis: Infiltrating duct and lobular carcinoma\n",
      "\n",
      "Stage: stage iiic\tGrade: not reported\tPrimary Diagnosis: Infiltrating duct and lobular carcinoma\n",
      "\n",
      "Stage: stage iiic\tGrade: not reported\tPrimary Diagnosis: Infiltrating lobular mixed with other types of carcinoma\n",
      "\n",
      "Stage: stage iiic\tGrade: not reported\tPrimary Diagnosis: Infiltrating duct carcinoma, NOS\n",
      "\n",
      "Stage: stage iiic\tGrade: not reported\tPrimary Diagnosis: Infiltrating duct carcinoma, NOS\n",
      "\n",
      "Stage: stage iiic\tGrade: not reported\tPrimary Diagnosis: Infiltrating duct carcinoma, NOS\n",
      "\n",
      "Stage: stage iiic\tGrade: not reported\tPrimary Diagnosis: Infiltrating duct carcinoma, NOS\n",
      "\n",
      "Stage: stage iiic\tGrade: not reported\tPrimary Diagnosis: Infiltrating duct carcinoma, NOS\n",
      "\n",
      "Stage: stage iiic\tGrade: not reported\tPrimary Diagnosis: Infiltrating duct carcinoma, NOS\n",
      "\n",
      "Stage: Stage IIIC\tGrade: Not Reported\tPrimary Diagnosis: Infiltrating duct carcinoma, NOS\n",
      "\n",
      "Stage: stage iiic\tGrade: not reported\tPrimary Diagnosis: Infiltrating duct carcinoma, NOS\n",
      "\n",
      "Stage: Stage IIIC\tGrade: Not Reported\tPrimary Diagnosis: Infiltrating duct carcinoma, NOS\n",
      "\n",
      "Stage: stage iiic\tGrade: not reported\tPrimary Diagnosis: Lobular carcinoma, NOS\n",
      "\n",
      "Stage: stage iiic\tGrade: not reported\tPrimary Diagnosis: Lobular carcinoma, NOS\n",
      "\n",
      "Stage: stage iiic\tGrade: not reported\tPrimary Diagnosis: Lobular carcinoma, NOS\n",
      "\n",
      "Stage: stage iiic\tGrade: not reported\tPrimary Diagnosis: Lobular carcinoma, NOS\n",
      "\n",
      "Stage: stage iiic\tGrade: not reported\tPrimary Diagnosis: Lobular carcinoma, NOS\n",
      "\n",
      "Stage: stage iiic\tGrade: not reported\tPrimary Diagnosis: Lobular carcinoma, NOS\n",
      "\n",
      "Stage: stage iiic\tGrade: not reported\tPrimary Diagnosis: Lobular carcinoma, NOS\n",
      "\n",
      "Stage: stage iiic\tGrade: not reported\tPrimary Diagnosis: Lobular carcinoma, NOS\n",
      "\n",
      "Stage: stage iiic\tGrade: not reported\tPrimary Diagnosis: Lobular carcinoma, NOS\n",
      "\n",
      "Stage: stage iiic\tGrade: not reported\tPrimary Diagnosis: Lobular carcinoma, NOS\n",
      "\n",
      "Stage: stage iiic\tGrade: not reported\tPrimary Diagnosis: Lobular carcinoma, NOS\n",
      "\n",
      "Stage: stage iiic\tGrade: not reported\tPrimary Diagnosis: Lobular carcinoma, NOS\n",
      "\n"
     ]
    }
   ],
   "source": [
    "for patient in r3:\n",
    "    for researchsubject in patient['ResearchSubject']:\n",
    "        for rs in researchsubject['Diagnosis']:\n",
    "            print((\"Stage: %s\\tGrade: %s\\tPrimary Diagnosis: %s\\n\") % (rs['tumor_stage'], rs['tumor_grade'], rs['primary_diagnosis']))"
   ]
  },
  {
   "cell_type": "markdown",
   "metadata": {},
   "source": [
    "## Jupyter Test Question 2\n",
    "### Find data from all patients who have been treated with \"Radiation Therapy, NOS\" and have both genomic and proteomic data."
   ]
  },
  {
   "cell_type": "markdown",
   "metadata": {},
   "source": [
    "<font color=blue> Find out what field has \"Radiation Therapy, NOS\" as a possible value<font>"
   ]
  },
  {
   "cell_type": "code",
   "execution_count": 3,
   "metadata": {},
   "outputs": [
    {
     "name": "stderr",
     "output_type": "stream",
     "text": [
      "SELECT DISTINCT(_Treatment.type) FROM `gdc-bq-sample.cda_mvp.v3`, UNNEST(ResearchSubject) AS _ResearchSubject,UNNEST(_ResearchSubject.Diagnosis) AS _Diagnosis,UNNEST(_Diagnosis.Treatment) AS _Treatment ORDER BY _Treatment.type\n"
     ]
    },
    {
     "data": {
      "text/plain": [
       "[None,\n",
       " 'Ablation, Radiofrequency',\n",
       " 'Brachytherapy, High Dose',\n",
       " 'Brachytherapy, Low Dose',\n",
       " 'Chemotherapy',\n",
       " 'Hormone Therapy',\n",
       " 'Immunotherapy (Including Vaccines)',\n",
       " 'Pharmaceutical Therapy, NOS',\n",
       " 'Radiation Therapy, NOS',\n",
       " 'Radiation, 3D Conformal',\n",
       " 'Radiation, External Beam',\n",
       " 'Radiation, Intensity-Modulated Radiotherapy',\n",
       " 'Radiation, Proton Beam',\n",
       " 'Stem Cell Transplantation, Allogeneic',\n",
       " 'Stem Cell Transplantation, Autologous',\n",
       " 'Stereotactic Radiosurgery',\n",
       " 'Surgery',\n",
       " 'Targeted Molecular Therapy']"
      ]
     },
     "execution_count": 3,
     "metadata": {},
     "output_type": "execute_result"
    }
   ],
   "source": [
    "unique_terms('ResearchSubject.Diagnosis.Treatment.type')"
   ]
  },
  {
   "cell_type": "markdown",
   "metadata": {},
   "source": [
    "<font color=blue>Just out of curiosity, how many systems are there?</font>"
   ]
  },
  {
   "cell_type": "code",
   "execution_count": 5,
   "metadata": {},
   "outputs": [
    {
     "name": "stderr",
     "output_type": "stream",
     "text": [
      "SELECT DISTINCT(_identifier.system) FROM `gdc-bq-sample.cda_mvp.v3`, UNNEST(ResearchSubject) AS _ResearchSubject,UNNEST(_ResearchSubject.Specimen) AS _Specimen,UNNEST(_Specimen.identifier) AS _identifier ORDER BY _identifier.system\n"
     ]
    },
    {
     "data": {
      "text/plain": [
       "['GDC', 'PDC']"
      ]
     },
     "execution_count": 5,
     "metadata": {},
     "output_type": "execute_result"
    }
   ],
   "source": [
    "unique_terms('ResearchSubject.Specimen.identifier.system')"
   ]
  },
  {
   "cell_type": "markdown",
   "metadata": {},
   "source": [
    "<font color = blue> How many at each node individuallyl?</font>"
   ]
  },
  {
   "cell_type": "code",
   "execution_count": 12,
   "metadata": {},
   "outputs": [],
   "source": [
    "treatment1 = Q('ResearchSubject.Diagnosis.Treatment.type = \"Radiation Therapy, NOS\"')\n",
    "site1 = Q('ResearchSubject.Specimen.identifier.system = \"GDC\"')\n",
    "site2 = Q('ResearchSubject.Specimen.identifier.system = \"PDC\"')"
   ]
  },
  {
   "cell_type": "code",
   "execution_count": 7,
   "metadata": {},
   "outputs": [
    {
     "name": "stdout",
     "output_type": "stream",
     "text": [
      "\n",
      "Query: SELECT * FROM gdc-bq-sample.cda_mvp.v3, UNNEST(ResearchSubject) AS _ResearchSubject, UNNEST(_ResearchSubject.Diagnosis) AS _Diagnosis, UNNEST(_Diagnosis.Treatment) AS _Treatment, UNNEST(_ResearchSubject.Specimen) AS _Specimen, UNNEST(_Specimen.identifier) AS _identifier WHERE ((_Treatment.type = 'Radiation Therapy, NOS') AND (_identifier.system = 'GDC'))\n",
      "Offset: 0\n",
      "Limit: 1000\n",
      "Count: 1000\n",
      "More pages: Yes\n",
      "\n"
     ]
    }
   ],
   "source": [
    "gdc = treatment1.And(site1)\n",
    "r = gdc.run()\n",
    "print(r)"
   ]
  },
  {
   "cell_type": "markdown",
   "metadata": {},
   "source": [
    "<font color=blue> Clearly cases at GDC</font>"
   ]
  },
  {
   "cell_type": "code",
   "execution_count": 8,
   "metadata": {},
   "outputs": [
    {
     "name": "stdout",
     "output_type": "stream",
     "text": [
      "\n",
      "Query: SELECT * FROM gdc-bq-sample.cda_mvp.v3, UNNEST(ResearchSubject) AS _ResearchSubject, UNNEST(_ResearchSubject.Diagnosis) AS _Diagnosis, UNNEST(_Diagnosis.Treatment) AS _Treatment, UNNEST(_ResearchSubject.Specimen) AS _Specimen, UNNEST(_Specimen.identifier) AS _identifier WHERE ((_Treatment.type = 'Radiation Therapy, NOS') AND (_identifier.system = 'PDC'))\n",
      "Offset: 0\n",
      "Limit: 1000\n",
      "Count: 0\n",
      "More pages: No\n",
      "\n"
     ]
    }
   ],
   "source": [
    "pdc = treatment1.And(site2)\n",
    "r = pdc.run()\n",
    "print(r)"
   ]
  },
  {
   "cell_type": "markdown",
   "metadata": {},
   "source": [
    "<font color=blue> And clearly no cases at PDC.  Which means we need to get all the cases at GDC and see if any match to PDC</font>"
   ]
  },
  {
   "cell_type": "code",
   "execution_count": 14,
   "metadata": {},
   "outputs": [
    {
     "name": "stdout",
     "output_type": "stream",
     "text": [
      "\n",
      "Query: SELECT * FROM gdc-bq-sample.cda_mvp.v3, UNNEST(ResearchSubject) AS _ResearchSubject, UNNEST(_ResearchSubject.Diagnosis) AS _Diagnosis, UNNEST(_Diagnosis.Treatment) AS _Treatment, UNNEST(_ResearchSubject.Specimen) AS _Specimen, UNNEST(_Specimen.identifier) AS _identifier WHERE ((_Treatment.type = 'Radiation Therapy, NOS') AND (_identifier.system = 'GDC'))\n",
      "Offset: 0\n",
      "Limit: 1000\n",
      "Count: 1000\n",
      "More pages: Yes\n",
      "\n"
     ]
    }
   ],
   "source": [
    "q1 = treatment1.And(site1)\n",
    "r1 = q1.run()\n",
    "print(r1)"
   ]
  },
  {
   "cell_type": "code",
   "execution_count": 15,
   "metadata": {},
   "outputs": [
    {
     "name": "stdout",
     "output_type": "stream",
     "text": [
      "\n",
      "Query: SELECT * FROM gdc-bq-sample.cda_mvp.v3, UNNEST(ResearchSubject) AS _ResearchSubject, UNNEST(_ResearchSubject.Specimen) AS _Specimen, UNNEST(_Specimen.identifier) AS _identifier, UNNEST(_ResearchSubject.Diagnosis) AS _Diagnosis, UNNEST(_Diagnosis.Treatment) AS _Treatment WHERE ((_identifier.system = 'GDC') AND (_Treatment.type = 'Radiation Therapy, NOS'))\n",
      "Offset: 0\n",
      "Limit: 1000\n",
      "Count: 1000\n",
      "More pages: Yes\n",
      "\n"
     ]
    }
   ],
   "source": [
    "q2 = site1.And(treatment1)\n",
    "r2 = q2.run()\n",
    "print(r2)"
   ]
  },
  {
   "cell_type": "markdown",
   "metadata": {},
   "source": [
    "<font color=blue> A bug causes a 502 Bad Gateway error unless a limit is set</font>"
   ]
  },
  {
   "cell_type": "code",
   "execution_count": 13,
   "metadata": {},
   "outputs": [
    {
     "name": "stdout",
     "output_type": "stream",
     "text": [
      "\n",
      "Query: SELECT * FROM (SELECT * FROM gdc-bq-sample.cda_mvp.v3, UNNEST(ResearchSubject) AS _ResearchSubject, UNNEST(_ResearchSubject.Diagnosis) AS _Diagnosis, UNNEST(_Diagnosis.Treatment) AS _Treatment, UNNEST(_ResearchSubject.Specimen) AS _Specimen, UNNEST(_Specimen.identifier) AS _identifier WHERE ((_Treatment.type = 'Radiation Therapy, NOS') AND (_identifier.system = 'GDC'))), UNNEST(ResearchSubject) AS _ResearchSubject, UNNEST(_ResearchSubject.Specimen) AS _Specimen, UNNEST(_Specimen.identifier) AS _identifier WHERE (_identifier.system = 'PDC')\n",
      "Offset: 0\n",
      "Limit: 100\n",
      "Count: 100\n",
      "More pages: Yes\n",
      "\n"
     ]
    }
   ],
   "source": [
    "q3 = site2.From(treatment1.And(site1))\n",
    "r3 = q3.run(limit = 100)\n",
    "print(r3)"
   ]
  },
  {
   "cell_type": "code",
   "execution_count": 14,
   "metadata": {},
   "outputs": [
    {
     "name": "stdout",
     "output_type": "stream",
     "text": [
      "\n",
      "Query: SELECT * FROM (SELECT * FROM gdc-bq-sample.cda_mvp.v3, UNNEST(ResearchSubject) AS _ResearchSubject, UNNEST(_ResearchSubject.Specimen) AS _Specimen, UNNEST(_Specimen.identifier) AS _identifier, UNNEST(_ResearchSubject.Diagnosis) AS _Diagnosis, UNNEST(_Diagnosis.Treatment) AS _Treatment WHERE ((_identifier.system = 'GDC') AND (_Treatment.type = 'Radiation Therapy, NOS'))), UNNEST(ResearchSubject) AS _ResearchSubject, UNNEST(_ResearchSubject.Specimen) AS _Specimen, UNNEST(_Specimen.identifier) AS _identifier WHERE (_identifier.system = 'PDC')\n",
      "Offset: 0\n",
      "Limit: 100\n",
      "Count: 100\n",
      "More pages: Yes\n",
      "\n"
     ]
    }
   ],
   "source": [
    "q4 = site2.From(site1.And(treatment1))\n",
    "r4 = q4.run(limit=100)\n",
    "print(r4)"
   ]
  },
  {
   "cell_type": "code",
   "execution_count": 23,
   "metadata": {},
   "outputs": [
    {
     "name": "stderr",
     "output_type": "stream",
     "text": [
      "SELECT DISTINCT(_Treatment.outcome) FROM `gdc-bq-sample.cda_mvp.v3`, UNNEST(ResearchSubject) AS _ResearchSubject,UNNEST(_ResearchSubject.Diagnosis) AS _Diagnosis,UNNEST(_Diagnosis.Treatment) AS _Treatment ORDER BY _Treatment.outcome\n"
     ]
    },
    {
     "data": {
      "text/plain": [
       "[None,\n",
       " 'Complete Response',\n",
       " 'Partial Response',\n",
       " 'Persistent Disease',\n",
       " 'Progressive Disease',\n",
       " 'Stable Disease',\n",
       " 'Treatment Ongoing']"
      ]
     },
     "execution_count": 23,
     "metadata": {},
     "output_type": "execute_result"
    }
   ],
   "source": [
    "unique_terms('ResearchSubject.Diagnosis.Treatment.outcome')"
   ]
  },
  {
   "cell_type": "markdown",
   "metadata": {},
   "source": [
    "<font color=blue> The following is a direct lift from CDA examples</font>"
   ]
  },
  {
   "cell_type": "code",
   "execution_count": 18,
   "metadata": {},
   "outputs": [
    {
     "name": "stdout",
     "output_type": "stream",
     "text": [
      "\n",
      "Query: SELECT * FROM (SELECT * FROM gdc-bq-sample.cda_mvp.v3, UNNEST(ResearchSubject) AS _ResearchSubject, UNNEST(_ResearchSubject.identifier) AS _identifier WHERE ((_ResearchSubject.primary_disease_type = 'Ovarian Serous Cystadenocarcinoma') AND (_identifier.system = 'PDC'))), UNNEST(ResearchSubject) AS _ResearchSubject, UNNEST(_ResearchSubject.identifier) AS _identifier WHERE (_identifier.system = 'GDC')\n",
      "Offset: 0\n",
      "Limit: 1000\n",
      "Count: 275\n",
      "More pages: No\n",
      "\n"
     ]
    }
   ],
   "source": [
    "q1 = Q('ResearchSubject.primary_disease_type = \"Ovarian Serous Cystadenocarcinoma\"')\n",
    "q2 = Q('ResearchSubject.identifier.system = \"PDC\"')\n",
    "q3 = Q('ResearchSubject.identifier.system = \"GDC\"')\n",
    "\n",
    "q = q3.From(q1.And(q2))\n",
    "r = q.run()\n",
    "\n",
    "print(r)"
   ]
  },
  {
   "cell_type": "code",
   "execution_count": 29,
   "metadata": {},
   "outputs": [
    {
     "ename": "ApiException",
     "evalue": "(502)\nReason: Bad Gateway\nHTTP response headers: HTTPHeaderDict({'Content-Type': 'text/html; charset=UTF-8', 'Referrer-Policy': 'no-referrer', 'Content-Length': '332', 'Date': 'Thu, 18 Mar 2021 18:50:46 GMT', 'Alt-Svc': 'clear'})\nHTTP response body: \n<html><head>\n<meta http-equiv=\"content-type\" content=\"text/html;charset=utf-8\">\n<title>502 Server Error</title>\n</head>\n<body text=#000000 bgcolor=#ffffff>\n<h1>Error: Server Error</h1>\n<h2>The server encountered a temporary error and could not complete your request.<p>Please try again in 30 seconds.</h2>\n<h2></h2>\n</body></html>\n\n",
     "output_type": "error",
     "traceback": [
      "\u001b[0;31m---------------------------------------------------------------------------\u001b[0m",
      "\u001b[0;31mApiException\u001b[0m                              Traceback (most recent call last)",
      "\u001b[0;32m<ipython-input-29-a40a26b43a4c>\u001b[0m in \u001b[0;36m<module>\u001b[0;34m\u001b[0m\n\u001b[1;32m      4\u001b[0m \u001b[0;34m\u001b[0m\u001b[0m\n\u001b[1;32m      5\u001b[0m \u001b[0mq\u001b[0m \u001b[0;34m=\u001b[0m \u001b[0mpdc\u001b[0m\u001b[0;34m.\u001b[0m\u001b[0mFrom\u001b[0m\u001b[0;34m(\u001b[0m\u001b[0mtreatment\u001b[0m\u001b[0;34m.\u001b[0m\u001b[0mAnd\u001b[0m\u001b[0;34m(\u001b[0m\u001b[0mgdc\u001b[0m\u001b[0;34m)\u001b[0m\u001b[0;34m)\u001b[0m\u001b[0;34m\u001b[0m\u001b[0;34m\u001b[0m\u001b[0m\n\u001b[0;32m----> 6\u001b[0;31m \u001b[0mr\u001b[0m \u001b[0;34m=\u001b[0m \u001b[0mq\u001b[0m\u001b[0;34m.\u001b[0m\u001b[0mrun\u001b[0m\u001b[0;34m(\u001b[0m\u001b[0;34m)\u001b[0m\u001b[0;34m\u001b[0m\u001b[0;34m\u001b[0m\u001b[0m\n\u001b[0m\u001b[1;32m      7\u001b[0m \u001b[0;34m\u001b[0m\u001b[0m\n\u001b[1;32m      8\u001b[0m \u001b[0mprint\u001b[0m\u001b[0;34m(\u001b[0m\u001b[0mr\u001b[0m\u001b[0;34m)\u001b[0m\u001b[0;34m\u001b[0m\u001b[0;34m\u001b[0m\u001b[0m\n",
      "\u001b[0;32m/usr/local/lib/python3.8/dist-packages/cdapython.py\u001b[0m in \u001b[0;36mrun\u001b[0;34m(self, offset, limit, version, host, dry_run)\u001b[0m\n\u001b[1;32m     68\u001b[0m \u001b[0;34m\u001b[0m\u001b[0m\n\u001b[1;32m     69\u001b[0m             \u001b[0;31m# Execute boolean query\u001b[0m\u001b[0;34m\u001b[0m\u001b[0;34m\u001b[0m\u001b[0;34m\u001b[0m\u001b[0m\n\u001b[0;32m---> 70\u001b[0;31m             api_response = api_instance.boolean_query(\n\u001b[0m\u001b[1;32m     71\u001b[0m                 \u001b[0mversion\u001b[0m\u001b[0;34m,\u001b[0m \u001b[0mquery\u001b[0m\u001b[0;34m,\u001b[0m \u001b[0moffset\u001b[0m\u001b[0;34m=\u001b[0m\u001b[0moffset\u001b[0m\u001b[0;34m,\u001b[0m \u001b[0mlimit\u001b[0m\u001b[0;34m=\u001b[0m\u001b[0mlimit\u001b[0m\u001b[0;34m,\u001b[0m \u001b[0mdry_run\u001b[0m\u001b[0;34m=\u001b[0m\u001b[0mdry_run\u001b[0m\u001b[0;34m\u001b[0m\u001b[0;34m\u001b[0m\u001b[0m\n\u001b[1;32m     72\u001b[0m             )\n",
      "\u001b[0;32m/usr/local/lib/python3.8/dist-packages/cda_client/api/query_api.py\u001b[0m in \u001b[0;36mboolean_query\u001b[0;34m(self, version, query, **kwargs)\u001b[0m\n\u001b[1;32m     64\u001b[0m         \"\"\"\n\u001b[1;32m     65\u001b[0m         \u001b[0mkwargs\u001b[0m\u001b[0;34m[\u001b[0m\u001b[0;34m'_return_http_data_only'\u001b[0m\u001b[0;34m]\u001b[0m \u001b[0;34m=\u001b[0m \u001b[0;32mTrue\u001b[0m\u001b[0;34m\u001b[0m\u001b[0;34m\u001b[0m\u001b[0m\n\u001b[0;32m---> 66\u001b[0;31m         \u001b[0;32mreturn\u001b[0m \u001b[0mself\u001b[0m\u001b[0;34m.\u001b[0m\u001b[0mboolean_query_with_http_info\u001b[0m\u001b[0;34m(\u001b[0m\u001b[0mversion\u001b[0m\u001b[0;34m,\u001b[0m \u001b[0mquery\u001b[0m\u001b[0;34m,\u001b[0m \u001b[0;34m**\u001b[0m\u001b[0mkwargs\u001b[0m\u001b[0;34m)\u001b[0m  \u001b[0;31m# noqa: E501\u001b[0m\u001b[0;34m\u001b[0m\u001b[0;34m\u001b[0m\u001b[0m\n\u001b[0m\u001b[1;32m     67\u001b[0m \u001b[0;34m\u001b[0m\u001b[0m\n\u001b[1;32m     68\u001b[0m     \u001b[0;32mdef\u001b[0m \u001b[0mboolean_query_with_http_info\u001b[0m\u001b[0;34m(\u001b[0m\u001b[0mself\u001b[0m\u001b[0;34m,\u001b[0m \u001b[0mversion\u001b[0m\u001b[0;34m,\u001b[0m \u001b[0mquery\u001b[0m\u001b[0;34m,\u001b[0m \u001b[0;34m**\u001b[0m\u001b[0mkwargs\u001b[0m\u001b[0;34m)\u001b[0m\u001b[0;34m:\u001b[0m  \u001b[0;31m# noqa: E501\u001b[0m\u001b[0;34m\u001b[0m\u001b[0;34m\u001b[0m\u001b[0m\n",
      "\u001b[0;32m/usr/local/lib/python3.8/dist-packages/cda_client/api/query_api.py\u001b[0m in \u001b[0;36mboolean_query_with_http_info\u001b[0;34m(self, version, query, **kwargs)\u001b[0m\n\u001b[1;32m    163\u001b[0m         \u001b[0mauth_settings\u001b[0m \u001b[0;34m=\u001b[0m \u001b[0;34m[\u001b[0m\u001b[0;34m]\u001b[0m  \u001b[0;31m# noqa: E501\u001b[0m\u001b[0;34m\u001b[0m\u001b[0;34m\u001b[0m\u001b[0m\n\u001b[1;32m    164\u001b[0m \u001b[0;34m\u001b[0m\u001b[0m\n\u001b[0;32m--> 165\u001b[0;31m         return self.api_client.call_api(\n\u001b[0m\u001b[1;32m    166\u001b[0m             \u001b[0;34m'/api/v1/boolean-query/{version}'\u001b[0m\u001b[0;34m,\u001b[0m \u001b[0;34m'POST'\u001b[0m\u001b[0;34m,\u001b[0m\u001b[0;34m\u001b[0m\u001b[0;34m\u001b[0m\u001b[0m\n\u001b[1;32m    167\u001b[0m             \u001b[0mpath_params\u001b[0m\u001b[0;34m,\u001b[0m\u001b[0;34m\u001b[0m\u001b[0;34m\u001b[0m\u001b[0m\n",
      "\u001b[0;32m/usr/local/lib/python3.8/dist-packages/cda_client/api_client.py\u001b[0m in \u001b[0;36mcall_api\u001b[0;34m(self, resource_path, method, path_params, query_params, header_params, body, post_params, files, response_type, auth_settings, async_req, _return_http_data_only, collection_formats, _preload_content, _request_timeout, _host)\u001b[0m\n\u001b[1;32m    362\u001b[0m         \"\"\"\n\u001b[1;32m    363\u001b[0m         \u001b[0;32mif\u001b[0m \u001b[0;32mnot\u001b[0m \u001b[0masync_req\u001b[0m\u001b[0;34m:\u001b[0m\u001b[0;34m\u001b[0m\u001b[0;34m\u001b[0m\u001b[0m\n\u001b[0;32m--> 364\u001b[0;31m             return self.__call_api(resource_path, method,\n\u001b[0m\u001b[1;32m    365\u001b[0m                                    \u001b[0mpath_params\u001b[0m\u001b[0;34m,\u001b[0m \u001b[0mquery_params\u001b[0m\u001b[0;34m,\u001b[0m \u001b[0mheader_params\u001b[0m\u001b[0;34m,\u001b[0m\u001b[0;34m\u001b[0m\u001b[0;34m\u001b[0m\u001b[0m\n\u001b[1;32m    366\u001b[0m                                    \u001b[0mbody\u001b[0m\u001b[0;34m,\u001b[0m \u001b[0mpost_params\u001b[0m\u001b[0;34m,\u001b[0m \u001b[0mfiles\u001b[0m\u001b[0;34m,\u001b[0m\u001b[0;34m\u001b[0m\u001b[0;34m\u001b[0m\u001b[0m\n",
      "\u001b[0;32m/usr/local/lib/python3.8/dist-packages/cda_client/api_client.py\u001b[0m in \u001b[0;36m__call_api\u001b[0;34m(self, resource_path, method, path_params, query_params, header_params, body, post_params, files, response_type, auth_settings, _return_http_data_only, collection_formats, _preload_content, _request_timeout, _host)\u001b[0m\n\u001b[1;32m    186\u001b[0m         \u001b[0;32mexcept\u001b[0m \u001b[0mApiException\u001b[0m \u001b[0;32mas\u001b[0m \u001b[0me\u001b[0m\u001b[0;34m:\u001b[0m\u001b[0;34m\u001b[0m\u001b[0;34m\u001b[0m\u001b[0m\n\u001b[1;32m    187\u001b[0m             \u001b[0me\u001b[0m\u001b[0;34m.\u001b[0m\u001b[0mbody\u001b[0m \u001b[0;34m=\u001b[0m \u001b[0me\u001b[0m\u001b[0;34m.\u001b[0m\u001b[0mbody\u001b[0m\u001b[0;34m.\u001b[0m\u001b[0mdecode\u001b[0m\u001b[0;34m(\u001b[0m\u001b[0;34m'utf-8'\u001b[0m\u001b[0;34m)\u001b[0m \u001b[0;32mif\u001b[0m \u001b[0msix\u001b[0m\u001b[0;34m.\u001b[0m\u001b[0mPY3\u001b[0m \u001b[0;32melse\u001b[0m \u001b[0me\u001b[0m\u001b[0;34m.\u001b[0m\u001b[0mbody\u001b[0m\u001b[0;34m\u001b[0m\u001b[0;34m\u001b[0m\u001b[0m\n\u001b[0;32m--> 188\u001b[0;31m             \u001b[0;32mraise\u001b[0m \u001b[0me\u001b[0m\u001b[0;34m\u001b[0m\u001b[0;34m\u001b[0m\u001b[0m\n\u001b[0m\u001b[1;32m    189\u001b[0m \u001b[0;34m\u001b[0m\u001b[0m\n\u001b[1;32m    190\u001b[0m         \u001b[0mcontent_type\u001b[0m \u001b[0;34m=\u001b[0m \u001b[0mresponse_data\u001b[0m\u001b[0;34m.\u001b[0m\u001b[0mgetheader\u001b[0m\u001b[0;34m(\u001b[0m\u001b[0;34m'content-type'\u001b[0m\u001b[0;34m)\u001b[0m\u001b[0;34m\u001b[0m\u001b[0;34m\u001b[0m\u001b[0m\n",
      "\u001b[0;32m/usr/local/lib/python3.8/dist-packages/cda_client/api_client.py\u001b[0m in \u001b[0;36m__call_api\u001b[0;34m(self, resource_path, method, path_params, query_params, header_params, body, post_params, files, response_type, auth_settings, _return_http_data_only, collection_formats, _preload_content, _request_timeout, _host)\u001b[0m\n\u001b[1;32m    179\u001b[0m         \u001b[0;32mtry\u001b[0m\u001b[0;34m:\u001b[0m\u001b[0;34m\u001b[0m\u001b[0;34m\u001b[0m\u001b[0m\n\u001b[1;32m    180\u001b[0m             \u001b[0;31m# perform request and return response\u001b[0m\u001b[0;34m\u001b[0m\u001b[0;34m\u001b[0m\u001b[0;34m\u001b[0m\u001b[0m\n\u001b[0;32m--> 181\u001b[0;31m             response_data = self.request(\n\u001b[0m\u001b[1;32m    182\u001b[0m                 \u001b[0mmethod\u001b[0m\u001b[0;34m,\u001b[0m \u001b[0murl\u001b[0m\u001b[0;34m,\u001b[0m \u001b[0mquery_params\u001b[0m\u001b[0;34m=\u001b[0m\u001b[0mquery_params\u001b[0m\u001b[0;34m,\u001b[0m \u001b[0mheaders\u001b[0m\u001b[0;34m=\u001b[0m\u001b[0mheader_params\u001b[0m\u001b[0;34m,\u001b[0m\u001b[0;34m\u001b[0m\u001b[0;34m\u001b[0m\u001b[0m\n\u001b[1;32m    183\u001b[0m                 \u001b[0mpost_params\u001b[0m\u001b[0;34m=\u001b[0m\u001b[0mpost_params\u001b[0m\u001b[0;34m,\u001b[0m \u001b[0mbody\u001b[0m\u001b[0;34m=\u001b[0m\u001b[0mbody\u001b[0m\u001b[0;34m,\u001b[0m\u001b[0;34m\u001b[0m\u001b[0;34m\u001b[0m\u001b[0m\n",
      "\u001b[0;32m/usr/local/lib/python3.8/dist-packages/cda_client/api_client.py\u001b[0m in \u001b[0;36mrequest\u001b[0;34m(self, method, url, query_params, headers, post_params, body, _preload_content, _request_timeout)\u001b[0m\n\u001b[1;32m    405\u001b[0m                                             _request_timeout=_request_timeout)\n\u001b[1;32m    406\u001b[0m         \u001b[0;32melif\u001b[0m \u001b[0mmethod\u001b[0m \u001b[0;34m==\u001b[0m \u001b[0;34m\"POST\"\u001b[0m\u001b[0;34m:\u001b[0m\u001b[0;34m\u001b[0m\u001b[0;34m\u001b[0m\u001b[0m\n\u001b[0;32m--> 407\u001b[0;31m             return self.rest_client.POST(url,\n\u001b[0m\u001b[1;32m    408\u001b[0m                                          \u001b[0mquery_params\u001b[0m\u001b[0;34m=\u001b[0m\u001b[0mquery_params\u001b[0m\u001b[0;34m,\u001b[0m\u001b[0;34m\u001b[0m\u001b[0;34m\u001b[0m\u001b[0m\n\u001b[1;32m    409\u001b[0m                                          \u001b[0mheaders\u001b[0m\u001b[0;34m=\u001b[0m\u001b[0mheaders\u001b[0m\u001b[0;34m,\u001b[0m\u001b[0;34m\u001b[0m\u001b[0;34m\u001b[0m\u001b[0m\n",
      "\u001b[0;32m/usr/local/lib/python3.8/dist-packages/cda_client/rest.py\u001b[0m in \u001b[0;36mPOST\u001b[0;34m(self, url, headers, query_params, post_params, body, _preload_content, _request_timeout)\u001b[0m\n\u001b[1;32m    263\u001b[0m     def POST(self, url, headers=None, query_params=None, post_params=None,\n\u001b[1;32m    264\u001b[0m              body=None, _preload_content=True, _request_timeout=None):\n\u001b[0;32m--> 265\u001b[0;31m         return self.request(\"POST\", url,\n\u001b[0m\u001b[1;32m    266\u001b[0m                             \u001b[0mheaders\u001b[0m\u001b[0;34m=\u001b[0m\u001b[0mheaders\u001b[0m\u001b[0;34m,\u001b[0m\u001b[0;34m\u001b[0m\u001b[0;34m\u001b[0m\u001b[0m\n\u001b[1;32m    267\u001b[0m                             \u001b[0mquery_params\u001b[0m\u001b[0;34m=\u001b[0m\u001b[0mquery_params\u001b[0m\u001b[0;34m,\u001b[0m\u001b[0;34m\u001b[0m\u001b[0;34m\u001b[0m\u001b[0m\n",
      "\u001b[0;32m/usr/local/lib/python3.8/dist-packages/cda_client/rest.py\u001b[0m in \u001b[0;36mrequest\u001b[0;34m(self, method, url, query_params, headers, body, post_params, _preload_content, _request_timeout)\u001b[0m\n\u001b[1;32m    222\u001b[0m \u001b[0;34m\u001b[0m\u001b[0m\n\u001b[1;32m    223\u001b[0m         \u001b[0;32mif\u001b[0m \u001b[0;32mnot\u001b[0m \u001b[0;36m200\u001b[0m \u001b[0;34m<=\u001b[0m \u001b[0mr\u001b[0m\u001b[0;34m.\u001b[0m\u001b[0mstatus\u001b[0m \u001b[0;34m<=\u001b[0m \u001b[0;36m299\u001b[0m\u001b[0;34m:\u001b[0m\u001b[0;34m\u001b[0m\u001b[0;34m\u001b[0m\u001b[0m\n\u001b[0;32m--> 224\u001b[0;31m             \u001b[0;32mraise\u001b[0m \u001b[0mApiException\u001b[0m\u001b[0;34m(\u001b[0m\u001b[0mhttp_resp\u001b[0m\u001b[0;34m=\u001b[0m\u001b[0mr\u001b[0m\u001b[0;34m)\u001b[0m\u001b[0;34m\u001b[0m\u001b[0;34m\u001b[0m\u001b[0m\n\u001b[0m\u001b[1;32m    225\u001b[0m \u001b[0;34m\u001b[0m\u001b[0m\n\u001b[1;32m    226\u001b[0m         \u001b[0;32mreturn\u001b[0m \u001b[0mr\u001b[0m\u001b[0;34m\u001b[0m\u001b[0;34m\u001b[0m\u001b[0m\n",
      "\u001b[0;31mApiException\u001b[0m: (502)\nReason: Bad Gateway\nHTTP response headers: HTTPHeaderDict({'Content-Type': 'text/html; charset=UTF-8', 'Referrer-Policy': 'no-referrer', 'Content-Length': '332', 'Date': 'Thu, 18 Mar 2021 18:50:46 GMT', 'Alt-Svc': 'clear'})\nHTTP response body: \n<html><head>\n<meta http-equiv=\"content-type\" content=\"text/html;charset=utf-8\">\n<title>502 Server Error</title>\n</head>\n<body text=#000000 bgcolor=#ffffff>\n<h1>Error: Server Error</h1>\n<h2>The server encountered a temporary error and could not complete your request.<p>Please try again in 30 seconds.</h2>\n<h2></h2>\n</body></html>\n\n"
     ]
    }
   ],
   "source": [
    "treatment = Q('ResearchSubject.Diagnosis.Treatment.type = \"Radiation Therapy, NOS\"')\n",
    "gdc = Q('ResearchSubject.Specimen.identifier.system = \"GDC\"')\n",
    "pdc = Q('ResearchSubject.Specimen.identifier.system = \"PDC\"')\n",
    "\n",
    "q = pdc.From(treatment.And(gdc))\n",
    "r = q.run()\n",
    "\n",
    "print(r)"
   ]
  },
  {
   "cell_type": "markdown",
   "metadata": {},
   "source": [
    "# Test Query 3\n",
    "## Find data from all subjects with lung adenocarcinomas who have both primary and recurrent tumors"
   ]
  },
  {
   "cell_type": "markdown",
   "metadata": {},
   "source": [
    "<font color=blue> Find out where \"lung adenocarciomas\" is a valid value"
   ]
  },
  {
   "cell_type": "code",
   "execution_count": 2,
   "metadata": {},
   "outputs": [
    {
     "name": "stderr",
     "output_type": "stream",
     "text": [
      "SELECT DISTINCT(_Specimen.primary_disease_type) FROM `gdc-bq-sample.cda_mvp.v3`, UNNEST(ResearchSubject) AS _ResearchSubject,UNNEST(_ResearchSubject.Specimen) AS _Specimen ORDER BY _Specimen.primary_disease_type\n"
     ]
    },
    {
     "data": {
      "text/plain": [
       "[None,\n",
       " 'Acinar Cell Neoplasms',\n",
       " 'Adenomas and Adenocarcinomas',\n",
       " 'Adnexal and Skin Appendage Neoplasms',\n",
       " 'Basal Cell Neoplasms',\n",
       " 'Blood Vessel Tumors',\n",
       " 'Breast Invasive Carcinoma',\n",
       " 'Chromophobe Renal Cell Carcinoma',\n",
       " 'Chronic Myeloproliferative Disorders',\n",
       " 'Clear Cell Renal Cell Carcinoma',\n",
       " 'Colon Adenocarcinoma',\n",
       " 'Complex Epithelial Neoplasms',\n",
       " 'Complex Mixed and Stromal Neoplasms',\n",
       " 'Cystic, Mucinous and Serous Neoplasms',\n",
       " 'Ductal and Lobular Neoplasms',\n",
       " 'Early Onset Gastric Cancer',\n",
       " 'Epithelial Neoplasms, NOS',\n",
       " 'Fibroepithelial Neoplasms',\n",
       " 'Fibromatous Neoplasms',\n",
       " 'Germ Cell Neoplasms',\n",
       " 'Giant Cell Tumors',\n",
       " 'Glioblastoma',\n",
       " 'Gliomas',\n",
       " 'Granular Cell Tumors and Alveolar Soft Part Sarcomas',\n",
       " 'Head and Neck Squamous Cell Carcinoma',\n",
       " 'Hepatocellular Carcinoma ',\n",
       " 'Hodgkin Lymphoma',\n",
       " 'Immunoproliferative Diseases',\n",
       " 'Leukemias, NOS',\n",
       " 'Lipomatous Neoplasms',\n",
       " 'Lung Adenocarcinoma',\n",
       " 'Lung Squamous Cell Carcinoma',\n",
       " 'Lymphatic Vessel Tumors',\n",
       " 'Lymphoid Leukemias',\n",
       " 'Malignant Lymphomas, NOS or Diffuse',\n",
       " 'Mast Cell Tumors',\n",
       " 'Mature B-Cell Lymphomas',\n",
       " 'Mature T- and NK-Cell Lymphomas',\n",
       " 'Meningiomas',\n",
       " 'Mesonephromas',\n",
       " 'Mesothelial Neoplasms',\n",
       " 'Miscellaneous Bone Tumors',\n",
       " 'Miscellaneous Tumors',\n",
       " 'Mucoepidermoid Neoplasms',\n",
       " 'Myelodysplastic Syndromes',\n",
       " 'Myeloid Leukemias',\n",
       " 'Myomatous Neoplasms',\n",
       " 'Myxomatous Neoplasms',\n",
       " 'Neoplasms of Histiocytes and Accessory Lymphoid Cells',\n",
       " 'Neoplasms, NOS',\n",
       " 'Nerve Sheath Tumors',\n",
       " 'Neuroepitheliomatous Neoplasms',\n",
       " 'Nevi and Melanomas',\n",
       " 'Not Applicable',\n",
       " 'Not Reported',\n",
       " 'Odontogenic Tumors',\n",
       " 'Oral Squamous Cell Carcinoma',\n",
       " 'Osseous and Chondromatous Neoplasms',\n",
       " 'Other',\n",
       " 'Other Leukemias',\n",
       " 'Ovarian Serous Cystadenocarcinoma',\n",
       " 'Pancreatic Ductal Adenocarcinoma',\n",
       " 'Papillary Renal Cell Carcinoma',\n",
       " 'Paragangliomas and Glomus Tumors',\n",
       " 'Pediatric/AYA Brain Tumors',\n",
       " 'Plasma Cell Tumors',\n",
       " 'Precursor Cell Lymphoblastic Lymphoma',\n",
       " 'Rectum Adenocarcinoma',\n",
       " 'Soft Tissue Tumors and Sarcomas, NOS',\n",
       " 'Specialized Gonadal Neoplasms',\n",
       " 'Squamous Cell Neoplasms',\n",
       " 'Synovial-like Neoplasms',\n",
       " 'Thymic Epithelial Neoplasms',\n",
       " 'Transitional Cell Papillomas and Carcinomas',\n",
       " 'Trophoblastic neoplasms',\n",
       " 'Unknown',\n",
       " 'Uterine Corpus Endometrial Carcinoma']"
      ]
     },
     "execution_count": 2,
     "metadata": {},
     "output_type": "execute_result"
    }
   ],
   "source": [
    "unique_terms('ResearchSubject.Specimen.primary_disease_type')"
   ]
  },
  {
   "cell_type": "code",
   "execution_count": 3,
   "metadata": {},
   "outputs": [
    {
     "name": "stderr",
     "output_type": "stream",
     "text": [
      "SELECT DISTINCT(_ResearchSubject.primary_disease_type) FROM `gdc-bq-sample.cda_mvp.v3`, UNNEST(ResearchSubject) AS _ResearchSubject ORDER BY _ResearchSubject.primary_disease_type\n"
     ]
    },
    {
     "data": {
      "text/plain": [
       "[None,\n",
       " 'Acinar Cell Neoplasms',\n",
       " 'Adenomas and Adenocarcinomas',\n",
       " 'Adnexal and Skin Appendage Neoplasms',\n",
       " 'Basal Cell Neoplasms',\n",
       " 'Blood Vessel Tumors',\n",
       " 'Breast Invasive Carcinoma',\n",
       " 'Chromophobe Renal Cell Carcinoma',\n",
       " 'Chronic Myeloproliferative Disorders',\n",
       " 'Clear Cell Renal Cell Carcinoma',\n",
       " 'Colon Adenocarcinoma',\n",
       " 'Complex Epithelial Neoplasms',\n",
       " 'Complex Mixed and Stromal Neoplasms',\n",
       " 'Cystic, Mucinous and Serous Neoplasms',\n",
       " 'Ductal and Lobular Neoplasms',\n",
       " 'Early Onset Gastric Cancer',\n",
       " 'Epithelial Neoplasms, NOS',\n",
       " 'Fibroepithelial Neoplasms',\n",
       " 'Fibromatous Neoplasms',\n",
       " 'Germ Cell Neoplasms',\n",
       " 'Giant Cell Tumors',\n",
       " 'Glioblastoma',\n",
       " 'Gliomas',\n",
       " 'Granular Cell Tumors and Alveolar Soft Part Sarcomas',\n",
       " 'Head and Neck Squamous Cell Carcinoma',\n",
       " 'Hepatocellular Carcinoma ',\n",
       " 'Hodgkin Lymphoma',\n",
       " 'Immunoproliferative Diseases',\n",
       " 'Leukemias, NOS',\n",
       " 'Lipomatous Neoplasms',\n",
       " 'Lung Adenocarcinoma',\n",
       " 'Lung Squamous Cell Carcinoma',\n",
       " 'Lymphatic Vessel Tumors',\n",
       " 'Lymphoid Leukemias',\n",
       " 'Malignant Lymphomas, NOS or Diffuse',\n",
       " 'Mast Cell Tumors',\n",
       " 'Mature B-Cell Lymphomas',\n",
       " 'Mature T- and NK-Cell Lymphomas',\n",
       " 'Meningiomas',\n",
       " 'Mesonephromas',\n",
       " 'Mesothelial Neoplasms',\n",
       " 'Miscellaneous Bone Tumors',\n",
       " 'Miscellaneous Tumors',\n",
       " 'Mucoepidermoid Neoplasms',\n",
       " 'Myelodysplastic Syndromes',\n",
       " 'Myeloid Leukemias',\n",
       " 'Myomatous Neoplasms',\n",
       " 'Myxomatous Neoplasms',\n",
       " 'Neoplasms of Histiocytes and Accessory Lymphoid Cells',\n",
       " 'Neoplasms, NOS',\n",
       " 'Nerve Sheath Tumors',\n",
       " 'Neuroepitheliomatous Neoplasms',\n",
       " 'Nevi and Melanomas',\n",
       " 'Not Applicable',\n",
       " 'Not Reported',\n",
       " 'Odontogenic Tumors',\n",
       " 'Oral Squamous Cell Carcinoma',\n",
       " 'Osseous and Chondromatous Neoplasms',\n",
       " 'Other',\n",
       " 'Other Leukemias',\n",
       " 'Ovarian Serous Cystadenocarcinoma',\n",
       " 'Pancreatic Ductal Adenocarcinoma',\n",
       " 'Papillary Renal Cell Carcinoma',\n",
       " 'Paragangliomas and Glomus Tumors',\n",
       " 'Pediatric/AYA Brain Tumors',\n",
       " 'Plasma Cell Tumors',\n",
       " 'Precursor Cell Lymphoblastic Lymphoma',\n",
       " 'Rectum Adenocarcinoma',\n",
       " 'Soft Tissue Tumors and Sarcomas, NOS',\n",
       " 'Specialized Gonadal Neoplasms',\n",
       " 'Squamous Cell Neoplasms',\n",
       " 'Synovial-like Neoplasms',\n",
       " 'Thymic Epithelial Neoplasms',\n",
       " 'Transitional Cell Papillomas and Carcinomas',\n",
       " 'Trophoblastic neoplasms',\n",
       " 'Unknown',\n",
       " 'Uterine Corpus Endometrial Carcinoma']"
      ]
     },
     "execution_count": 3,
     "metadata": {},
     "output_type": "execute_result"
    }
   ],
   "source": [
    "unique_terms('ResearchSubject.primary_disease_type')"
   ]
  },
  {
   "cell_type": "markdown",
   "metadata": {},
   "source": [
    "<font color=blue>  So this exists in both ResearchSubject.primary_disease_type and ResearchSubject.Sample.primary_disease_type.  Since we're intersted in patients, not samples, using ResearchSubject.primary_disease_type seems appropriate.</font>\n",
    "\n",
    "<font color=blue> So the next step is to figure out where primary and recurring tumors are identified.  There's nothign at the ResearchSubject level however Sample has source_material_type which seems likely</font>"
   ]
  },
  {
   "cell_type": "code",
   "execution_count": 30,
   "metadata": {},
   "outputs": [
    {
     "name": "stderr",
     "output_type": "stream",
     "text": [
      "SELECT DISTINCT(_Specimen.source_material_type) FROM `gdc-bq-sample.cda_mvp.v3`, UNNEST(ResearchSubject) AS _ResearchSubject,UNNEST(_ResearchSubject.Specimen) AS _Specimen ORDER BY _Specimen.source_material_type\n"
     ]
    },
    {
     "data": {
      "text/plain": [
       "['Additional - New Primary',\n",
       " 'Additional Metastatic',\n",
       " 'Blood Derived Cancer - Bone Marrow',\n",
       " 'Blood Derived Cancer - Bone Marrow, Post-treatment',\n",
       " 'Blood Derived Cancer - Peripheral Blood',\n",
       " 'Blood Derived Cancer - Peripheral Blood, Post-treatment',\n",
       " 'Blood Derived Normal',\n",
       " 'Bone Marrow Normal',\n",
       " 'Buccal Cell Normal',\n",
       " 'Cell Lines',\n",
       " 'Control Analyte',\n",
       " 'DNA',\n",
       " 'Expanded Next Generation Cancer Model',\n",
       " 'FFPE Scrolls',\n",
       " 'Fibroblasts from Bone Marrow Normal',\n",
       " 'Granulocytes',\n",
       " 'Lymphoid Normal',\n",
       " 'Metastatic',\n",
       " 'Mononuclear Cells from Bone Marrow Normal',\n",
       " 'Neoplasms of Uncertain and Unknown Behavior',\n",
       " 'Next Generation Cancer Model',\n",
       " 'Normal',\n",
       " 'Normal Adjacent Tissue',\n",
       " 'Not Reported',\n",
       " 'Post neo-adjuvant therapy',\n",
       " 'Primary Blood Derived Cancer - Bone Marrow',\n",
       " 'Primary Blood Derived Cancer - Peripheral Blood',\n",
       " 'Primary Tumor',\n",
       " 'Primary Xenograft Tissue',\n",
       " 'Recurrent Blood Derived Cancer - Bone Marrow',\n",
       " 'Recurrent Blood Derived Cancer - Peripheral Blood',\n",
       " 'Recurrent Tumor',\n",
       " 'Slides',\n",
       " 'Solid Tissue Normal',\n",
       " 'Tumor',\n",
       " 'Unknown',\n",
       " 'Xenograft',\n",
       " 'Xenograft Tissue']"
      ]
     },
     "execution_count": 30,
     "metadata": {},
     "output_type": "execute_result"
    }
   ],
   "source": [
    "unique_terms('ResearchSubject.Specimen.source_material_type')"
   ]
  },
  {
   "cell_type": "markdown",
   "metadata": {},
   "source": [
    "<font color=blue> Clearly there are several options, however \"Primary Tumor\" and \"Recurrent Tumor\" seem the most generic</font>"
   ]
  },
  {
   "cell_type": "code",
   "execution_count": 4,
   "metadata": {},
   "outputs": [],
   "source": [
    "tumor1 = Q('ResearchSubject.Specimen.source_material_type = \"Primary Tumor\"')\n",
    "tumor2 = Q('ResearchSubject.Specimen.source_material_type = \"Recurrent Tumor\"')\n",
    "\n",
    "disease = Q('ResearchSubject.primary_disease_type = \"Lung Adenocarcinoma\"')"
   ]
  },
  {
   "cell_type": "code",
   "execution_count": 5,
   "metadata": {},
   "outputs": [
    {
     "name": "stdout",
     "output_type": "stream",
     "text": [
      "\n",
      "Query: SELECT * FROM gdc-bq-sample.cda_mvp.v3, UNNEST(ResearchSubject) AS _ResearchSubject WHERE (_ResearchSubject.primary_disease_type = 'Lung Adenocarcinoma')\n",
      "Offset: 0\n",
      "Limit: 1000\n",
      "Count: 216\n",
      "More pages: No\n",
      "\n"
     ]
    }
   ],
   "source": [
    "rd= disease.run()\n",
    "print(rd)"
   ]
  },
  {
   "cell_type": "markdown",
   "metadata": {},
   "source": [
    "<font color=blue>Looks like 216 ReseachSubjects labeled as Lung Adenocarcinoma</font>"
   ]
  },
  {
   "cell_type": "code",
   "execution_count": 6,
   "metadata": {},
   "outputs": [
    {
     "name": "stdout",
     "output_type": "stream",
     "text": [
      "\n",
      "Query: SELECT * FROM gdc-bq-sample.cda_mvp.v3, UNNEST(ResearchSubject) AS _ResearchSubject, UNNEST(_ResearchSubject.Specimen) AS _Specimen WHERE ((_ResearchSubject.primary_disease_type = 'Lung Adenocarcinoma') AND (_Specimen.source_material_type = 'Primary Tumor'))\n",
      "Offset: 0\n",
      "Limit: 1000\n",
      "Count: 121\n",
      "More pages: No\n",
      "\n"
     ]
    }
   ],
   "source": [
    "q = disease.And(tumor1)\n",
    "r = q.run()\n",
    "print(r)"
   ]
  },
  {
   "cell_type": "markdown",
   "metadata": {},
   "source": [
    "<font color=blue> A touch over half are primary tumor</font>"
   ]
  },
  {
   "cell_type": "code",
   "execution_count": 7,
   "metadata": {},
   "outputs": [
    {
     "name": "stdout",
     "output_type": "stream",
     "text": [
      "\n",
      "Query: SELECT * FROM gdc-bq-sample.cda_mvp.v3, UNNEST(ResearchSubject) AS _ResearchSubject, UNNEST(_ResearchSubject.Specimen) AS _Specimen WHERE ((_ResearchSubject.primary_disease_type = 'Lung Adenocarcinoma') AND (_Specimen.source_material_type = 'Recurrent Tumor'))\n",
      "Offset: 0\n",
      "Limit: 1000\n",
      "Count: 0\n",
      "More pages: No\n",
      "\n"
     ]
    }
   ],
   "source": [
    "q = disease.And(tumor2)\n",
    "r = q.run()\n",
    "print(r)"
   ]
  },
  {
   "cell_type": "markdown",
   "metadata": {},
   "source": [
    "<font color=blue>Huh.  None of them are recurrent.  Which raises the question, are there ANY recurrent tumors in the system</font>"
   ]
  },
  {
   "cell_type": "code",
   "execution_count": 8,
   "metadata": {},
   "outputs": [
    {
     "name": "stdout",
     "output_type": "stream",
     "text": [
      "\n",
      "Query: SELECT * FROM gdc-bq-sample.cda_mvp.v3, UNNEST(ResearchSubject) AS _ResearchSubject, UNNEST(_ResearchSubject.Specimen) AS _Specimen WHERE (_Specimen.source_material_type = 'Recurrent Tumor')\n",
      "Offset: 0\n",
      "Limit: 1000\n",
      "Count: 1000\n",
      "More pages: Yes\n",
      "\n"
     ]
    }
   ],
   "source": [
    "r = tumor2.run()\n",
    "print(r)"
   ]
  },
  {
   "cell_type": "markdown",
   "metadata": {},
   "source": [
    "<font color=blue> Clearly lots of recurrent tumors, just not from lung adenocarcinoma.  So using a FROM query should identify any cases with recurrent tumors from something else?</font>"
   ]
  },
  {
   "cell_type": "code",
   "execution_count": 9,
   "metadata": {},
   "outputs": [
    {
     "name": "stdout",
     "output_type": "stream",
     "text": [
      "\n",
      "Query: SELECT * FROM (SELECT * FROM gdc-bq-sample.cda_mvp.v3, UNNEST(ResearchSubject) AS _ResearchSubject, UNNEST(_ResearchSubject.Specimen) AS _Specimen WHERE ((_ResearchSubject.primary_disease_type = 'Lung Adenocarcinoma') AND (_Specimen.source_material_type = 'Primary Tumor'))), UNNEST(ResearchSubject) AS _ResearchSubject, UNNEST(_ResearchSubject.Specimen) AS _Specimen WHERE (_Specimen.source_material_type = 'Recurrent Tumor')\n",
      "Offset: 0\n",
      "Limit: 1000\n",
      "Count: 0\n",
      "More pages: No\n",
      "\n"
     ]
    }
   ],
   "source": [
    "q = tumor2.From(disease.And(tumor1))\n",
    "r = q.run()\n",
    "print(r)"
   ]
  },
  {
   "cell_type": "markdown",
   "metadata": {},
   "source": [
    "<font color=blue>That was a bust.  Maybe first finding cases that have both primary and recurring first is a better approach</font>"
   ]
  },
  {
   "cell_type": "code",
   "execution_count": 10,
   "metadata": {},
   "outputs": [
    {
     "name": "stdout",
     "output_type": "stream",
     "text": [
      "\n",
      "Query: SELECT * FROM gdc-bq-sample.cda_mvp.v3, UNNEST(ResearchSubject) AS _ResearchSubject, UNNEST(_ResearchSubject.Specimen) AS _Specimen WHERE ((_Specimen.source_material_type = 'Primary Tumor') AND (_Specimen.source_material_type = 'Recurrent Tumor'))\n",
      "Offset: 0\n",
      "Limit: 1000\n",
      "Count: 0\n",
      "More pages: No\n",
      "\n"
     ]
    }
   ],
   "source": [
    "q = tumor1.And(tumor2)\n",
    "r = q.run()\n",
    "print(r)"
   ]
  },
  {
   "cell_type": "markdown",
   "metadata": {},
   "source": [
    "<font color=blue> So there are no instances of both primary and recurring.  There were other primary and recurring classifications thought</font>"
   ]
  },
  {
   "cell_type": "code",
   "execution_count": null,
   "metadata": {},
   "outputs": [],
   "source": []
  }
 ],
 "metadata": {
  "kernelspec": {
   "display_name": "Python 3",
   "language": "python",
   "name": "python3"
  },
  "language_info": {
   "codemirror_mode": {
    "name": "ipython",
    "version": 3
   },
   "file_extension": ".py",
   "mimetype": "text/x-python",
   "name": "python",
   "nbconvert_exporter": "python",
   "pygments_lexer": "ipython3",
   "version": "3.8.5"
  }
 },
 "nbformat": 4,
 "nbformat_minor": 4
}
