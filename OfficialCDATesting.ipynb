{
 "cells": [
  {
   "cell_type": "markdown",
   "metadata": {},
   "source": [
    "# TDP testing notebook"
   ]
  },
  {
   "cell_type": "markdown",
   "metadata": {},
   "source": [
    "## Jupyter Question 1"
   ]
  },
  {
   "cell_type": "code",
   "execution_count": 24,
   "metadata": {},
   "outputs": [],
   "source": [
    "from cdapython import Q, unique_terms, columns\n",
    "import requests\n",
    "import pprint"
   ]
  },
  {
   "cell_type": "markdown",
   "metadata": {},
   "source": [
    "<font color = blue>Adding the direct query since some of the python results seem odd</font>"
   ]
  },
  {
   "cell_type": "code",
   "execution_count": 3,
   "metadata": {},
   "outputs": [],
   "source": [
    "def runAPIQuery(querystring, limit):\n",
    "    #Using a limit:\n",
    "    if limit is not None:\n",
    "        cdaURL = \"https://cda.cda-dev.broadinstitute.org/api/v1/sql-query/v3?limit={}\".format(str(limit))\n",
    "    else:\n",
    "        cdaURL = 'https://cda.cda-dev.broadinstitute.org/api/v1/sql-query/v3'\n",
    "    headers = {'accept' : 'application/json', 'Content-Type' : 'text/plain'}\n",
    "\n",
    "    request = requests.post(cdaURL, headers = headers, data = querystring)\n",
    "\n",
    "    if request.status_code == 200:\n",
    "        return request.json()\n",
    "    else:\n",
    "        raise Exception (\"Query failed code {}. {}\".format(request.status_code,query))"
   ]
  },
  {
   "cell_type": "markdown",
   "metadata": {},
   "source": [
    "### TEST QUERY:  Find data from TCGA-BRCA with donors over 50 and stage IIIC cancer"
   ]
  },
  {
   "cell_type": "markdown",
   "metadata": {},
   "source": [
    "<font color=blue> Is \"stage IIIC cancer\" tumor stage or tumor grade? </font>"
   ]
  },
  {
   "cell_type": "code",
   "execution_count": 4,
   "metadata": {},
   "outputs": [
    {
     "name": "stderr",
     "output_type": "stream",
     "text": [
      "SELECT DISTINCT(_Diagnosis.tumor_grade) FROM `gdc-bq-sample.cda_mvp.v3`, UNNEST(ResearchSubject) AS _ResearchSubject,UNNEST(_ResearchSubject.Diagnosis) AS _Diagnosis ORDER BY _Diagnosis.tumor_grade\n"
     ]
    },
    {
     "data": {
      "text/plain": [
       "[None,\n",
       " 'G1',\n",
       " 'G2',\n",
       " 'G3',\n",
       " 'G4',\n",
       " 'GB',\n",
       " 'GX',\n",
       " 'High Grade',\n",
       " 'Low Grade',\n",
       " 'Not Reported',\n",
       " 'Unknown',\n",
       " 'not reported']"
      ]
     },
     "execution_count": 4,
     "metadata": {},
     "output_type": "execute_result"
    }
   ],
   "source": [
    "unique_terms('ResearchSubject.Diagnosis.tumor_grade')"
   ]
  },
  {
   "cell_type": "code",
   "execution_count": 5,
   "metadata": {},
   "outputs": [
    {
     "name": "stderr",
     "output_type": "stream",
     "text": [
      "SELECT DISTINCT(_Diagnosis.tumor_stage) FROM `gdc-bq-sample.cda_mvp.v3`, UNNEST(ResearchSubject) AS _ResearchSubject,UNNEST(_ResearchSubject.Diagnosis) AS _Diagnosis ORDER BY _Diagnosis.tumor_stage\n"
     ]
    },
    {
     "data": {
      "text/plain": [
       "[None,\n",
       " '',\n",
       " '1B',\n",
       " '2A',\n",
       " '2B',\n",
       " '3',\n",
       " '4',\n",
       " 'Adverse',\n",
       " 'Favorable',\n",
       " 'FavorableOrIntermediate',\n",
       " 'I',\n",
       " 'I b',\n",
       " 'IA',\n",
       " 'IB',\n",
       " 'IC',\n",
       " 'II',\n",
       " 'II b',\n",
       " 'IIA',\n",
       " 'IIB',\n",
       " 'III',\n",
       " 'IIIA',\n",
       " 'IIIB',\n",
       " 'IIIC',\n",
       " 'IPI:0',\n",
       " 'IPI:1',\n",
       " 'IPI:12',\n",
       " 'IPI:13',\n",
       " 'IPI:14',\n",
       " 'IPI:15',\n",
       " 'IPI:2',\n",
       " 'IPI:23',\n",
       " 'IPI:24',\n",
       " 'IPI:25',\n",
       " 'IPI:3',\n",
       " 'IPI:34',\n",
       " 'IPI:35',\n",
       " 'IPI:4',\n",
       " 'IPI:45',\n",
       " 'IPI:5',\n",
       " 'IV',\n",
       " 'IVA',\n",
       " 'IVB',\n",
       " 'IVa',\n",
       " 'IVb',\n",
       " 'Intermediate',\n",
       " 'IntermediateOrAdverse',\n",
       " 'N/A',\n",
       " 'Normal',\n",
       " 'Not Performed',\n",
       " 'Not Reported',\n",
       " 'Not Reported/ Unknown',\n",
       " 'Not Reported/Unknown',\n",
       " 'PT4apN0',\n",
       " 'Stage 1B',\n",
       " 'Stage I',\n",
       " 'Stage IA',\n",
       " 'Stage IA3',\n",
       " 'Stage IB',\n",
       " 'Stage IC',\n",
       " 'Stage II',\n",
       " 'Stage IIA',\n",
       " 'Stage IIB',\n",
       " 'Stage III',\n",
       " 'Stage IIIA',\n",
       " 'Stage IIIB',\n",
       " 'Stage IIIC',\n",
       " 'Stage IV',\n",
       " 'Stage IVA',\n",
       " 'Stage IVB',\n",
       " 'Stage1',\n",
       " 'T1N0Mx',\n",
       " 'T1aN0M0',\n",
       " 'T2',\n",
       " 'TxNxM1',\n",
       " 'Unknown',\n",
       " 'i',\n",
       " 'i/ii nos',\n",
       " 'ii',\n",
       " 'ii/v',\n",
       " 'iii',\n",
       " 'iii/v',\n",
       " 'iiib',\n",
       " 'iiib/v',\n",
       " 'is',\n",
       " 'iv',\n",
       " 'iv/v',\n",
       " 'na',\n",
       " 'no resection',\n",
       " 'not reported',\n",
       " 'pT1',\n",
       " 'pT1a',\n",
       " 'pT1b',\n",
       " 'pT1pN0',\n",
       " 'pT1pNx',\n",
       " 'pT2 N0',\n",
       " 'pT2, pN2,  pM not applicable',\n",
       " 'pT2, pN2, pM not applicable',\n",
       " 'pT2N0',\n",
       " 'pT2N0Mx',\n",
       " 'pT2N1',\n",
       " 'pT2N2',\n",
       " 'pT2pN0',\n",
       " 'pT2pN2b',\n",
       " 'pT2pNx',\n",
       " 'pT3',\n",
       " 'pT3 N2 M(Not Applicable)',\n",
       " 'pT3a',\n",
       " 'pT3pN0',\n",
       " 'pT3pN2b',\n",
       " 'pT3pNx',\n",
       " 'pT4',\n",
       " 'pT4N0',\n",
       " 'pT4apN0',\n",
       " 'pT4apN2b',\n",
       " 'pT4apN2c',\n",
       " 'stage 0',\n",
       " 'stage 4',\n",
       " 'stage i',\n",
       " 'stage ia',\n",
       " 'stage ib',\n",
       " 'stage ii',\n",
       " 'stage iia',\n",
       " 'stage iib',\n",
       " 'stage iic',\n",
       " 'stage iii',\n",
       " 'stage iiia',\n",
       " 'stage iiib',\n",
       " 'stage iiic',\n",
       " 'stage iv',\n",
       " 'stage iva',\n",
       " 'stage ivb',\n",
       " 'stage ivc',\n",
       " 'stage x',\n",
       " 'u',\n",
       " 'unknown',\n",
       " 'v']"
      ]
     },
     "execution_count": 5,
     "metadata": {},
     "output_type": "execute_result"
    }
   ],
   "source": [
    "unique_terms('ResearchSubject.Diagnosis.tumor_stage')"
   ]
  },
  {
   "cell_type": "markdown",
   "metadata": {},
   "source": [
    "<font color = blue> Clearly tumor_stage, however there are three options:  *IIIC*, *Stage IIIC* and *stage iiic*</font>"
   ]
  },
  {
   "cell_type": "code",
   "execution_count": 6,
   "metadata": {},
   "outputs": [],
   "source": [
    "q1 = Q('ResearchSubject.associated_project = \"TCGA-BRCA\"')\n",
    "q2 = Q('ResearchSubject.Diagnosis.age_at_diagnosis > 50*365')\n",
    "g1 = Q('ResearchSubject.Diagnosis.tumor_stage = \"IIIC\"')\n",
    "g2 = Q('ResearchSubject.Diagnosis.tumor_stage = \"Stage IIIC\"')\n",
    "g3 = Q('ResearchSubject.Diagnosis.tumor_stage = \"stage iiic\"')"
   ]
  },
  {
   "cell_type": "markdown",
   "metadata": {},
   "source": [
    "<font color = blue> So test the tumor stage differences one at a time </font>"
   ]
  },
  {
   "cell_type": "code",
   "execution_count": 7,
   "metadata": {},
   "outputs": [
    {
     "name": "stdout",
     "output_type": "stream",
     "text": [
      "\n",
      "Query: SELECT * FROM gdc-bq-sample.cda_mvp.v3, UNNEST(ResearchSubject) AS _ResearchSubject, UNNEST(_ResearchSubject.Diagnosis) AS _Diagnosis WHERE ((_ResearchSubject.associated_project = 'TCGA-BRCA') AND ((_Diagnosis.age_at_diagnosis > 50*365) AND (_Diagnosis.tumor_stage = 'IIIC')))\n",
      "Offset: 0\n",
      "Limit: 1000\n",
      "Count: 0\n",
      "More pages: No\n",
      "\n"
     ]
    }
   ],
   "source": [
    "q = q1.And(q2.And(g1))\n",
    "r1 = q.run()\n",
    "print(r1)"
   ]
  },
  {
   "cell_type": "code",
   "execution_count": 8,
   "metadata": {},
   "outputs": [
    {
     "name": "stdout",
     "output_type": "stream",
     "text": [
      "\n",
      "Query: SELECT * FROM gdc-bq-sample.cda_mvp.v3, UNNEST(ResearchSubject) AS _ResearchSubject, UNNEST(_ResearchSubject.Diagnosis) AS _Diagnosis WHERE ((_ResearchSubject.associated_project = 'TCGA-BRCA') AND ((_Diagnosis.age_at_diagnosis > 50*365) AND (_Diagnosis.tumor_stage = 'Stage IIIC')))\n",
      "Offset: 0\n",
      "Limit: 1000\n",
      "Count: 0\n",
      "More pages: No\n",
      "\n"
     ]
    }
   ],
   "source": [
    "q = q1.And(q2.And(g2))\n",
    "r2 = q.run()\n",
    "print(r2)"
   ]
  },
  {
   "cell_type": "code",
   "execution_count": 9,
   "metadata": {},
   "outputs": [
    {
     "name": "stdout",
     "output_type": "stream",
     "text": [
      "\n",
      "Query: SELECT * FROM gdc-bq-sample.cda_mvp.v3, UNNEST(ResearchSubject) AS _ResearchSubject, UNNEST(_ResearchSubject.Diagnosis) AS _Diagnosis WHERE ((_ResearchSubject.associated_project = 'TCGA-BRCA') AND ((_Diagnosis.age_at_diagnosis > 50*365) AND (_Diagnosis.tumor_stage = 'stage iiic')))\n",
      "Offset: 0\n",
      "Limit: 1000\n",
      "Count: 45\n",
      "More pages: No\n",
      "\n"
     ]
    }
   ],
   "source": [
    "q = q1.And(q2.And(g3))\n",
    "r3 = q.run()\n",
    "print(r3)"
   ]
  },
  {
   "cell_type": "markdown",
   "metadata": {},
   "source": [
    "<font color = blue> From these results, clearly *stage iiic* is the terminology used </font>"
   ]
  },
  {
   "cell_type": "code",
   "execution_count": 10,
   "metadata": {},
   "outputs": [
    {
     "name": "stdout",
     "output_type": "stream",
     "text": [
      "Stage: stage iiic\tGrade: not reported\tPrimary Diagnosis: Pleomorphic carcinoma\n",
      "\n",
      "Stage: stage iiic\tGrade: not reported\tPrimary Diagnosis: Infiltrating duct carcinoma, NOS\n",
      "\n",
      "Stage: stage iiic\tGrade: not reported\tPrimary Diagnosis: Infiltrating duct carcinoma, NOS\n",
      "\n",
      "Stage: stage iiic\tGrade: not reported\tPrimary Diagnosis: Infiltrating duct carcinoma, NOS\n",
      "\n",
      "Stage: stage iiic\tGrade: not reported\tPrimary Diagnosis: Infiltrating duct carcinoma, NOS\n",
      "\n",
      "Stage: stage iiic\tGrade: not reported\tPrimary Diagnosis: Infiltrating duct carcinoma, NOS\n",
      "\n",
      "Stage: stage iiic\tGrade: not reported\tPrimary Diagnosis: Infiltrating duct carcinoma, NOS\n",
      "\n",
      "Stage: stage iiic\tGrade: not reported\tPrimary Diagnosis: Infiltrating duct carcinoma, NOS\n",
      "\n",
      "Stage: stage iiic\tGrade: not reported\tPrimary Diagnosis: Infiltrating duct carcinoma, NOS\n",
      "\n",
      "Stage: stage iiic\tGrade: not reported\tPrimary Diagnosis: Infiltrating duct carcinoma, NOS\n",
      "\n",
      "Stage: stage iiic\tGrade: not reported\tPrimary Diagnosis: Infiltrating duct carcinoma, NOS\n",
      "\n",
      "Stage: stage iiic\tGrade: not reported\tPrimary Diagnosis: Infiltrating duct carcinoma, NOS\n",
      "\n",
      "Stage: stage iiic\tGrade: not reported\tPrimary Diagnosis: Infiltrating duct carcinoma, NOS\n",
      "\n",
      "Stage: Stage IIIC\tGrade: Not Reported\tPrimary Diagnosis: Infiltrating duct carcinoma, NOS\n",
      "\n",
      "Stage: stage iiic\tGrade: not reported\tPrimary Diagnosis: Lobular carcinoma, NOS\n",
      "\n",
      "Stage: stage iiic\tGrade: not reported\tPrimary Diagnosis: Lobular carcinoma, NOS\n",
      "\n",
      "Stage: stage iiic\tGrade: not reported\tPrimary Diagnosis: Lobular carcinoma, NOS\n",
      "\n",
      "Stage: stage iiic\tGrade: not reported\tPrimary Diagnosis: Lobular carcinoma, NOS\n",
      "\n",
      "Stage: stage iiic\tGrade: not reported\tPrimary Diagnosis: Lobular carcinoma, NOS\n",
      "\n",
      "Stage: stage iiic\tGrade: not reported\tPrimary Diagnosis: Lobular carcinoma, NOS\n",
      "\n",
      "Stage: stage iiic\tGrade: not reported\tPrimary Diagnosis: Lobular carcinoma, NOS\n",
      "\n",
      "Stage: stage iiic\tGrade: not reported\tPrimary Diagnosis: Lobular carcinoma, NOS\n",
      "\n",
      "Stage: stage iiic\tGrade: not reported\tPrimary Diagnosis: Lobular carcinoma, NOS\n",
      "\n",
      "Stage: Stage IIIC\tGrade: Not Reported\tPrimary Diagnosis: Lobular carcinoma, NOS\n",
      "\n",
      "Stage: stage iiic\tGrade: not reported\tPrimary Diagnosis: Infiltrating duct and lobular carcinoma\n",
      "\n",
      "Stage: stage iiic\tGrade: not reported\tPrimary Diagnosis: Infiltrating duct and lobular carcinoma\n",
      "\n",
      "Stage: stage iiic\tGrade: not reported\tPrimary Diagnosis: Infiltrating duct and lobular carcinoma\n",
      "\n",
      "Stage: stage iiic\tGrade: not reported\tPrimary Diagnosis: Infiltrating lobular mixed with other types of carcinoma\n",
      "\n",
      "Stage: stage iiic\tGrade: not reported\tPrimary Diagnosis: Infiltrating duct carcinoma, NOS\n",
      "\n",
      "Stage: stage iiic\tGrade: not reported\tPrimary Diagnosis: Infiltrating duct carcinoma, NOS\n",
      "\n",
      "Stage: stage iiic\tGrade: not reported\tPrimary Diagnosis: Infiltrating duct carcinoma, NOS\n",
      "\n",
      "Stage: stage iiic\tGrade: not reported\tPrimary Diagnosis: Infiltrating duct carcinoma, NOS\n",
      "\n",
      "Stage: stage iiic\tGrade: not reported\tPrimary Diagnosis: Infiltrating duct carcinoma, NOS\n",
      "\n",
      "Stage: stage iiic\tGrade: not reported\tPrimary Diagnosis: Infiltrating duct carcinoma, NOS\n",
      "\n",
      "Stage: Stage IIIC\tGrade: Not Reported\tPrimary Diagnosis: Infiltrating duct carcinoma, NOS\n",
      "\n",
      "Stage: stage iiic\tGrade: not reported\tPrimary Diagnosis: Infiltrating duct carcinoma, NOS\n",
      "\n",
      "Stage: Stage IIIC\tGrade: Not Reported\tPrimary Diagnosis: Infiltrating duct carcinoma, NOS\n",
      "\n",
      "Stage: stage iiic\tGrade: not reported\tPrimary Diagnosis: Lobular carcinoma, NOS\n",
      "\n",
      "Stage: stage iiic\tGrade: not reported\tPrimary Diagnosis: Lobular carcinoma, NOS\n",
      "\n",
      "Stage: stage iiic\tGrade: not reported\tPrimary Diagnosis: Lobular carcinoma, NOS\n",
      "\n",
      "Stage: stage iiic\tGrade: not reported\tPrimary Diagnosis: Lobular carcinoma, NOS\n",
      "\n",
      "Stage: stage iiic\tGrade: not reported\tPrimary Diagnosis: Lobular carcinoma, NOS\n",
      "\n",
      "Stage: stage iiic\tGrade: not reported\tPrimary Diagnosis: Lobular carcinoma, NOS\n",
      "\n",
      "Stage: stage iiic\tGrade: not reported\tPrimary Diagnosis: Lobular carcinoma, NOS\n",
      "\n",
      "Stage: stage iiic\tGrade: not reported\tPrimary Diagnosis: Lobular carcinoma, NOS\n",
      "\n",
      "Stage: stage iiic\tGrade: not reported\tPrimary Diagnosis: Lobular carcinoma, NOS\n",
      "\n",
      "Stage: stage iiic\tGrade: not reported\tPrimary Diagnosis: Lobular carcinoma, NOS\n",
      "\n",
      "Stage: stage iiic\tGrade: not reported\tPrimary Diagnosis: Lobular carcinoma, NOS\n",
      "\n",
      "Stage: stage iiic\tGrade: not reported\tPrimary Diagnosis: Lobular carcinoma, NOS\n",
      "\n"
     ]
    }
   ],
   "source": [
    "for patient in r3:\n",
    "    for researchsubject in patient['ResearchSubject']:\n",
    "        for rs in researchsubject['Diagnosis']:\n",
    "            print((\"Stage: %s\\tGrade: %s\\tPrimary Diagnosis: %s\\n\") % (rs['tumor_stage'], rs['tumor_grade'], rs['primary_diagnosis']))"
   ]
  },
  {
   "cell_type": "markdown",
   "metadata": {},
   "source": [
    "<font color=blue> So then the last step would be to see what data are associcated wtih these cases.  It looks like either File.data_type or File.data_category would do<font>"
   ]
  },
  {
   "cell_type": "code",
   "execution_count": null,
   "metadata": {},
   "outputs": [],
   "source": [
    "for patient in r3:\n",
    "    for subject in patient['ResearchSubject']:\n",
    "        for specimen in subject['Specimen']:\n",
    "            for file in specimen['File']:\n",
    "                print((\"Data Type: %s\\t\\tData Category: %s\\n\") % (file['data_type'], file['data_category']))\n"
   ]
  },
  {
   "cell_type": "markdown",
   "metadata": {},
   "source": [
    "## Jupyter Test Question 2\n",
    "### Find data from all patients who have been treated with \"Radiation Therapy, NOS\" and have both genomic and proteomic data."
   ]
  },
  {
   "cell_type": "markdown",
   "metadata": {},
   "source": [
    "<font color=blue> Find out what field has \"Radiation Therapy, NOS\" as a possible value<font>"
   ]
  },
  {
   "cell_type": "code",
   "execution_count": 15,
   "metadata": {},
   "outputs": [
    {
     "name": "stderr",
     "output_type": "stream",
     "text": [
      "SELECT DISTINCT(_Treatment.type) FROM `gdc-bq-sample.cda_mvp.v3`, UNNEST(ResearchSubject) AS _ResearchSubject,UNNEST(_ResearchSubject.Diagnosis) AS _Diagnosis,UNNEST(_Diagnosis.Treatment) AS _Treatment ORDER BY _Treatment.type\n"
     ]
    },
    {
     "data": {
      "text/plain": [
       "[None,\n",
       " 'Ablation, Radiofrequency',\n",
       " 'Brachytherapy, High Dose',\n",
       " 'Brachytherapy, Low Dose',\n",
       " 'Chemotherapy',\n",
       " 'Hormone Therapy',\n",
       " 'Immunotherapy (Including Vaccines)',\n",
       " 'Pharmaceutical Therapy, NOS',\n",
       " 'Radiation Therapy, NOS',\n",
       " 'Radiation, 3D Conformal',\n",
       " 'Radiation, External Beam',\n",
       " 'Radiation, Intensity-Modulated Radiotherapy',\n",
       " 'Radiation, Proton Beam',\n",
       " 'Stem Cell Transplantation, Allogeneic',\n",
       " 'Stem Cell Transplantation, Autologous',\n",
       " 'Stereotactic Radiosurgery',\n",
       " 'Surgery',\n",
       " 'Targeted Molecular Therapy']"
      ]
     },
     "execution_count": 15,
     "metadata": {},
     "output_type": "execute_result"
    }
   ],
   "source": [
    "unique_terms('ResearchSubject.Diagnosis.Treatment.type')"
   ]
  },
  {
   "cell_type": "markdown",
   "metadata": {},
   "source": [
    "<font color=blue>Just out of curiosity, how many systems are there?</font>"
   ]
  },
  {
   "cell_type": "code",
   "execution_count": 16,
   "metadata": {},
   "outputs": [
    {
     "name": "stderr",
     "output_type": "stream",
     "text": [
      "SELECT DISTINCT(_identifier.system) FROM `gdc-bq-sample.cda_mvp.v3`, UNNEST(ResearchSubject) AS _ResearchSubject,UNNEST(_ResearchSubject.Specimen) AS _Specimen,UNNEST(_Specimen.identifier) AS _identifier ORDER BY _identifier.system\n"
     ]
    },
    {
     "data": {
      "text/plain": [
       "['GDC', 'PDC']"
      ]
     },
     "execution_count": 16,
     "metadata": {},
     "output_type": "execute_result"
    }
   ],
   "source": [
    "unique_terms('ResearchSubject.Specimen.identifier.system')"
   ]
  },
  {
   "cell_type": "markdown",
   "metadata": {},
   "source": [
    "<font color = blue> How many at each node individuallyl?</font>"
   ]
  },
  {
   "cell_type": "code",
   "execution_count": 17,
   "metadata": {},
   "outputs": [],
   "source": [
    "treatment1 = Q('ResearchSubject.Diagnosis.Treatment.type = \"Radiation Therapy, NOS\"')\n",
    "site1 = Q('ResearchSubject.Specimen.identifier.system = \"GDC\"')\n",
    "site2 = Q('ResearchSubject.Specimen.identifier.system = \"PDC\"')"
   ]
  },
  {
   "cell_type": "code",
   "execution_count": 18,
   "metadata": {},
   "outputs": [
    {
     "name": "stdout",
     "output_type": "stream",
     "text": [
      "\n",
      "Query: SELECT * FROM gdc-bq-sample.cda_mvp.v3, UNNEST(ResearchSubject) AS _ResearchSubject, UNNEST(_ResearchSubject.Diagnosis) AS _Diagnosis, UNNEST(_Diagnosis.Treatment) AS _Treatment, UNNEST(_ResearchSubject.Specimen) AS _Specimen, UNNEST(_Specimen.identifier) AS _identifier WHERE ((_Treatment.type = 'Radiation Therapy, NOS') AND (_identifier.system = 'GDC'))\n",
      "Offset: 0\n",
      "Limit: 1000\n",
      "Count: 1000\n",
      "More pages: Yes\n",
      "\n"
     ]
    }
   ],
   "source": [
    "gdc = treatment1.And(site1)\n",
    "r = gdc.run()\n",
    "print(r)"
   ]
  },
  {
   "cell_type": "markdown",
   "metadata": {},
   "source": [
    "<font color=blue> Clearly cases at GDC</font>"
   ]
  },
  {
   "cell_type": "code",
   "execution_count": 19,
   "metadata": {},
   "outputs": [
    {
     "name": "stdout",
     "output_type": "stream",
     "text": [
      "\n",
      "Query: SELECT * FROM gdc-bq-sample.cda_mvp.v3, UNNEST(ResearchSubject) AS _ResearchSubject, UNNEST(_ResearchSubject.Diagnosis) AS _Diagnosis, UNNEST(_Diagnosis.Treatment) AS _Treatment, UNNEST(_ResearchSubject.Specimen) AS _Specimen, UNNEST(_Specimen.identifier) AS _identifier WHERE ((_Treatment.type = 'Radiation Therapy, NOS') AND (_identifier.system = 'PDC'))\n",
      "Offset: 0\n",
      "Limit: 1000\n",
      "Count: 0\n",
      "More pages: No\n",
      "\n"
     ]
    }
   ],
   "source": [
    "pdc = treatment1.And(site2)\n",
    "r = pdc.run()\n",
    "print(r)"
   ]
  },
  {
   "cell_type": "markdown",
   "metadata": {},
   "source": [
    "<font color=blue> And clearly no cases at PDC.  Which means we need to get all the cases at GDC and see if any match to PDC</font>"
   ]
  },
  {
   "cell_type": "code",
   "execution_count": 7,
   "metadata": {},
   "outputs": [
    {
     "name": "stdout",
     "output_type": "stream",
     "text": [
      "\n",
      "Query: SELECT * FROM gdc-bq-sample.cda_mvp.v3, UNNEST(ResearchSubject) AS _ResearchSubject, UNNEST(_ResearchSubject.Diagnosis) AS _Diagnosis, UNNEST(_Diagnosis.Treatment) AS _Treatment, UNNEST(_ResearchSubject.Specimen) AS _Specimen, UNNEST(_Specimen.identifier) AS _identifier WHERE ((_Treatment.type = 'Radiation Therapy, NOS') AND (_identifier.system = 'GDC'))\n",
      "Offset: 0\n",
      "Limit: 1000\n",
      "Count: 1000\n",
      "More pages: Yes\n",
      "\n"
     ]
    }
   ],
   "source": [
    "q1 = treatment1.And(site1)\n",
    "r1 = q1.run()\n",
    "print(r1)"
   ]
  },
  {
   "cell_type": "code",
   "execution_count": 8,
   "metadata": {},
   "outputs": [
    {
     "name": "stdout",
     "output_type": "stream",
     "text": [
      "\n",
      "Query: SELECT * FROM gdc-bq-sample.cda_mvp.v3, UNNEST(ResearchSubject) AS _ResearchSubject, UNNEST(_ResearchSubject.Specimen) AS _Specimen, UNNEST(_Specimen.identifier) AS _identifier, UNNEST(_ResearchSubject.Diagnosis) AS _Diagnosis, UNNEST(_Diagnosis.Treatment) AS _Treatment WHERE ((_identifier.system = 'GDC') AND (_Treatment.type = 'Radiation Therapy, NOS'))\n",
      "Offset: 0\n",
      "Limit: 1000\n",
      "Count: 1000\n",
      "More pages: Yes\n",
      "\n"
     ]
    }
   ],
   "source": [
    "q2 = site1.And(treatment1)\n",
    "r2 = q2.run()\n",
    "print(r2)"
   ]
  },
  {
   "cell_type": "markdown",
   "metadata": {},
   "source": [
    "<font color=blue> A bug causes a 502 Bad Gateway error unless a limit is set</font>"
   ]
  },
  {
   "cell_type": "code",
   "execution_count": 15,
   "metadata": {},
   "outputs": [
    {
     "name": "stdout",
     "output_type": "stream",
     "text": [
      "\n",
      "Query: SELECT * FROM (SELECT * FROM gdc-bq-sample.cda_mvp.v3, UNNEST(ResearchSubject) AS _ResearchSubject, UNNEST(_ResearchSubject.Diagnosis) AS _Diagnosis, UNNEST(_Diagnosis.Treatment) AS _Treatment, UNNEST(_ResearchSubject.Specimen) AS _Specimen, UNNEST(_Specimen.identifier) AS _identifier WHERE ((_Treatment.type = 'Radiation Therapy, NOS') AND (_identifier.system = 'GDC'))), UNNEST(ResearchSubject) AS _ResearchSubject, UNNEST(_ResearchSubject.Specimen) AS _Specimen, UNNEST(_Specimen.identifier) AS _identifier WHERE (_identifier.system = 'PDC')\n",
      "Offset: 0\n",
      "Limit: 100\n",
      "Count: 100\n",
      "More pages: Yes\n",
      "\n"
     ]
    }
   ],
   "source": [
    "q3 = site2.From(treatment1.And(site1))\n",
    "limit = 500\n",
    "r3 = q3.run(limit = limit)\n",
    "print(r3)"
   ]
  },
  {
   "cell_type": "markdown",
   "metadata": {},
   "source": [
    "<font color = blue> So the query works, the question is how many patients there are, so need to loop through the results</font>"
   ]
  },
  {
   "cell_type": "code",
   "execution_count": 18,
   "metadata": {},
   "outputs": [
    {
     "name": "stdout",
     "output_type": "stream",
     "text": [
      "<bound method Result.next_page of <cdapython.Result object at 0x7faf409d0a60>>\n"
     ]
    }
   ],
   "source": [
    "print(str(r3.next_page))"
   ]
  },
  {
   "cell_type": "code",
   "execution_count": null,
   "metadata": {},
   "outputs": [],
   "source": [
    "rscount = 0\n",
    "while r3.count == limit:\n",
    "    rscount = rscount + r3.count\n",
    "    r3 = r3.next_page()\n",
    "    print((\"Current rscount: %s \\tNext page: %s\")%(str(rscount),r3.next_page))\n",
    "    \n",
    "# r3.count<100 it means we're on the last iteration, so just add it\n",
    "rscount = rscount.r3.count\n",
    "\n",
    "print((\"Final Count: %s\\n\") % (str(rscount)))    "
   ]
  },
  {
   "cell_type": "markdown",
   "metadata": {},
   "source": [
    "<font color = blue>Pulled the plug after it was at over 10K and showign no signs of stopping.  Maybe direct SQL to find out the count?</font>"
   ]
  },
  {
   "cell_type": "code",
   "execution_count": 25,
   "metadata": {},
   "outputs": [
    {
     "name": "stdout",
     "output_type": "stream",
     "text": [
      "{'next_url': None,\n",
      " 'previous_url': None,\n",
      " 'query_sql': 'SELECT COUNT(DISTINCT _ResearchSubject.id) as rsidcount FROM '\n",
      "              'gdc-bq-sample.cda_mvp.v3,UNNEST(ResearchSubject) AS '\n",
      "              '_ResearchSubject, UNNEST(_ResearchSubject.Diagnosis) AS '\n",
      "              '_Diagnosis, UNNEST(_Diagnosis.Treatment) AS _Treatment WHERE '\n",
      "              '_Treatment.type = \"Radiation Therapy, NOS\"',\n",
      " 'result': [{'rsidcount': 11507}]}\n"
     ]
    }
   ],
   "source": [
    "query = (\n",
    "    'SELECT COUNT(DISTINCT _ResearchSubject.id) as rsidcount FROM gdc-bq-sample.cda_mvp.v3,'\n",
    "     'UNNEST(ResearchSubject) AS _ResearchSubject, UNNEST(_ResearchSubject.Diagnosis) AS _Diagnosis, UNNEST(_Diagnosis.Treatment) AS _Treatment '\n",
    "     'WHERE _Treatment.type = \"Radiation Therapy, NOS\"'\n",
    ")\n",
    "result = runAPIQuery(query, None)\n",
    "pprint.pprint(result)"
   ]
  },
  {
   "cell_type": "markdown",
   "metadata": {},
   "source": [
    "<font color = blue>Well, almost 12K research subjects with this treatment, how many at GDC and PDC?</font>"
   ]
  },
  {
   "cell_type": "code",
   "execution_count": 28,
   "metadata": {},
   "outputs": [
    {
     "name": "stdout",
     "output_type": "stream",
     "text": [
      "{'next_url': None,\n",
      " 'previous_url': None,\n",
      " 'query_sql': 'SELECT COUNT(DISTINCT _ResearchSubject.id) as rsidcount FROM '\n",
      "              'gdc-bq-sample.cda_mvp.v3, UNNEST(ResearchSubject) AS '\n",
      "              '_ResearchSubject, UNNEST(_ResearchSubject.Diagnosis) AS '\n",
      "              '_Diagnosis, UNNEST(_Diagnosis.Treatment) AS _Treatment, '\n",
      "              'UNNEST(_ResearchSubject.Specimen) AS _Specimen, '\n",
      "              'UNNEST(_Specimen.identifier) as _identifier WHERE '\n",
      "              '_Treatment.type = \"Radiation Therapy, NOS\" AND '\n",
      "              '_identifier.system = \"GDC\"',\n",
      " 'result': [{'rsidcount': 11507}]}\n",
      "{'next_url': None,\n",
      " 'previous_url': None,\n",
      " 'query_sql': 'SELECT COUNT(DISTINCT _ResearchSubject.id) as rsidcount FROM '\n",
      "              'gdc-bq-sample.cda_mvp.v3, UNNEST(ResearchSubject) AS '\n",
      "              '_ResearchSubject, UNNEST(_ResearchSubject.Diagnosis) AS '\n",
      "              '_Diagnosis, UNNEST(_Diagnosis.Treatment) AS _Treatment, '\n",
      "              'UNNEST(_ResearchSubject.Specimen) AS _Specimen, '\n",
      "              'UNNEST(_Specimen.identifier) as _identifier WHERE '\n",
      "              '_Treatment.type = \"Radiation Therapy, NOS\" AND '\n",
      "              '_identifier.system = \"PDC\"',\n",
      " 'result': [{'rsidcount': 0}]}\n"
     ]
    }
   ],
   "source": [
    "gdcquery = (\n",
    "    'SELECT COUNT(DISTINCT _ResearchSubject.id) as rsidcount FROM gdc-bq-sample.cda_mvp.v3, '\n",
    "    'UNNEST(ResearchSubject) AS _ResearchSubject, UNNEST(_ResearchSubject.Diagnosis) AS _Diagnosis, UNNEST(_Diagnosis.Treatment) AS _Treatment, '\n",
    "    'UNNEST(_ResearchSubject.Specimen) AS _Specimen, UNNEST(_Specimen.identifier) as _identifier WHERE _Treatment.type = \"Radiation Therapy, NOS\" '\n",
    "    'AND _identifier.system = \"GDC\"'\n",
    ")\n",
    "\n",
    "pdcquery = (\n",
    "    'SELECT COUNT(DISTINCT _ResearchSubject.id) as rsidcount FROM gdc-bq-sample.cda_mvp.v3, '\n",
    "    'UNNEST(ResearchSubject) AS _ResearchSubject, UNNEST(_ResearchSubject.Diagnosis) AS _Diagnosis, UNNEST(_Diagnosis.Treatment) AS _Treatment, '\n",
    "    'UNNEST(_ResearchSubject.Specimen) AS _Specimen, UNNEST(_Specimen.identifier) as _identifier WHERE _Treatment.type = \"Radiation Therapy, NOS\" '\n",
    "    'AND _identifier.system = \"PDC\"'\n",
    ")\n",
    "\n",
    "gdcresult = runAPIQuery(gdcquery, None)\n",
    "pprint.pprint(gdcresult)\n",
    "pdcresult = runAPIQuery(pdcquery, None)\n",
    "pprint.pprint(pdcresult)"
   ]
  },
  {
   "cell_type": "markdown",
   "metadata": {},
   "source": [
    "<font color=blue> Which confirms that all the cases are at GDC.  So, the question then becomes, so any of those ResearchSubject IDs have any record at PDC?</font>"
   ]
  },
  {
   "cell_type": "code",
   "execution_count": 29,
   "metadata": {},
   "outputs": [
    {
     "name": "stdout",
     "output_type": "stream",
     "text": [
      "{'next_url': None,\n",
      " 'previous_url': None,\n",
      " 'query_sql': 'SELECT COUNT(DISTINCT _ResearchSubject.id) FROM (SELECT * FROM '\n",
      "              'gdc-bq-sample.cda_mvp.v3, UNNEST(ResearchSubject) AS '\n",
      "              '_ResearchSubject, UNNEST(_ResearchSubject.Diagnosis) AS '\n",
      "              '_Diagnosis, UNNEST(_Diagnosis.Treatment) AS _Treatment, '\n",
      "              'UNNEST(_ResearchSubject.Specimen) AS _Specimen, '\n",
      "              'UNNEST(_Specimen.identifier) as _identifier WHERE '\n",
      "              '((_Treatment.type = \"Radiation Therapy, NOS\") AND '\n",
      "              '(_identifier.system = \"GDC\"))), UNNEST(ResearchSubject) AS '\n",
      "              '_ResearchSubject, UNNEST(_ResearchSubject.identifier) AS '\n",
      "              '_identifier WHERE (_identifier.system = \"PDC\")',\n",
      " 'result': [{'': 369}]}\n"
     ]
    }
   ],
   "source": [
    "comboquery = (\n",
    "    'SELECT COUNT(DISTINCT _ResearchSubject.id) FROM (SELECT * FROM gdc-bq-sample.cda_mvp.v3, '\n",
    "    'UNNEST(ResearchSubject) AS _ResearchSubject, UNNEST(_ResearchSubject.Diagnosis) AS _Diagnosis, UNNEST(_Diagnosis.Treatment) AS _Treatment, '\n",
    "    'UNNEST(_ResearchSubject.Specimen) AS _Specimen, UNNEST(_Specimen.identifier) as _identifier '\n",
    "    'WHERE ((_Treatment.type = \"Radiation Therapy, NOS\") AND (_identifier.system = \"GDC\"))), '\n",
    "    'UNNEST(ResearchSubject) AS _ResearchSubject, UNNEST(_ResearchSubject.identifier) AS _identifier WHERE (_identifier.system = \"PDC\")'\n",
    ")\n",
    "\n",
    "comboresult = runAPIQuery(comboquery, None)\n",
    "pprint.pprint(comboresult)"
   ]
  },
  {
   "cell_type": "markdown",
   "metadata": {},
   "source": [
    "<font color = blue> So it looks like there are 369 research subjects that have data in both GDC and PDC.  I'm hoping this is what would be seen if the bad gateway error hadn't been present</font>"
   ]
  },
  {
   "cell_type": "markdown",
   "metadata": {},
   "source": [
    "# Test Query 3\n",
    "## Find data from all subjects with lung adenocarcinomas who have both primary and recurrent tumors"
   ]
  },
  {
   "cell_type": "markdown",
   "metadata": {},
   "source": [
    "<font color=blue> Find out where \"lung adenocarciomas\" is a valid value"
   ]
  },
  {
   "cell_type": "code",
   "execution_count": 2,
   "metadata": {},
   "outputs": [
    {
     "name": "stderr",
     "output_type": "stream",
     "text": [
      "SELECT DISTINCT(_Specimen.primary_disease_type) FROM `gdc-bq-sample.cda_mvp.v3`, UNNEST(ResearchSubject) AS _ResearchSubject,UNNEST(_ResearchSubject.Specimen) AS _Specimen ORDER BY _Specimen.primary_disease_type\n"
     ]
    },
    {
     "data": {
      "text/plain": [
       "[None,\n",
       " 'Acinar Cell Neoplasms',\n",
       " 'Adenomas and Adenocarcinomas',\n",
       " 'Adnexal and Skin Appendage Neoplasms',\n",
       " 'Basal Cell Neoplasms',\n",
       " 'Blood Vessel Tumors',\n",
       " 'Breast Invasive Carcinoma',\n",
       " 'Chromophobe Renal Cell Carcinoma',\n",
       " 'Chronic Myeloproliferative Disorders',\n",
       " 'Clear Cell Renal Cell Carcinoma',\n",
       " 'Colon Adenocarcinoma',\n",
       " 'Complex Epithelial Neoplasms',\n",
       " 'Complex Mixed and Stromal Neoplasms',\n",
       " 'Cystic, Mucinous and Serous Neoplasms',\n",
       " 'Ductal and Lobular Neoplasms',\n",
       " 'Early Onset Gastric Cancer',\n",
       " 'Epithelial Neoplasms, NOS',\n",
       " 'Fibroepithelial Neoplasms',\n",
       " 'Fibromatous Neoplasms',\n",
       " 'Germ Cell Neoplasms',\n",
       " 'Giant Cell Tumors',\n",
       " 'Glioblastoma',\n",
       " 'Gliomas',\n",
       " 'Granular Cell Tumors and Alveolar Soft Part Sarcomas',\n",
       " 'Head and Neck Squamous Cell Carcinoma',\n",
       " 'Hepatocellular Carcinoma ',\n",
       " 'Hodgkin Lymphoma',\n",
       " 'Immunoproliferative Diseases',\n",
       " 'Leukemias, NOS',\n",
       " 'Lipomatous Neoplasms',\n",
       " 'Lung Adenocarcinoma',\n",
       " 'Lung Squamous Cell Carcinoma',\n",
       " 'Lymphatic Vessel Tumors',\n",
       " 'Lymphoid Leukemias',\n",
       " 'Malignant Lymphomas, NOS or Diffuse',\n",
       " 'Mast Cell Tumors',\n",
       " 'Mature B-Cell Lymphomas',\n",
       " 'Mature T- and NK-Cell Lymphomas',\n",
       " 'Meningiomas',\n",
       " 'Mesonephromas',\n",
       " 'Mesothelial Neoplasms',\n",
       " 'Miscellaneous Bone Tumors',\n",
       " 'Miscellaneous Tumors',\n",
       " 'Mucoepidermoid Neoplasms',\n",
       " 'Myelodysplastic Syndromes',\n",
       " 'Myeloid Leukemias',\n",
       " 'Myomatous Neoplasms',\n",
       " 'Myxomatous Neoplasms',\n",
       " 'Neoplasms of Histiocytes and Accessory Lymphoid Cells',\n",
       " 'Neoplasms, NOS',\n",
       " 'Nerve Sheath Tumors',\n",
       " 'Neuroepitheliomatous Neoplasms',\n",
       " 'Nevi and Melanomas',\n",
       " 'Not Applicable',\n",
       " 'Not Reported',\n",
       " 'Odontogenic Tumors',\n",
       " 'Oral Squamous Cell Carcinoma',\n",
       " 'Osseous and Chondromatous Neoplasms',\n",
       " 'Other',\n",
       " 'Other Leukemias',\n",
       " 'Ovarian Serous Cystadenocarcinoma',\n",
       " 'Pancreatic Ductal Adenocarcinoma',\n",
       " 'Papillary Renal Cell Carcinoma',\n",
       " 'Paragangliomas and Glomus Tumors',\n",
       " 'Pediatric/AYA Brain Tumors',\n",
       " 'Plasma Cell Tumors',\n",
       " 'Precursor Cell Lymphoblastic Lymphoma',\n",
       " 'Rectum Adenocarcinoma',\n",
       " 'Soft Tissue Tumors and Sarcomas, NOS',\n",
       " 'Specialized Gonadal Neoplasms',\n",
       " 'Squamous Cell Neoplasms',\n",
       " 'Synovial-like Neoplasms',\n",
       " 'Thymic Epithelial Neoplasms',\n",
       " 'Transitional Cell Papillomas and Carcinomas',\n",
       " 'Trophoblastic neoplasms',\n",
       " 'Unknown',\n",
       " 'Uterine Corpus Endometrial Carcinoma']"
      ]
     },
     "execution_count": 2,
     "metadata": {},
     "output_type": "execute_result"
    }
   ],
   "source": [
    "unique_terms('ResearchSubject.Specimen.primary_disease_type')"
   ]
  },
  {
   "cell_type": "code",
   "execution_count": 3,
   "metadata": {},
   "outputs": [
    {
     "name": "stderr",
     "output_type": "stream",
     "text": [
      "SELECT DISTINCT(_ResearchSubject.primary_disease_type) FROM `gdc-bq-sample.cda_mvp.v3`, UNNEST(ResearchSubject) AS _ResearchSubject ORDER BY _ResearchSubject.primary_disease_type\n"
     ]
    },
    {
     "data": {
      "text/plain": [
       "[None,\n",
       " 'Acinar Cell Neoplasms',\n",
       " 'Adenomas and Adenocarcinomas',\n",
       " 'Adnexal and Skin Appendage Neoplasms',\n",
       " 'Basal Cell Neoplasms',\n",
       " 'Blood Vessel Tumors',\n",
       " 'Breast Invasive Carcinoma',\n",
       " 'Chromophobe Renal Cell Carcinoma',\n",
       " 'Chronic Myeloproliferative Disorders',\n",
       " 'Clear Cell Renal Cell Carcinoma',\n",
       " 'Colon Adenocarcinoma',\n",
       " 'Complex Epithelial Neoplasms',\n",
       " 'Complex Mixed and Stromal Neoplasms',\n",
       " 'Cystic, Mucinous and Serous Neoplasms',\n",
       " 'Ductal and Lobular Neoplasms',\n",
       " 'Early Onset Gastric Cancer',\n",
       " 'Epithelial Neoplasms, NOS',\n",
       " 'Fibroepithelial Neoplasms',\n",
       " 'Fibromatous Neoplasms',\n",
       " 'Germ Cell Neoplasms',\n",
       " 'Giant Cell Tumors',\n",
       " 'Glioblastoma',\n",
       " 'Gliomas',\n",
       " 'Granular Cell Tumors and Alveolar Soft Part Sarcomas',\n",
       " 'Head and Neck Squamous Cell Carcinoma',\n",
       " 'Hepatocellular Carcinoma ',\n",
       " 'Hodgkin Lymphoma',\n",
       " 'Immunoproliferative Diseases',\n",
       " 'Leukemias, NOS',\n",
       " 'Lipomatous Neoplasms',\n",
       " 'Lung Adenocarcinoma',\n",
       " 'Lung Squamous Cell Carcinoma',\n",
       " 'Lymphatic Vessel Tumors',\n",
       " 'Lymphoid Leukemias',\n",
       " 'Malignant Lymphomas, NOS or Diffuse',\n",
       " 'Mast Cell Tumors',\n",
       " 'Mature B-Cell Lymphomas',\n",
       " 'Mature T- and NK-Cell Lymphomas',\n",
       " 'Meningiomas',\n",
       " 'Mesonephromas',\n",
       " 'Mesothelial Neoplasms',\n",
       " 'Miscellaneous Bone Tumors',\n",
       " 'Miscellaneous Tumors',\n",
       " 'Mucoepidermoid Neoplasms',\n",
       " 'Myelodysplastic Syndromes',\n",
       " 'Myeloid Leukemias',\n",
       " 'Myomatous Neoplasms',\n",
       " 'Myxomatous Neoplasms',\n",
       " 'Neoplasms of Histiocytes and Accessory Lymphoid Cells',\n",
       " 'Neoplasms, NOS',\n",
       " 'Nerve Sheath Tumors',\n",
       " 'Neuroepitheliomatous Neoplasms',\n",
       " 'Nevi and Melanomas',\n",
       " 'Not Applicable',\n",
       " 'Not Reported',\n",
       " 'Odontogenic Tumors',\n",
       " 'Oral Squamous Cell Carcinoma',\n",
       " 'Osseous and Chondromatous Neoplasms',\n",
       " 'Other',\n",
       " 'Other Leukemias',\n",
       " 'Ovarian Serous Cystadenocarcinoma',\n",
       " 'Pancreatic Ductal Adenocarcinoma',\n",
       " 'Papillary Renal Cell Carcinoma',\n",
       " 'Paragangliomas and Glomus Tumors',\n",
       " 'Pediatric/AYA Brain Tumors',\n",
       " 'Plasma Cell Tumors',\n",
       " 'Precursor Cell Lymphoblastic Lymphoma',\n",
       " 'Rectum Adenocarcinoma',\n",
       " 'Soft Tissue Tumors and Sarcomas, NOS',\n",
       " 'Specialized Gonadal Neoplasms',\n",
       " 'Squamous Cell Neoplasms',\n",
       " 'Synovial-like Neoplasms',\n",
       " 'Thymic Epithelial Neoplasms',\n",
       " 'Transitional Cell Papillomas and Carcinomas',\n",
       " 'Trophoblastic neoplasms',\n",
       " 'Unknown',\n",
       " 'Uterine Corpus Endometrial Carcinoma']"
      ]
     },
     "execution_count": 3,
     "metadata": {},
     "output_type": "execute_result"
    }
   ],
   "source": [
    "unique_terms('ResearchSubject.primary_disease_type')"
   ]
  },
  {
   "cell_type": "markdown",
   "metadata": {},
   "source": [
    "<font color=blue>  So this exists in both ResearchSubject.primary_disease_type and ResearchSubject.Sample.primary_disease_type.  Since we're intersted in patients, not samples, using ResearchSubject.primary_disease_type seems appropriate.</font>\n",
    "\n",
    "<font color=blue> So the next step is to figure out where primary and recurring tumors are identified.  There's nothign at the ResearchSubject level however Sample has source_material_type which seems likely</font>"
   ]
  },
  {
   "cell_type": "code",
   "execution_count": 30,
   "metadata": {},
   "outputs": [
    {
     "name": "stderr",
     "output_type": "stream",
     "text": [
      "SELECT DISTINCT(_Specimen.source_material_type) FROM `gdc-bq-sample.cda_mvp.v3`, UNNEST(ResearchSubject) AS _ResearchSubject,UNNEST(_ResearchSubject.Specimen) AS _Specimen ORDER BY _Specimen.source_material_type\n"
     ]
    },
    {
     "data": {
      "text/plain": [
       "['Additional - New Primary',\n",
       " 'Additional Metastatic',\n",
       " 'Blood Derived Cancer - Bone Marrow',\n",
       " 'Blood Derived Cancer - Bone Marrow, Post-treatment',\n",
       " 'Blood Derived Cancer - Peripheral Blood',\n",
       " 'Blood Derived Cancer - Peripheral Blood, Post-treatment',\n",
       " 'Blood Derived Normal',\n",
       " 'Bone Marrow Normal',\n",
       " 'Buccal Cell Normal',\n",
       " 'Cell Lines',\n",
       " 'Control Analyte',\n",
       " 'DNA',\n",
       " 'Expanded Next Generation Cancer Model',\n",
       " 'FFPE Scrolls',\n",
       " 'Fibroblasts from Bone Marrow Normal',\n",
       " 'Granulocytes',\n",
       " 'Lymphoid Normal',\n",
       " 'Metastatic',\n",
       " 'Mononuclear Cells from Bone Marrow Normal',\n",
       " 'Neoplasms of Uncertain and Unknown Behavior',\n",
       " 'Next Generation Cancer Model',\n",
       " 'Normal',\n",
       " 'Normal Adjacent Tissue',\n",
       " 'Not Reported',\n",
       " 'Post neo-adjuvant therapy',\n",
       " 'Primary Blood Derived Cancer - Bone Marrow',\n",
       " 'Primary Blood Derived Cancer - Peripheral Blood',\n",
       " 'Primary Tumor',\n",
       " 'Primary Xenograft Tissue',\n",
       " 'Recurrent Blood Derived Cancer - Bone Marrow',\n",
       " 'Recurrent Blood Derived Cancer - Peripheral Blood',\n",
       " 'Recurrent Tumor',\n",
       " 'Slides',\n",
       " 'Solid Tissue Normal',\n",
       " 'Tumor',\n",
       " 'Unknown',\n",
       " 'Xenograft',\n",
       " 'Xenograft Tissue']"
      ]
     },
     "execution_count": 30,
     "metadata": {},
     "output_type": "execute_result"
    }
   ],
   "source": [
    "unique_terms('ResearchSubject.Specimen.source_material_type')"
   ]
  },
  {
   "cell_type": "markdown",
   "metadata": {},
   "source": [
    "<font color=blue> Clearly there are several options, however \"Primary Tumor\" and \"Recurrent Tumor\" seem the most generic</font>"
   ]
  },
  {
   "cell_type": "code",
   "execution_count": 4,
   "metadata": {},
   "outputs": [],
   "source": [
    "tumor1 = Q('ResearchSubject.Specimen.source_material_type = \"Primary Tumor\"')\n",
    "tumor2 = Q('ResearchSubject.Specimen.source_material_type = \"Recurrent Tumor\"')\n",
    "\n",
    "disease = Q('ResearchSubject.primary_disease_type = \"Lung Adenocarcinoma\"')"
   ]
  },
  {
   "cell_type": "code",
   "execution_count": 5,
   "metadata": {},
   "outputs": [
    {
     "name": "stdout",
     "output_type": "stream",
     "text": [
      "\n",
      "Query: SELECT * FROM gdc-bq-sample.cda_mvp.v3, UNNEST(ResearchSubject) AS _ResearchSubject WHERE (_ResearchSubject.primary_disease_type = 'Lung Adenocarcinoma')\n",
      "Offset: 0\n",
      "Limit: 1000\n",
      "Count: 216\n",
      "More pages: No\n",
      "\n"
     ]
    }
   ],
   "source": [
    "rd= disease.run()\n",
    "print(rd)"
   ]
  },
  {
   "cell_type": "markdown",
   "metadata": {},
   "source": [
    "<font color=blue>Looks like 216 ReseachSubjects labeled as Lung Adenocarcinoma</font>"
   ]
  },
  {
   "cell_type": "code",
   "execution_count": 6,
   "metadata": {},
   "outputs": [
    {
     "name": "stdout",
     "output_type": "stream",
     "text": [
      "\n",
      "Query: SELECT * FROM gdc-bq-sample.cda_mvp.v3, UNNEST(ResearchSubject) AS _ResearchSubject, UNNEST(_ResearchSubject.Specimen) AS _Specimen WHERE ((_ResearchSubject.primary_disease_type = 'Lung Adenocarcinoma') AND (_Specimen.source_material_type = 'Primary Tumor'))\n",
      "Offset: 0\n",
      "Limit: 1000\n",
      "Count: 121\n",
      "More pages: No\n",
      "\n"
     ]
    }
   ],
   "source": [
    "q = disease.And(tumor1)\n",
    "r = q.run()\n",
    "print(r)"
   ]
  },
  {
   "cell_type": "markdown",
   "metadata": {},
   "source": [
    "<font color=blue> A touch over half are primary tumor</font>"
   ]
  },
  {
   "cell_type": "code",
   "execution_count": 7,
   "metadata": {},
   "outputs": [
    {
     "name": "stdout",
     "output_type": "stream",
     "text": [
      "\n",
      "Query: SELECT * FROM gdc-bq-sample.cda_mvp.v3, UNNEST(ResearchSubject) AS _ResearchSubject, UNNEST(_ResearchSubject.Specimen) AS _Specimen WHERE ((_ResearchSubject.primary_disease_type = 'Lung Adenocarcinoma') AND (_Specimen.source_material_type = 'Recurrent Tumor'))\n",
      "Offset: 0\n",
      "Limit: 1000\n",
      "Count: 0\n",
      "More pages: No\n",
      "\n"
     ]
    }
   ],
   "source": [
    "q = disease.And(tumor2)\n",
    "r = q.run()\n",
    "print(r)"
   ]
  },
  {
   "cell_type": "markdown",
   "metadata": {},
   "source": [
    "<font color=blue>Huh.  None of them are recurrent.  Which raises the question, are there ANY recurrent tumors in the system</font>"
   ]
  },
  {
   "cell_type": "code",
   "execution_count": 8,
   "metadata": {},
   "outputs": [
    {
     "name": "stdout",
     "output_type": "stream",
     "text": [
      "\n",
      "Query: SELECT * FROM gdc-bq-sample.cda_mvp.v3, UNNEST(ResearchSubject) AS _ResearchSubject, UNNEST(_ResearchSubject.Specimen) AS _Specimen WHERE (_Specimen.source_material_type = 'Recurrent Tumor')\n",
      "Offset: 0\n",
      "Limit: 1000\n",
      "Count: 1000\n",
      "More pages: Yes\n",
      "\n"
     ]
    }
   ],
   "source": [
    "r = tumor2.run()\n",
    "print(r)"
   ]
  },
  {
   "cell_type": "markdown",
   "metadata": {},
   "source": [
    "<font color=blue> Clearly lots of recurrent tumors, just not from lung adenocarcinoma.  So using a FROM query should identify any cases with recurrent tumors from something else?</font>"
   ]
  },
  {
   "cell_type": "code",
   "execution_count": 9,
   "metadata": {},
   "outputs": [
    {
     "name": "stdout",
     "output_type": "stream",
     "text": [
      "\n",
      "Query: SELECT * FROM (SELECT * FROM gdc-bq-sample.cda_mvp.v3, UNNEST(ResearchSubject) AS _ResearchSubject, UNNEST(_ResearchSubject.Specimen) AS _Specimen WHERE ((_ResearchSubject.primary_disease_type = 'Lung Adenocarcinoma') AND (_Specimen.source_material_type = 'Primary Tumor'))), UNNEST(ResearchSubject) AS _ResearchSubject, UNNEST(_ResearchSubject.Specimen) AS _Specimen WHERE (_Specimen.source_material_type = 'Recurrent Tumor')\n",
      "Offset: 0\n",
      "Limit: 1000\n",
      "Count: 0\n",
      "More pages: No\n",
      "\n"
     ]
    }
   ],
   "source": [
    "q = tumor2.From(disease.And(tumor1))\n",
    "r = q.run()\n",
    "print(r)"
   ]
  },
  {
   "cell_type": "markdown",
   "metadata": {},
   "source": [
    "<font color=blue>That was a bust.  Maybe first finding cases that have both primary and recurring first is a better approach</font>"
   ]
  },
  {
   "cell_type": "code",
   "execution_count": 10,
   "metadata": {},
   "outputs": [
    {
     "name": "stdout",
     "output_type": "stream",
     "text": [
      "\n",
      "Query: SELECT * FROM gdc-bq-sample.cda_mvp.v3, UNNEST(ResearchSubject) AS _ResearchSubject, UNNEST(_ResearchSubject.Specimen) AS _Specimen WHERE ((_Specimen.source_material_type = 'Primary Tumor') AND (_Specimen.source_material_type = 'Recurrent Tumor'))\n",
      "Offset: 0\n",
      "Limit: 1000\n",
      "Count: 0\n",
      "More pages: No\n",
      "\n"
     ]
    }
   ],
   "source": [
    "q = tumor1.And(tumor2)\n",
    "r = q.run()\n",
    "print(r)"
   ]
  },
  {
   "cell_type": "markdown",
   "metadata": {},
   "source": [
    "<font color=blue> So there are no instances of both primary and recurring.  Let's try a different approach</font>"
   ]
  },
  {
   "cell_type": "code",
   "execution_count": 31,
   "metadata": {},
   "outputs": [
    {
     "name": "stdout",
     "output_type": "stream",
     "text": [
      "{'next_url': None,\n",
      " 'previous_url': None,\n",
      " 'query_sql': 'SELECT COUNT(DISTINCT _ResearchSubject.id) AS rsid FROM (SELECT '\n",
      "              '* FROM gdc-bq-sample.cda_mvp.v3, UNNEST(ResearchSubject) AS '\n",
      "              '_ResearchSubject, UNNEST(_ResearchSubject.Specimen) AS '\n",
      "              '_Specimen WHERE ((_ResearchSubject.primary_disease_type = \"Lung '\n",
      "              'Adenocarcinoma\") AND (_Specimen.source_material_type = \"Primary '\n",
      "              'Tumor\"))), UNNEST(ResearchSubject) AS _ResearchSubject, '\n",
      "              'UNNEST(_ResearchSubject.Specimen) AS _Specimen WHERE '\n",
      "              '(_Specimen.source_material_type = \"Recurrent Tumor\")',\n",
      " 'result': [{'rsid': 0}]}\n"
     ]
    }
   ],
   "source": [
    "query = (\n",
    "    'SELECT COUNT(DISTINCT _ResearchSubject.id) AS rsid FROM (SELECT * FROM gdc-bq-sample.cda_mvp.v3, UNNEST(ResearchSubject) AS _ResearchSubject, '\n",
    "    'UNNEST(_ResearchSubject.Specimen) AS _Specimen WHERE ((_ResearchSubject.primary_disease_type = \"Lung Adenocarcinoma\") '\n",
    "    'AND (_Specimen.source_material_type = \"Primary Tumor\"))), UNNEST(ResearchSubject) AS _ResearchSubject, '\n",
    "    'UNNEST(_ResearchSubject.Specimen) AS _Specimen WHERE (_Specimen.source_material_type = \"Recurrent Tumor\")'\n",
    ")\n",
    "\n",
    "result = runAPIQuery(query, None)\n",
    "pprint.pprint(result)"
   ]
  },
  {
   "cell_type": "markdown",
   "metadata": {},
   "source": [
    "<font color=blue> Apparently time to look at the other recurrents and see if those exist</font>"
   ]
  },
  {
   "cell_type": "code",
   "execution_count": 32,
   "metadata": {},
   "outputs": [
    {
     "name": "stdout",
     "output_type": "stream",
     "text": [
      "Recurrent Blood Derived Cancer - Bone Marrow\n",
      "\n",
      "Query: SELECT * FROM gdc-bq-sample.cda_mvp.v3, UNNEST(ResearchSubject) AS _ResearchSubject, UNNEST(_ResearchSubject.Specimen) AS _Specimen WHERE (_Specimen.source_material_type = 'Recurrent Blood Derived Cancer - Bone Marrow')\n",
      "Offset: 0\n",
      "Limit: 1000\n",
      "Count: 1000\n",
      "More pages: Yes\n",
      "\n",
      "Recurrent Blood Derived Cancer - Peripheral Blood\n",
      "\n",
      "Query: SELECT * FROM gdc-bq-sample.cda_mvp.v3, UNNEST(ResearchSubject) AS _ResearchSubject, UNNEST(_ResearchSubject.Specimen) AS _Specimen WHERE (_Specimen.source_material_type = 'Recurrent Blood Derived Cancer - Peripheral Blood')\n",
      "Offset: 0\n",
      "Limit: 1000\n",
      "Count: 1000\n",
      "More pages: Yes\n",
      "\n",
      "Recurrent Tumor\n",
      "\n",
      "Query: SELECT * FROM gdc-bq-sample.cda_mvp.v3, UNNEST(ResearchSubject) AS _ResearchSubject, UNNEST(_ResearchSubject.Specimen) AS _Specimen WHERE (_Specimen.source_material_type = 'Recurrent Tumor')\n",
      "Offset: 0\n",
      "Limit: 1000\n",
      "Count: 1000\n",
      "More pages: Yes\n",
      "\n"
     ]
    }
   ],
   "source": [
    "recurrents = ['Recurrent Blood Derived Cancer - Bone Marrow',\n",
    " 'Recurrent Blood Derived Cancer - Peripheral Blood',\n",
    " 'Recurrent Tumor',]\n",
    "\n",
    "\n",
    "for recurrent in recurrents:\n",
    "    querystring = 'ResearchSubject.Specimen.source_material_type = \"{}\"'.format(recurrent)\n",
    "    query = Q(querystring)\n",
    "    r = query.run()\n",
    "    print(recurrent)\n",
    "    print(r)"
   ]
  },
  {
   "cell_type": "markdown",
   "metadata": {},
   "source": [
    "<font color=blue>So all are potentially valid, lets take a look</font>"
   ]
  },
  {
   "cell_type": "code",
   "execution_count": 35,
   "metadata": {},
   "outputs": [
    {
     "name": "stdout",
     "output_type": "stream",
     "text": [
      "Recurrent Blood Derived Cancer - Bone Marrow\n",
      "{'next_url': None,\n",
      " 'previous_url': None,\n",
      " 'query_sql': 'SELECT COUNT(DISTINCT _ResearchSubject.id) AS rsid FROM (SELECT '\n",
      "              '* FROM gdc-bq-sample.cda_mvp.v3, UNNEST(ResearchSubject) AS '\n",
      "              '_ResearchSubject, UNNEST(_ResearchSubject.Specimen) AS '\n",
      "              '_Specimen WHERE ((_ResearchSubject.primary_disease_type = \"Lung '\n",
      "              'Adenocarcinoma\") AND (_Specimen.source_material_type = \"Primary '\n",
      "              'Tumor\"))), UNNEST(ResearchSubject) AS _ResearchSubject, '\n",
      "              'UNNEST(_ResearchSubject.Specimen) AS _Specimen WHERE '\n",
      "              '(_Specimen.source_material_type = \"Recurrent Blood Derived '\n",
      "              'Cancer - Bone Marrow\")',\n",
      " 'result': [{'rsid': 0}]}\n",
      "Recurrent Blood Derived Cancer - Peripheral Blood\n",
      "{'next_url': None,\n",
      " 'previous_url': None,\n",
      " 'query_sql': 'SELECT COUNT(DISTINCT _ResearchSubject.id) AS rsid FROM (SELECT '\n",
      "              '* FROM gdc-bq-sample.cda_mvp.v3, UNNEST(ResearchSubject) AS '\n",
      "              '_ResearchSubject, UNNEST(_ResearchSubject.Specimen) AS '\n",
      "              '_Specimen WHERE ((_ResearchSubject.primary_disease_type = \"Lung '\n",
      "              'Adenocarcinoma\") AND (_Specimen.source_material_type = \"Primary '\n",
      "              'Tumor\"))), UNNEST(ResearchSubject) AS _ResearchSubject, '\n",
      "              'UNNEST(_ResearchSubject.Specimen) AS _Specimen WHERE '\n",
      "              '(_Specimen.source_material_type = \"Recurrent Blood Derived '\n",
      "              'Cancer - Peripheral Blood\")',\n",
      " 'result': [{'rsid': 0}]}\n",
      "Recurrent Tumor\n",
      "{'next_url': None,\n",
      " 'previous_url': None,\n",
      " 'query_sql': 'SELECT COUNT(DISTINCT _ResearchSubject.id) AS rsid FROM (SELECT '\n",
      "              '* FROM gdc-bq-sample.cda_mvp.v3, UNNEST(ResearchSubject) AS '\n",
      "              '_ResearchSubject, UNNEST(_ResearchSubject.Specimen) AS '\n",
      "              '_Specimen WHERE ((_ResearchSubject.primary_disease_type = \"Lung '\n",
      "              'Adenocarcinoma\") AND (_Specimen.source_material_type = \"Primary '\n",
      "              'Tumor\"))), UNNEST(ResearchSubject) AS _ResearchSubject, '\n",
      "              'UNNEST(_ResearchSubject.Specimen) AS _Specimen WHERE '\n",
      "              '(_Specimen.source_material_type = \"Recurrent Tumor\")',\n",
      " 'result': [{'rsid': 0}]}\n"
     ]
    }
   ],
   "source": [
    "for recurrent in recurrents: \n",
    "    query = (\n",
    "    'SELECT COUNT(DISTINCT _ResearchSubject.id) AS rsid FROM (SELECT * FROM gdc-bq-sample.cda_mvp.v3, UNNEST(ResearchSubject) AS _ResearchSubject, '\n",
    "    'UNNEST(_ResearchSubject.Specimen) AS _Specimen WHERE ((_ResearchSubject.primary_disease_type = \"Lung Adenocarcinoma\") '\n",
    "    'AND (_Specimen.source_material_type = \"Primary Tumor\"))), UNNEST(ResearchSubject) AS _ResearchSubject, '\n",
    "    'UNNEST(_ResearchSubject.Specimen) AS _Specimen WHERE (_Specimen.source_material_type = \"{}\")'\n",
    "    ).format(recurrent)\n",
    "    result = runAPIQuery(query, None)\n",
    "    print(recurrent)\n",
    "    pprint.pprint(result)\n"
   ]
  },
  {
   "cell_type": "markdown",
   "metadata": {},
   "source": [
    "<font color=blue>Looks like no choice but to go full brute force</font>"
   ]
  },
  {
   "cell_type": "code",
   "execution_count": 36,
   "metadata": {},
   "outputs": [
    {
     "name": "stdout",
     "output_type": "stream",
     "text": [
      "Primary: Primary Blood Derived Cancer - Bone Marrow\tRecurrent: Recurrent Blood Derived Cancer - Bone Marrow\n",
      "\n",
      "{'next_url': None,\n",
      " 'previous_url': None,\n",
      " 'query_sql': 'SELECT COUNT(DISTINCT _ResearchSubject.id) AS rsid FROM (SELECT '\n",
      "              '* FROM gdc-bq-sample.cda_mvp.v3, UNNEST(ResearchSubject) AS '\n",
      "              '_ResearchSubject, UNNEST(_ResearchSubject.Specimen) AS '\n",
      "              '_Specimen WHERE ((_ResearchSubject.primary_disease_type = \"Lung '\n",
      "              'Adenocarcinoma\") AND (_Specimen.source_material_type = \"Primary '\n",
      "              'Blood Derived Cancer - Bone Marrow\"))), UNNEST(ResearchSubject) '\n",
      "              'AS _ResearchSubject, UNNEST(_ResearchSubject.Specimen) AS '\n",
      "              '_Specimen WHERE (_Specimen.source_material_type = \"Recurrent '\n",
      "              'Blood Derived Cancer - Bone Marrow\")',\n",
      " 'result': [{'rsid': 0}]}\n",
      "Primary: Primary Blood Derived Cancer - Bone Marrow\tRecurrent: Recurrent Blood Derived Cancer - Peripheral Blood\n",
      "\n",
      "{'next_url': None,\n",
      " 'previous_url': None,\n",
      " 'query_sql': 'SELECT COUNT(DISTINCT _ResearchSubject.id) AS rsid FROM (SELECT '\n",
      "              '* FROM gdc-bq-sample.cda_mvp.v3, UNNEST(ResearchSubject) AS '\n",
      "              '_ResearchSubject, UNNEST(_ResearchSubject.Specimen) AS '\n",
      "              '_Specimen WHERE ((_ResearchSubject.primary_disease_type = \"Lung '\n",
      "              'Adenocarcinoma\") AND (_Specimen.source_material_type = \"Primary '\n",
      "              'Blood Derived Cancer - Bone Marrow\"))), UNNEST(ResearchSubject) '\n",
      "              'AS _ResearchSubject, UNNEST(_ResearchSubject.Specimen) AS '\n",
      "              '_Specimen WHERE (_Specimen.source_material_type = \"Recurrent '\n",
      "              'Blood Derived Cancer - Peripheral Blood\")',\n",
      " 'result': [{'rsid': 0}]}\n",
      "Primary: Primary Blood Derived Cancer - Bone Marrow\tRecurrent: Recurrent Tumor\n",
      "\n",
      "{'next_url': None,\n",
      " 'previous_url': None,\n",
      " 'query_sql': 'SELECT COUNT(DISTINCT _ResearchSubject.id) AS rsid FROM (SELECT '\n",
      "              '* FROM gdc-bq-sample.cda_mvp.v3, UNNEST(ResearchSubject) AS '\n",
      "              '_ResearchSubject, UNNEST(_ResearchSubject.Specimen) AS '\n",
      "              '_Specimen WHERE ((_ResearchSubject.primary_disease_type = \"Lung '\n",
      "              'Adenocarcinoma\") AND (_Specimen.source_material_type = \"Primary '\n",
      "              'Blood Derived Cancer - Bone Marrow\"))), UNNEST(ResearchSubject) '\n",
      "              'AS _ResearchSubject, UNNEST(_ResearchSubject.Specimen) AS '\n",
      "              '_Specimen WHERE (_Specimen.source_material_type = \"Recurrent '\n",
      "              'Tumor\")',\n",
      " 'result': [{'rsid': 0}]}\n",
      "Primary: Primary Blood Derived Cancer - Peripheral Blood\tRecurrent: Recurrent Blood Derived Cancer - Bone Marrow\n",
      "\n",
      "{'next_url': None,\n",
      " 'previous_url': None,\n",
      " 'query_sql': 'SELECT COUNT(DISTINCT _ResearchSubject.id) AS rsid FROM (SELECT '\n",
      "              '* FROM gdc-bq-sample.cda_mvp.v3, UNNEST(ResearchSubject) AS '\n",
      "              '_ResearchSubject, UNNEST(_ResearchSubject.Specimen) AS '\n",
      "              '_Specimen WHERE ((_ResearchSubject.primary_disease_type = \"Lung '\n",
      "              'Adenocarcinoma\") AND (_Specimen.source_material_type = \"Primary '\n",
      "              'Blood Derived Cancer - Peripheral Blood\"))), '\n",
      "              'UNNEST(ResearchSubject) AS _ResearchSubject, '\n",
      "              'UNNEST(_ResearchSubject.Specimen) AS _Specimen WHERE '\n",
      "              '(_Specimen.source_material_type = \"Recurrent Blood Derived '\n",
      "              'Cancer - Bone Marrow\")',\n",
      " 'result': [{'rsid': 0}]}\n",
      "Primary: Primary Blood Derived Cancer - Peripheral Blood\tRecurrent: Recurrent Blood Derived Cancer - Peripheral Blood\n",
      "\n",
      "{'next_url': None,\n",
      " 'previous_url': None,\n",
      " 'query_sql': 'SELECT COUNT(DISTINCT _ResearchSubject.id) AS rsid FROM (SELECT '\n",
      "              '* FROM gdc-bq-sample.cda_mvp.v3, UNNEST(ResearchSubject) AS '\n",
      "              '_ResearchSubject, UNNEST(_ResearchSubject.Specimen) AS '\n",
      "              '_Specimen WHERE ((_ResearchSubject.primary_disease_type = \"Lung '\n",
      "              'Adenocarcinoma\") AND (_Specimen.source_material_type = \"Primary '\n",
      "              'Blood Derived Cancer - Peripheral Blood\"))), '\n",
      "              'UNNEST(ResearchSubject) AS _ResearchSubject, '\n",
      "              'UNNEST(_ResearchSubject.Specimen) AS _Specimen WHERE '\n",
      "              '(_Specimen.source_material_type = \"Recurrent Blood Derived '\n",
      "              'Cancer - Peripheral Blood\")',\n",
      " 'result': [{'rsid': 0}]}\n",
      "Primary: Primary Blood Derived Cancer - Peripheral Blood\tRecurrent: Recurrent Tumor\n",
      "\n",
      "{'next_url': None,\n",
      " 'previous_url': None,\n",
      " 'query_sql': 'SELECT COUNT(DISTINCT _ResearchSubject.id) AS rsid FROM (SELECT '\n",
      "              '* FROM gdc-bq-sample.cda_mvp.v3, UNNEST(ResearchSubject) AS '\n",
      "              '_ResearchSubject, UNNEST(_ResearchSubject.Specimen) AS '\n",
      "              '_Specimen WHERE ((_ResearchSubject.primary_disease_type = \"Lung '\n",
      "              'Adenocarcinoma\") AND (_Specimen.source_material_type = \"Primary '\n",
      "              'Blood Derived Cancer - Peripheral Blood\"))), '\n",
      "              'UNNEST(ResearchSubject) AS _ResearchSubject, '\n",
      "              'UNNEST(_ResearchSubject.Specimen) AS _Specimen WHERE '\n",
      "              '(_Specimen.source_material_type = \"Recurrent Tumor\")',\n",
      " 'result': [{'rsid': 0}]}\n",
      "Primary: Primary Tumor\tRecurrent: Recurrent Blood Derived Cancer - Bone Marrow\n",
      "\n",
      "{'next_url': None,\n",
      " 'previous_url': None,\n",
      " 'query_sql': 'SELECT COUNT(DISTINCT _ResearchSubject.id) AS rsid FROM (SELECT '\n",
      "              '* FROM gdc-bq-sample.cda_mvp.v3, UNNEST(ResearchSubject) AS '\n",
      "              '_ResearchSubject, UNNEST(_ResearchSubject.Specimen) AS '\n",
      "              '_Specimen WHERE ((_ResearchSubject.primary_disease_type = \"Lung '\n",
      "              'Adenocarcinoma\") AND (_Specimen.source_material_type = \"Primary '\n",
      "              'Tumor\"))), UNNEST(ResearchSubject) AS _ResearchSubject, '\n",
      "              'UNNEST(_ResearchSubject.Specimen) AS _Specimen WHERE '\n",
      "              '(_Specimen.source_material_type = \"Recurrent Blood Derived '\n",
      "              'Cancer - Bone Marrow\")',\n",
      " 'result': [{'rsid': 0}]}\n",
      "Primary: Primary Tumor\tRecurrent: Recurrent Blood Derived Cancer - Peripheral Blood\n",
      "\n",
      "{'next_url': None,\n",
      " 'previous_url': None,\n",
      " 'query_sql': 'SELECT COUNT(DISTINCT _ResearchSubject.id) AS rsid FROM (SELECT '\n",
      "              '* FROM gdc-bq-sample.cda_mvp.v3, UNNEST(ResearchSubject) AS '\n",
      "              '_ResearchSubject, UNNEST(_ResearchSubject.Specimen) AS '\n",
      "              '_Specimen WHERE ((_ResearchSubject.primary_disease_type = \"Lung '\n",
      "              'Adenocarcinoma\") AND (_Specimen.source_material_type = \"Primary '\n",
      "              'Tumor\"))), UNNEST(ResearchSubject) AS _ResearchSubject, '\n",
      "              'UNNEST(_ResearchSubject.Specimen) AS _Specimen WHERE '\n",
      "              '(_Specimen.source_material_type = \"Recurrent Blood Derived '\n",
      "              'Cancer - Peripheral Blood\")',\n",
      " 'result': [{'rsid': 0}]}\n",
      "Primary: Primary Tumor\tRecurrent: Recurrent Tumor\n",
      "\n",
      "{'next_url': None,\n",
      " 'previous_url': None,\n",
      " 'query_sql': 'SELECT COUNT(DISTINCT _ResearchSubject.id) AS rsid FROM (SELECT '\n",
      "              '* FROM gdc-bq-sample.cda_mvp.v3, UNNEST(ResearchSubject) AS '\n",
      "              '_ResearchSubject, UNNEST(_ResearchSubject.Specimen) AS '\n",
      "              '_Specimen WHERE ((_ResearchSubject.primary_disease_type = \"Lung '\n",
      "              'Adenocarcinoma\") AND (_Specimen.source_material_type = \"Primary '\n",
      "              'Tumor\"))), UNNEST(ResearchSubject) AS _ResearchSubject, '\n",
      "              'UNNEST(_ResearchSubject.Specimen) AS _Specimen WHERE '\n",
      "              '(_Specimen.source_material_type = \"Recurrent Tumor\")',\n",
      " 'result': [{'rsid': 0}]}\n"
     ]
    }
   ],
   "source": [
    "primaries = ['Primary Blood Derived Cancer - Bone Marrow',\n",
    " 'Primary Blood Derived Cancer - Peripheral Blood',\n",
    " 'Primary Tumor',]\n",
    "\n",
    "for primary in primaries:\n",
    "    for recurrent in recurrents:\n",
    "            query = (\n",
    "    'SELECT COUNT(DISTINCT _ResearchSubject.id) AS rsid FROM (SELECT * FROM gdc-bq-sample.cda_mvp.v3, UNNEST(ResearchSubject) AS _ResearchSubject, '\n",
    "    'UNNEST(_ResearchSubject.Specimen) AS _Specimen WHERE ((_ResearchSubject.primary_disease_type = \"Lung Adenocarcinoma\") '\n",
    "    'AND (_Specimen.source_material_type = \"{}\"))), UNNEST(ResearchSubject) AS _ResearchSubject, '\n",
    "    'UNNEST(_ResearchSubject.Specimen) AS _Specimen WHERE (_Specimen.source_material_type = \"{}\")'\n",
    "    ).format(primary, recurrent)\n",
    "            result = runAPIQuery(query, None)\n",
    "            print((\"Primary: %s\\tRecurrent: %s\\n\") % (primary, recurrent))\n",
    "            pprint.pprint(result)"
   ]
  },
  {
   "cell_type": "markdown",
   "metadata": {},
   "source": [
    "<font color=blue>Looks to me like there are no patients that fit the test question</font>"
   ]
  },
  {
   "cell_type": "code",
   "execution_count": null,
   "metadata": {},
   "outputs": [],
   "source": []
  }
 ],
 "metadata": {
  "kernelspec": {
   "display_name": "Python 3",
   "language": "python",
   "name": "python3"
  },
  "language_info": {
   "codemirror_mode": {
    "name": "ipython",
    "version": 3
   },
   "file_extension": ".py",
   "mimetype": "text/x-python",
   "name": "python",
   "nbconvert_exporter": "python",
   "pygments_lexer": "ipython3",
   "version": "3.8.5"
  }
 },
 "nbformat": 4,
 "nbformat_minor": 4
}
