{
 "cells": [
  {
   "cell_type": "code",
   "execution_count": 26,
   "metadata": {},
   "outputs": [],
   "source": [
    "from cdapython import Q,unique_terms\n",
    "import pprint"
   ]
  },
  {
   "cell_type": "code",
   "execution_count": 27,
   "metadata": {},
   "outputs": [],
   "source": [
    "def getProjects(testmode):\n",
    "    if testmode:\n",
    "        #projectlist = [\"TCGA-UCS\", \"TCGA-KIRC\", \"TCGA-GBM\"]\n",
    "        projectlist = [\"TCGA-UCS\"]\n",
    "    else:\n",
    "        projectlist = unique_terms(\"ResearchSubject.associated_project\")\n",
    "    return projectlist"
   ]
  },
  {
   "cell_type": "code",
   "execution_count": 31,
   "metadata": {},
   "outputs": [],
   "source": [
    "def runProjectQuery(project, limit):\n",
    "    query = Q('ResearchSubject.Specimen.associated_project = ' + '\"' + project + '\"')\n",
    "    result = query.run()\n",
    "    return result"
   ]
  },
  {
   "cell_type": "code",
   "execution_count": 32,
   "metadata": {},
   "outputs": [],
   "source": [
    "def countCases(result, limit):\n",
    "    uniques = []\n",
    "    dupes = []\n",
    "    while result.count >= limit:\n",
    "        #uniques = []\n",
    "        #dupes = []\n",
    "        for subject in result:\n",
    "            if subject['id'] in uniques:\n",
    "                dupes.append(subject['id'])\n",
    "            else:\n",
    "                uniques.append(subject['id'])\n",
    "        print(\"Getting next page\")\n",
    "        result = result.next_page()\n",
    "    #pprint.pprint(uniques)\n",
    "    return len(uniques), len(dupes)\n",
    "        "
   ]
  },
  {
   "cell_type": "code",
   "execution_count": 34,
   "metadata": {},
   "outputs": [
    {
     "name": "stdout",
     "output_type": "stream",
     "text": [
      "Getting next page\n",
      "Project: TCGA-UCS\tUnique Cases: 1000\tDupe Cases: 0\n",
      "\n"
     ]
    }
   ],
   "source": [
    "projectlist = getProjects(True)\n",
    "limit = 500\n",
    "for project in projectlist:\n",
    "    result = runProjectQuery(project, limit)\n",
    "    unicount, dupecount = countCases(result, limit)\n",
    "    print((\"Project: %s\\tUnique Cases: %s\\tDupe Cases: %s\\n\") % (project, unicount, dupecount))"
   ]
  },
  {
   "cell_type": "code",
   "execution_count": null,
   "metadata": {},
   "outputs": [],
   "source": []
  }
 ],
 "metadata": {
  "kernelspec": {
   "display_name": "Python 3",
   "language": "python",
   "name": "python3"
  },
  "language_info": {
   "codemirror_mode": {
    "name": "ipython",
    "version": 3
   },
   "file_extension": ".py",
   "mimetype": "text/x-python",
   "name": "python",
   "nbconvert_exporter": "python",
   "pygments_lexer": "ipython3",
   "version": "3.8.5"
  }
 },
 "nbformat": 4,
 "nbformat_minor": 4
}
