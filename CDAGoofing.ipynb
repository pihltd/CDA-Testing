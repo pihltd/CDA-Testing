{
 "cells": [
  {
   "cell_type": "code",
   "execution_count": 2,
   "metadata": {},
   "outputs": [],
   "source": [
    "from cdapython import Q, columns, unique_terms"
   ]
  },
  {
   "cell_type": "code",
   "execution_count": 2,
   "metadata": {},
   "outputs": [
    {
     "name": "stderr",
     "output_type": "stream",
     "text": [
      "SELECT field_path FROM `gdc-bq-sample.cda_mvp.INFORMATION_SCHEMA.COLUMN_FIELD_PATHS` WHERE table_name = 'v3'\n"
     ]
    },
    {
     "data": {
      "text/plain": [
       "['days_to_birth',\n",
       " 'race',\n",
       " 'sex',\n",
       " 'ethnicity',\n",
       " 'id',\n",
       " 'ResearchSubject',\n",
       " 'ResearchSubject.Diagnosis',\n",
       " 'ResearchSubject.Diagnosis.morphology',\n",
       " 'ResearchSubject.Diagnosis.tumor_stage',\n",
       " 'ResearchSubject.Diagnosis.tumor_grade',\n",
       " 'ResearchSubject.Diagnosis.Treatment',\n",
       " 'ResearchSubject.Diagnosis.Treatment.type',\n",
       " 'ResearchSubject.Diagnosis.Treatment.outcome',\n",
       " 'ResearchSubject.Diagnosis.id',\n",
       " 'ResearchSubject.Diagnosis.primary_diagnosis',\n",
       " 'ResearchSubject.Diagnosis.age_at_diagnosis',\n",
       " 'ResearchSubject.Specimen',\n",
       " 'ResearchSubject.Specimen.File',\n",
       " 'ResearchSubject.Specimen.File.label',\n",
       " 'ResearchSubject.Specimen.File.associated_project',\n",
       " 'ResearchSubject.Specimen.File.drs_uri',\n",
       " 'ResearchSubject.Specimen.File.identifier',\n",
       " 'ResearchSubject.Specimen.File.identifier.system',\n",
       " 'ResearchSubject.Specimen.File.identifier.value',\n",
       " 'ResearchSubject.Specimen.File.data_category',\n",
       " 'ResearchSubject.Specimen.File.byte_size',\n",
       " 'ResearchSubject.Specimen.File.type',\n",
       " 'ResearchSubject.Specimen.File.file_format',\n",
       " 'ResearchSubject.Specimen.File.checksum',\n",
       " 'ResearchSubject.Specimen.File.id',\n",
       " 'ResearchSubject.Specimen.File.data_type',\n",
       " 'ResearchSubject.Specimen.derived_from_specimen',\n",
       " 'ResearchSubject.Specimen.associated_project',\n",
       " 'ResearchSubject.Specimen.age_at_collection',\n",
       " 'ResearchSubject.Specimen.anatomical_site',\n",
       " 'ResearchSubject.Specimen.source_material_type',\n",
       " 'ResearchSubject.Specimen.derived_from_subject',\n",
       " 'ResearchSubject.Specimen.specimen_type',\n",
       " 'ResearchSubject.Specimen.id',\n",
       " 'ResearchSubject.Specimen.primary_disease_type',\n",
       " 'ResearchSubject.Specimen.identifier',\n",
       " 'ResearchSubject.Specimen.identifier.system',\n",
       " 'ResearchSubject.Specimen.identifier.value',\n",
       " 'ResearchSubject.associated_project',\n",
       " 'ResearchSubject.id',\n",
       " 'ResearchSubject.primary_disease_type',\n",
       " 'ResearchSubject.identifier',\n",
       " 'ResearchSubject.identifier.system',\n",
       " 'ResearchSubject.identifier.value',\n",
       " 'ResearchSubject.primary_disease_site']"
      ]
     },
     "execution_count": 2,
     "metadata": {},
     "output_type": "execute_result"
    }
   ],
   "source": [
    "columns()"
   ]
  },
  {
   "cell_type": "code",
   "execution_count": 3,
   "metadata": {},
   "outputs": [
    {
     "name": "stderr",
     "output_type": "stream",
     "text": [
      "SELECT DISTINCT(_ResearchSubject.associated_project) FROM `gdc-bq-sample.cda_mvp.v3`, UNNEST(ResearchSubject) AS _ResearchSubject ORDER BY _ResearchSubject.associated_project\n"
     ]
    },
    {
     "data": {
      "text/plain": [
       "['Academia Sinica LUAD-100',\n",
       " 'BEATAML1.0-COHORT',\n",
       " 'BEATAML1.0-CRENOLANIB',\n",
       " 'CGCI-BLGSP',\n",
       " 'CGCI-HTMCP-CC',\n",
       " 'CMI-ASC',\n",
       " 'CMI-MBC',\n",
       " 'CMI-MPC',\n",
       " 'CPTAC-2',\n",
       " 'CPTAC-3',\n",
       " 'CPTAC-TCGA',\n",
       " 'CPTAC2 Retrospective',\n",
       " 'CPTAC3-Discovery',\n",
       " 'CTSP-DLBCL1',\n",
       " 'FM-AD',\n",
       " 'GENIE-DFCI',\n",
       " 'GENIE-GRCC',\n",
       " 'GENIE-JHU',\n",
       " 'GENIE-MDA',\n",
       " 'GENIE-MSK',\n",
       " 'GENIE-NKI',\n",
       " 'GENIE-UHN',\n",
       " 'GENIE-VICC',\n",
       " 'Georgetown Lung Cancer Proteomics Study',\n",
       " 'HCMI-CMDC',\n",
       " 'Human Early-Onset Gastric Cancer - Korea University',\n",
       " 'Integrated Proteogenomic Characterization of HBV-related Hepatocellular carcinoma',\n",
       " 'MMRF-COMMPASS',\n",
       " 'NCICCR-DLBCL',\n",
       " 'OHSU-CNL',\n",
       " 'ORGANOID-PANCREATIC',\n",
       " 'Oral Squamous Cell Carcinoma - Chang Gung University',\n",
       " 'PJ25730263',\n",
       " 'Proteogenomic Analysis of Pediatric Brain Cancer Tumors Pilot Study',\n",
       " 'TARGET-ALL-P1',\n",
       " 'TARGET-ALL-P2',\n",
       " 'TARGET-ALL-P3',\n",
       " 'TARGET-AML',\n",
       " 'TARGET-CCSK',\n",
       " 'TARGET-NBL',\n",
       " 'TARGET-OS',\n",
       " 'TARGET-RT',\n",
       " 'TARGET-WT',\n",
       " 'TCGA-ACC',\n",
       " 'TCGA-BLCA',\n",
       " 'TCGA-BRCA',\n",
       " 'TCGA-CESC',\n",
       " 'TCGA-CHOL',\n",
       " 'TCGA-COAD',\n",
       " 'TCGA-DLBC',\n",
       " 'TCGA-ESCA',\n",
       " 'TCGA-GBM',\n",
       " 'TCGA-HNSC',\n",
       " 'TCGA-KICH',\n",
       " 'TCGA-KIRC',\n",
       " 'TCGA-KIRP',\n",
       " 'TCGA-LAML',\n",
       " 'TCGA-LGG',\n",
       " 'TCGA-LIHC',\n",
       " 'TCGA-LUAD',\n",
       " 'TCGA-LUSC',\n",
       " 'TCGA-MESO',\n",
       " 'TCGA-OV',\n",
       " 'TCGA-PAAD',\n",
       " 'TCGA-PCPG',\n",
       " 'TCGA-PRAD',\n",
       " 'TCGA-READ',\n",
       " 'TCGA-SARC',\n",
       " 'TCGA-SKCM',\n",
       " 'TCGA-STAD',\n",
       " 'TCGA-TGCT',\n",
       " 'TCGA-THCA',\n",
       " 'TCGA-THYM',\n",
       " 'TCGA-UCEC',\n",
       " 'TCGA-UCS',\n",
       " 'TCGA-UVM',\n",
       " 'VAREPOP-APOLLO',\n",
       " 'WCDT-MCRPC']"
      ]
     },
     "execution_count": 3,
     "metadata": {},
     "output_type": "execute_result"
    }
   ],
   "source": [
    "unique_terms('ResearchSubject.associated_project')"
   ]
  },
  {
   "cell_type": "markdown",
   "metadata": {},
   "source": [
    "<font color=blue> The following example is from the CDA testing and I've put it here to show how to use UNNEST to get down to returing specific fields.  It looks like there needs to be a serial unnesting</font>"
   ]
  },
  {
   "cell_type": "code",
   "execution_count": 4,
   "metadata": {},
   "outputs": [
    {
     "name": "stderr",
     "output_type": "stream",
     "text": [
      "SELECT DISTINCT(_Specimen.source_material_type) FROM `gdc-bq-sample.cda_mvp.v3`, UNNEST(ResearchSubject) AS _ResearchSubject,UNNEST(_ResearchSubject.Specimen) AS _Specimen,UNNEST(_ResearchSubject.identifier) AS _identifier WHERE _identifier.system=\"PDC\" ORDER BY _Specimen.source_material_type\n"
     ]
    },
    {
     "data": {
      "text/plain": [
       "['Cell Lines',\n",
       " 'Normal',\n",
       " 'Normal Adjacent Tissue',\n",
       " 'Not Reported',\n",
       " 'Primary Tumor',\n",
       " 'Solid Tissue Normal',\n",
       " 'Tumor',\n",
       " 'Xenograft',\n",
       " 'Xenograft Tissue']"
      ]
     },
     "execution_count": 4,
     "metadata": {},
     "output_type": "execute_result"
    }
   ],
   "source": [
    "unique_terms(\"ResearchSubject.Specimen.source_material_type\", system=\"PDC\")"
   ]
  },
  {
   "cell_type": "code",
   "execution_count": 4,
   "metadata": {},
   "outputs": [
    {
     "name": "stdout",
     "output_type": "stream",
     "text": [
      "\n",
      "Query: SELECT * FROM gdc-bq-sample.cda_mvp.v3, UNNEST(ResearchSubject) AS _ResearchSubject, UNNEST(_ResearchSubject.Diagnosis) AS _Diagnosis WHERE ((_Diagnosis.age_at_diagnosis > 50*365) AND (_ResearchSubject.associated_project = 'TCGA-OV'))\n",
      "Offset: 0\n",
      "Limit: 1000\n",
      "Count: 461\n",
      "More pages: No\n",
      "\n"
     ]
    }
   ],
   "source": [
    "q1 = Q('ResearchSubject.Diagnosis.age_at_diagnosis > 50*365')\n",
    "q2 = Q('ResearchSubject.associated_project = \"TCGA-OV\"')\n",
    "\n",
    "q = q1.And(q2)\n",
    "r = q.run()\n",
    "\n",
    "print(r)"
   ]
  },
  {
   "cell_type": "code",
   "execution_count": 5,
   "metadata": {},
   "outputs": [
    {
     "name": "stdout",
     "output_type": "stream",
     "text": [
      "\n",
      "Query: SELECT * FROM gdc-bq-sample.cda_mvp.v3, UNNEST(ResearchSubject) AS _ResearchSubject, UNNEST(_ResearchSubject.Specimen) AS _Specimen, UNNEST(_ResearchSubject.Diagnosis) AS _Diagnosis WHERE ((_Specimen.primary_disease_type = 'Nevi and Melanomas') AND (_Diagnosis.age_at_diagnosis < 30*365))\n",
      "Offset: 0\n",
      "Limit: 1000\n",
      "Count: 647\n",
      "More pages: No\n",
      "\n"
     ]
    }
   ],
   "source": [
    "q1 = Q('ResearchSubject.Specimen.primary_disease_type = \"Nevi and Melanomas\"')\n",
    "q2 = Q('ResearchSubject.Diagnosis.age_at_diagnosis < 30*365')\n",
    "\n",
    "q = q1.And(q2)\n",
    "r = q.run()\n",
    "\n",
    "print(r)"
   ]
  },
  {
   "cell_type": "code",
   "execution_count": 6,
   "metadata": {},
   "outputs": [
    {
     "data": {
      "text/plain": [
       "['__class__',\n",
       " '__delattr__',\n",
       " '__dict__',\n",
       " '__dir__',\n",
       " '__doc__',\n",
       " '__eq__',\n",
       " '__format__',\n",
       " '__ge__',\n",
       " '__getattribute__',\n",
       " '__getitem__',\n",
       " '__gt__',\n",
       " '__hash__',\n",
       " '__init__',\n",
       " '__init_subclass__',\n",
       " '__le__',\n",
       " '__lt__',\n",
       " '__module__',\n",
       " '__ne__',\n",
       " '__new__',\n",
       " '__reduce__',\n",
       " '__reduce_ex__',\n",
       " '__repr__',\n",
       " '__setattr__',\n",
       " '__sizeof__',\n",
       " '__str__',\n",
       " '__subclasshook__',\n",
       " '__weakref__',\n",
       " '_api_response',\n",
       " '_get_result',\n",
       " '_host',\n",
       " '_limit',\n",
       " '_offset',\n",
       " '_version',\n",
       " 'count',\n",
       " 'next_page',\n",
       " 'pretty_print',\n",
       " 'prev_page',\n",
       " 'sql']"
      ]
     },
     "execution_count": 6,
     "metadata": {},
     "output_type": "execute_result"
    }
   ],
   "source": [
    "dir(r)"
   ]
  },
  {
   "cell_type": "code",
   "execution_count": 10,
   "metadata": {},
   "outputs": [
    {
     "data": {
      "text/plain": [
       "647"
      ]
     },
     "execution_count": 10,
     "metadata": {},
     "output_type": "execute_result"
    }
   ],
   "source": [
    "r.count"
   ]
  },
  {
   "cell_type": "code",
   "execution_count": 9,
   "metadata": {},
   "outputs": [
    {
     "name": "stdout",
     "output_type": "stream",
     "text": [
      "\n",
      "Query: SELECT * FROM gdc-bq-sample.cda_mvp.v3, UNNEST(ResearchSubject) AS _ResearchSubject, UNNEST(_ResearchSubject.Specimen) AS _Specimen WHERE (((_Specimen.source_material_type = 'Primary Tumor') AND ((v3.sex = 'female') AND (v3.days_to_birth > -60*365))) AND ((_ResearchSubject.primary_disease_site = 'Ovary') OR (_ResearchSubject.primary_disease_site = 'Breast')))\n",
      "Offset: 0\n",
      "Limit: 1000\n",
      "Count: 1000\n",
      "More pages: Yes\n",
      "\n"
     ]
    }
   ],
   "source": [
    "tumor_type = Q('ResearchSubject.Specimen.source_material_type = \"Primary Tumor\"')\n",
    "disease1 = Q('ResearchSubject.primary_disease_site = \"Ovary\"')\n",
    "disease2 = Q('ResearchSubject.primary_disease_site = \"Breast\"')\n",
    "demographics1 = Q('sex = \"female\"')\n",
    "demographics2 = Q('days_to_birth > -60*365') # note that days_to_birth is a negative value\n",
    "\n",
    "q1 = tumor_type.And(demographics1.And(demographics2))\n",
    "q2 = disease1.Or(disease2)\n",
    "q = q1.And(q2)\n",
    "\n",
    "r = q.run()\n",
    "print(r)\n",
    "\n"
   ]
  },
  {
   "cell_type": "code",
   "execution_count": 10,
   "metadata": {},
   "outputs": [
    {
     "name": "stdout",
     "output_type": "stream",
     "text": [
      "Loop Count: 1\tReturn Count: 1000\tCase Count: 0\n",
      "\n",
      "Loop Count: 2\tReturn Count: 1000\tCase Count: 1000\n",
      "\n",
      "Loop Count: 3\tReturn Count: 1000\tCase Count: 2000\n",
      "\n",
      "Loop Count: 4\tReturn Count: 1000\tCase Count: 3000\n",
      "\n",
      "Loop Count: 5\tReturn Count: 1000\tCase Count: 4000\n",
      "\n",
      "Loop Count: 6\tReturn Count: 1000\tCase Count: 5000\n",
      "\n",
      "Loop Count: 7\tReturn Count: 1000\tCase Count: 6000\n",
      "\n",
      "Loop Count: 8\tReturn Count: 1000\tCase Count: 7000\n",
      "\n",
      "Loop Count: 9\tReturn Count: 1000\tCase Count: 8000\n",
      "\n",
      "Loop Count: 10\tReturn Count: 1000\tCase Count: 9000\n",
      "\n",
      "Loop Count: 11\tReturn Count: 1000\tCase Count: 10000\n",
      "\n",
      "Loop Count: 12\tReturn Count: 1000\tCase Count: 11000\n",
      "\n",
      "Loop Count: 13\tReturn Count: 1000\tCase Count: 12000\n",
      "\n",
      "Loop Count: 14\tReturn Count: 1000\tCase Count: 13000\n",
      "\n",
      "Loop Count: 15\tReturn Count: 1000\tCase Count: 14000\n",
      "\n",
      "Loop Count: 16\tReturn Count: 1000\tCase Count: 15000\n",
      "\n",
      "Loop Count: 17\tReturn Count: 1000\tCase Count: 16000\n",
      "\n",
      "Loop Count: 18\tReturn Count: 1000\tCase Count: 17000\n",
      "\n",
      "Loop Count: 19\tReturn Count: 1000\tCase Count: 18000\n",
      "\n",
      "Loop Count: 20\tReturn Count: 1000\tCase Count: 19000\n",
      "\n",
      "Loop Count: 21\tReturn Count: 1000\tCase Count: 20000\n",
      "\n",
      "Loop Count: 22\tReturn Count: 1000\tCase Count: 21000\n",
      "\n",
      "Loop Count: 23\tReturn Count: 1000\tCase Count: 22000\n",
      "\n",
      "Loop Count: 24\tReturn Count: 1000\tCase Count: 23000\n",
      "\n",
      "Loop Count: 25\tReturn Count: 1000\tCase Count: 24000\n",
      "\n",
      "Loop Count: 26\tReturn Count: 1000\tCase Count: 25000\n",
      "\n",
      "Loop Count: 27\tReturn Count: 1000\tCase Count: 26000\n",
      "\n"
     ]
    }
   ],
   "source": [
    "limit = 1000\n",
    "loopcounter = 1\n",
    "casecounter = 0\n",
    "while r.count == limit:\n",
    "    print((\"Loop Count: %s\\tReturn Count: %s\\tCase Count: %s\\n\") % (str(loopcounter), str(r.count), str(casecounter)))\n",
    "    loopcounter = loopcounter + 1\n",
    "    casecounter = casecounter + r.count\n",
    "    r = r.next_page()"
   ]
  },
  {
   "cell_type": "code",
   "execution_count": 3,
   "metadata": {},
   "outputs": [
    {
     "name": "stderr",
     "output_type": "stream",
     "text": [
      "SELECT DISTINCT(_File.data_category) FROM `gdc-bq-sample.cda_mvp.v3`, UNNEST(ResearchSubject) AS _ResearchSubject,UNNEST(_ResearchSubject.Specimen) AS _Specimen,UNNEST(_Specimen.File) AS _File ORDER BY _File.data_category\n"
     ]
    },
    {
     "data": {
      "text/plain": [
       "['Biospecimen',\n",
       " 'Combined Nucleotide Variation',\n",
       " 'Copy Number Variation',\n",
       " 'DNA Methylation',\n",
       " 'Peptide Spectral Matches',\n",
       " 'Processed Mass Spectra',\n",
       " 'Raw Mass Spectra',\n",
       " 'Sequencing Reads',\n",
       " 'Simple Nucleotide Variation',\n",
       " 'Somatic Structural Variation',\n",
       " 'Structural Variation',\n",
       " 'Transcriptome Profiling']"
      ]
     },
     "execution_count": 3,
     "metadata": {},
     "output_type": "execute_result"
    }
   ],
   "source": [
    "unique_terms(\"ResearchSubject.Specimen.File.data_category\")"
   ]
  },
  {
   "cell_type": "code",
   "execution_count": null,
   "metadata": {},
   "outputs": [],
   "source": []
  }
 ],
 "metadata": {
  "kernelspec": {
   "display_name": "Python 3",
   "language": "python",
   "name": "python3"
  },
  "language_info": {
   "codemirror_mode": {
    "name": "ipython",
    "version": 3
   },
   "file_extension": ".py",
   "mimetype": "text/x-python",
   "name": "python",
   "nbconvert_exporter": "python",
   "pygments_lexer": "ipython3",
   "version": "3.8.5"
  }
 },
 "nbformat": 4,
 "nbformat_minor": 4
}
