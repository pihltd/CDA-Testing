{
 "cells": [
  {
   "cell_type": "code",
   "execution_count": 1,
   "metadata": {},
   "outputs": [],
   "source": [
    "from cdapython import Q, columns, unique_terms"
   ]
  },
  {
   "cell_type": "code",
   "execution_count": 88,
   "metadata": {},
   "outputs": [],
   "source": [
    "q1 = Q('ResearchSubject.primary_disease_type = \"Adenomas and Adenocarcinomas\"')\n",
    "q2 = Q('ResearchSubject.associated_project = \"TCGA-UCS\"')\n",
    "limit = 10\n",
    "r = q2.run(limit = limit)"
   ]
  },
  {
   "cell_type": "code",
   "execution_count": 81,
   "metadata": {},
   "outputs": [
    {
     "data": {
      "text/plain": [
       "<cdapython.Result at 0x7f92f50f0730>"
      ]
     },
     "execution_count": 81,
     "metadata": {},
     "output_type": "execute_result"
    }
   ],
   "source": [
    "r.next_page()"
   ]
  },
  {
   "cell_type": "code",
   "execution_count": 56,
   "metadata": {},
   "outputs": [
    {
     "name": "stdout",
     "output_type": "stream",
     "text": [
      "\n",
      "Query: SELECT * FROM gdc-bq-sample.cda_mvp.v2, UNNEST(ResearchSubject) AS _ResearchSubject WHERE (_ResearchSubject.associated_project = 'TCGA-UCS')\n",
      "Offset: 0\n",
      "Limit: 10\n",
      "Count: 10\n",
      "More pages: Yes\n",
      "\n"
     ]
    }
   ],
   "source": [
    "print(r)"
   ]
  },
  {
   "cell_type": "code",
   "execution_count": 57,
   "metadata": {},
   "outputs": [
    {
     "data": {
      "text/plain": [
       "10"
      ]
     },
     "execution_count": 57,
     "metadata": {},
     "output_type": "execute_result"
    }
   ],
   "source": [
    "r.count"
   ]
  },
  {
   "cell_type": "code",
   "execution_count": 58,
   "metadata": {},
   "outputs": [
    {
     "data": {
      "text/plain": [
       "\"SELECT * FROM gdc-bq-sample.cda_mvp.v2, UNNEST(ResearchSubject) AS _ResearchSubject WHERE (_ResearchSubject.associated_project = 'TCGA-UCS')\""
      ]
     },
     "execution_count": 58,
     "metadata": {},
     "output_type": "execute_result"
    }
   ],
   "source": [
    "r.sql"
   ]
  },
  {
   "cell_type": "code",
   "execution_count": 59,
   "metadata": {},
   "outputs": [
    {
     "data": {
      "text/plain": [
       "['__class__',\n",
       " '__delattr__',\n",
       " '__dict__',\n",
       " '__dir__',\n",
       " '__doc__',\n",
       " '__eq__',\n",
       " '__format__',\n",
       " '__ge__',\n",
       " '__getattribute__',\n",
       " '__getitem__',\n",
       " '__gt__',\n",
       " '__hash__',\n",
       " '__init__',\n",
       " '__init_subclass__',\n",
       " '__le__',\n",
       " '__lt__',\n",
       " '__module__',\n",
       " '__ne__',\n",
       " '__new__',\n",
       " '__reduce__',\n",
       " '__reduce_ex__',\n",
       " '__repr__',\n",
       " '__setattr__',\n",
       " '__sizeof__',\n",
       " '__str__',\n",
       " '__subclasshook__',\n",
       " '__weakref__',\n",
       " '_api_response',\n",
       " '_get_result',\n",
       " '_host',\n",
       " '_limit',\n",
       " '_offset',\n",
       " '_version',\n",
       " 'count',\n",
       " 'next_page',\n",
       " 'pretty_print',\n",
       " 'prev_page',\n",
       " 'sql']"
      ]
     },
     "execution_count": 59,
     "metadata": {},
     "output_type": "execute_result"
    }
   ],
   "source": [
    "dir(r)"
   ]
  },
  {
   "cell_type": "code",
   "execution_count": 70,
   "metadata": {},
   "outputs": [
    {
     "name": "stdout",
     "output_type": "stream",
     "text": [
      "dict_keys(['days_to_birth', 'race', 'sex', 'ethnicity', 'id', 'ResearchSubject', 'Diagnosis', 'Specimen', 'associated_project', 'primary_disease_type', 'identifier', 'primary_disease_site'])\n"
     ]
    }
   ],
   "source": [
    "print(r[0].keys())"
   ]
  },
  {
   "cell_type": "code",
   "execution_count": 71,
   "metadata": {},
   "outputs": [],
   "source": [
    "def loopPrint(result, counter):\n",
    "    for subject in result:\n",
    "        count = result.count\n",
    "       # print(count)\n",
    "        subjectid = subject['id']\n",
    "        #print(id)\n",
    "        sex = subject['sex']\n",
    "        #print(sex)\n",
    "        age = subject['days_to_birth']\n",
    "        #print(age)\n",
    "        #age = age/365\n",
    "        disease = subject['primary_disease_type']\n",
    "        #print(disease)\n",
    "        #print((\"ID: %s\\tSex: %s\\tAge: %s\\tDisease: %s\\tCount: \\n\") % (subjectid,sex,age,disease, count))\n",
    "        print((\"Counter: %s\\tID: %s\\tCount: %s\\tDisease: %s\\n\") % (str(counter),subjectid, count, disease))\n",
    "        counter = counter +1\n",
    "    return counter"
   ]
  },
  {
   "cell_type": "code",
   "execution_count": 89,
   "metadata": {},
   "outputs": [
    {
     "name": "stdout",
     "output_type": "stream",
     "text": [
      "<bound method Result.next_page of <cdapython.Result object at 0x7f92f5154550>>\n",
      "Complex Mixed and Stromal Neoplasms\n",
      "Counter: 0\tID: 8c113bc1-101b-405f-9eb1-8c9e8ebbe185\tCount: 10\tDisease: Complex Mixed and Stromal Neoplasms\n",
      "\n",
      "Complex Mixed and Stromal Neoplasms\n",
      "Counter: 1\tID: 75a43851-8fa0-4259-b843-88dc6fbce270\tCount: 10\tDisease: Complex Mixed and Stromal Neoplasms\n",
      "\n",
      "Complex Mixed and Stromal Neoplasms\n",
      "Counter: 2\tID: 2aa77a19-efde-478a-a113-c0af75708b31\tCount: 10\tDisease: Complex Mixed and Stromal Neoplasms\n",
      "\n",
      "Complex Mixed and Stromal Neoplasms\n",
      "Counter: 3\tID: 276dd6d1-a5ad-4b64-8536-916584805091\tCount: 10\tDisease: Complex Mixed and Stromal Neoplasms\n",
      "\n",
      "Complex Mixed and Stromal Neoplasms\n",
      "Counter: 4\tID: f98c183e-aaa1-40c4-83e7-c248cc3adb55\tCount: 10\tDisease: Complex Mixed and Stromal Neoplasms\n",
      "\n",
      "Complex Mixed and Stromal Neoplasms\n",
      "Counter: 5\tID: 6db758a1-dd0f-4abb-a0ca-80c4b135e8a5\tCount: 10\tDisease: Complex Mixed and Stromal Neoplasms\n",
      "\n",
      "Complex Mixed and Stromal Neoplasms\n",
      "Counter: 6\tID: 6385194a-d75b-4bd3-9e70-9aa36250d5b9\tCount: 10\tDisease: Complex Mixed and Stromal Neoplasms\n",
      "\n",
      "Complex Mixed and Stromal Neoplasms\n",
      "Counter: 7\tID: ee6083aa-9453-44ff-8cc5-79b71fea289d\tCount: 10\tDisease: Complex Mixed and Stromal Neoplasms\n",
      "\n",
      "Complex Mixed and Stromal Neoplasms\n",
      "Counter: 8\tID: 158fd4c2-68dc-4ca4-8130-d5589c80d825\tCount: 10\tDisease: Complex Mixed and Stromal Neoplasms\n",
      "\n",
      "Complex Mixed and Stromal Neoplasms\n",
      "Counter: 9\tID: 83059a0f-4de9-454c-8e51-9265ab5f3558\tCount: 10\tDisease: Complex Mixed and Stromal Neoplasms\n",
      "\n",
      "10\n",
      "<bound method Result.next_page of <cdapython.Result object at 0x7f92f51545b0>>\n",
      "Complex Mixed and Stromal Neoplasms\n",
      "Counter: 10\tID: 254f6921-82ac-4fe1-b1b4-ace94c420d05\tCount: 10\tDisease: Complex Mixed and Stromal Neoplasms\n",
      "\n",
      "Complex Mixed and Stromal Neoplasms\n",
      "Counter: 11\tID: 3af5b391-e72f-463d-a086-a86c6c30a51a\tCount: 10\tDisease: Complex Mixed and Stromal Neoplasms\n",
      "\n",
      "Complex Mixed and Stromal Neoplasms\n",
      "Counter: 12\tID: 33ad8d6e-10f4-4965-9721-1a9984f9e87d\tCount: 10\tDisease: Complex Mixed and Stromal Neoplasms\n",
      "\n",
      "Complex Mixed and Stromal Neoplasms\n",
      "Counter: 13\tID: 4a31c620-5c6e-44ae-b7f0-0553c4b7eb33\tCount: 10\tDisease: Complex Mixed and Stromal Neoplasms\n",
      "\n",
      "Complex Mixed and Stromal Neoplasms\n",
      "Counter: 14\tID: 6717b82e-889d-45a4-9638-4d0e023399cc\tCount: 10\tDisease: Complex Mixed and Stromal Neoplasms\n",
      "\n",
      "Complex Mixed and Stromal Neoplasms\n",
      "Counter: 15\tID: 245e4254-dbc1-45bd-b5df-504d8c3822de\tCount: 10\tDisease: Complex Mixed and Stromal Neoplasms\n",
      "\n",
      "Complex Mixed and Stromal Neoplasms\n",
      "Counter: 16\tID: 82c37e7c-0899-497e-9753-84da21f8e0fe\tCount: 10\tDisease: Complex Mixed and Stromal Neoplasms\n",
      "\n",
      "Complex Mixed and Stromal Neoplasms\n",
      "Counter: 17\tID: 51f6692d-a05b-474b-ba99-637c8bc49b30\tCount: 10\tDisease: Complex Mixed and Stromal Neoplasms\n",
      "\n",
      "Complex Mixed and Stromal Neoplasms\n",
      "Counter: 18\tID: 6e22b287-5b45-4f5f-a825-b200aa6943e6\tCount: 10\tDisease: Complex Mixed and Stromal Neoplasms\n",
      "\n",
      "Complex Mixed and Stromal Neoplasms\n",
      "Counter: 19\tID: 76e4538f-3383-46b0-884d-978d031ee182\tCount: 10\tDisease: Complex Mixed and Stromal Neoplasms\n",
      "\n",
      "10\n",
      "<bound method Result.next_page of <cdapython.Result object at 0x7f93143a5970>>\n",
      "Complex Mixed and Stromal Neoplasms\n",
      "Counter: 20\tID: 8481dc3d-109a-4f2d-a0ad-8f0fd2a61a53\tCount: 10\tDisease: Complex Mixed and Stromal Neoplasms\n",
      "\n",
      "Complex Mixed and Stromal Neoplasms\n",
      "Counter: 21\tID: 8703c5c3-d519-4d78-a5f6-2ef53fca277a\tCount: 10\tDisease: Complex Mixed and Stromal Neoplasms\n",
      "\n",
      "Complex Mixed and Stromal Neoplasms\n",
      "Counter: 22\tID: d9952e44-b573-4854-893e-b3bbc5287f2f\tCount: 10\tDisease: Complex Mixed and Stromal Neoplasms\n",
      "\n",
      "Complex Mixed and Stromal Neoplasms\n",
      "Counter: 23\tID: 1d2937e8-6104-4330-b7dc-7bcd79dac927\tCount: 10\tDisease: Complex Mixed and Stromal Neoplasms\n",
      "\n",
      "Complex Mixed and Stromal Neoplasms\n",
      "Counter: 24\tID: ddfdd05e-058c-4877-b389-724a6c101353\tCount: 10\tDisease: Complex Mixed and Stromal Neoplasms\n",
      "\n",
      "Complex Mixed and Stromal Neoplasms\n",
      "Counter: 25\tID: eec002c4-7602-4179-8eb3-2b0508d5ee1c\tCount: 10\tDisease: Complex Mixed and Stromal Neoplasms\n",
      "\n",
      "Complex Mixed and Stromal Neoplasms\n",
      "Counter: 26\tID: 8b7c42cd-fc2a-4023-843e-a411821f94ff\tCount: 10\tDisease: Complex Mixed and Stromal Neoplasms\n",
      "\n",
      "Complex Mixed and Stromal Neoplasms\n",
      "Counter: 27\tID: 98315e03-ffe8-449c-8f92-7fd2c0f20b79\tCount: 10\tDisease: Complex Mixed and Stromal Neoplasms\n",
      "\n",
      "Complex Mixed and Stromal Neoplasms\n",
      "Counter: 28\tID: 8c8d4495-1a1d-4942-b0f0-1445fd05dfce\tCount: 10\tDisease: Complex Mixed and Stromal Neoplasms\n",
      "\n",
      "Complex Mixed and Stromal Neoplasms\n",
      "Counter: 29\tID: f2cc142b-9fc0-44d9-9ae3-558b4eace375\tCount: 10\tDisease: Complex Mixed and Stromal Neoplasms\n",
      "\n",
      "10\n",
      "<bound method Result.next_page of <cdapython.Result object at 0x7f92f5154cd0>>\n",
      "Complex Mixed and Stromal Neoplasms\n",
      "Counter: 30\tID: cdde118f-4673-4e7e-b965-1f9fe007050d\tCount: 10\tDisease: Complex Mixed and Stromal Neoplasms\n",
      "\n",
      "Complex Mixed and Stromal Neoplasms\n",
      "Counter: 31\tID: 3428aa0a-127d-492a-bf4a-ee82563d3701\tCount: 10\tDisease: Complex Mixed and Stromal Neoplasms\n",
      "\n",
      "Complex Mixed and Stromal Neoplasms\n",
      "Counter: 32\tID: ae10b73d-e7f4-4334-8452-167b60d71cb5\tCount: 10\tDisease: Complex Mixed and Stromal Neoplasms\n",
      "\n",
      "Complex Mixed and Stromal Neoplasms\n",
      "Counter: 33\tID: 4daeefc3-0e2e-4537-8e13-af9717b3ce29\tCount: 10\tDisease: Complex Mixed and Stromal Neoplasms\n",
      "\n",
      "Complex Mixed and Stromal Neoplasms\n",
      "Counter: 34\tID: 64d00705-5070-4338-9433-ba74424528b3\tCount: 10\tDisease: Complex Mixed and Stromal Neoplasms\n",
      "\n",
      "Complex Mixed and Stromal Neoplasms\n",
      "Counter: 35\tID: 485b221f-f40f-46a0-a9cf-023f807e6146\tCount: 10\tDisease: Complex Mixed and Stromal Neoplasms\n",
      "\n",
      "Complex Mixed and Stromal Neoplasms\n",
      "Counter: 36\tID: 8def73e4-83a5-4998-8f6e-f71f21c946ac\tCount: 10\tDisease: Complex Mixed and Stromal Neoplasms\n",
      "\n",
      "Complex Mixed and Stromal Neoplasms\n",
      "Counter: 37\tID: 605e9e51-270c-48fb-b198-46b5512b29da\tCount: 10\tDisease: Complex Mixed and Stromal Neoplasms\n",
      "\n",
      "Complex Mixed and Stromal Neoplasms\n",
      "Counter: 38\tID: 200f77a5-803c-4891-980b-5c3b08c91254\tCount: 10\tDisease: Complex Mixed and Stromal Neoplasms\n",
      "\n",
      "Complex Mixed and Stromal Neoplasms\n",
      "Counter: 39\tID: ffedc8be-1056-4205-b9d9-99b5bdb872db\tCount: 10\tDisease: Complex Mixed and Stromal Neoplasms\n",
      "\n",
      "10\n",
      "<bound method Result.next_page of <cdapython.Result object at 0x7f92f5154520>>\n",
      "Complex Mixed and Stromal Neoplasms\n",
      "Counter: 40\tID: 4f0124a6-4a5b-4e42-b9ff-d7de51d2148c\tCount: 10\tDisease: Complex Mixed and Stromal Neoplasms\n",
      "\n",
      "Complex Mixed and Stromal Neoplasms\n",
      "Counter: 41\tID: 9f15bf13-11d2-400f-b6f9-c8be0a57c763\tCount: 10\tDisease: Complex Mixed and Stromal Neoplasms\n",
      "\n",
      "Complex Mixed and Stromal Neoplasms\n",
      "Counter: 42\tID: 9205fbf2-f4ba-475c-8351-1aae5ff3b8bf\tCount: 10\tDisease: Complex Mixed and Stromal Neoplasms\n",
      "\n",
      "Complex Mixed and Stromal Neoplasms\n",
      "Counter: 43\tID: 14213209-2217-4812-9a19-d9b2b6718467\tCount: 10\tDisease: Complex Mixed and Stromal Neoplasms\n",
      "\n",
      "Complex Mixed and Stromal Neoplasms\n",
      "Counter: 44\tID: 76b0106c-a4d2-4b29-bef4-fe03a25b5d21\tCount: 10\tDisease: Complex Mixed and Stromal Neoplasms\n",
      "\n",
      "Complex Mixed and Stromal Neoplasms\n",
      "Counter: 45\tID: 108d4b89-d1d5-4528-a040-c7e5696c8417\tCount: 10\tDisease: Complex Mixed and Stromal Neoplasms\n",
      "\n",
      "Complex Mixed and Stromal Neoplasms\n",
      "Counter: 46\tID: 4f4906dc-7ebd-47f1-a8f5-b35d3950e740\tCount: 10\tDisease: Complex Mixed and Stromal Neoplasms\n",
      "\n",
      "Complex Mixed and Stromal Neoplasms\n",
      "Counter: 47\tID: 1791e250-70ac-439c-828b-15ba811935cc\tCount: 10\tDisease: Complex Mixed and Stromal Neoplasms\n",
      "\n",
      "Complex Mixed and Stromal Neoplasms\n",
      "Counter: 48\tID: 37c77a51-efce-46bd-ab8c-93e17c04c6ac\tCount: 10\tDisease: Complex Mixed and Stromal Neoplasms\n",
      "\n",
      "Complex Mixed and Stromal Neoplasms\n",
      "Counter: 49\tID: 6dfe9121-29a0-4593-984f-1644166e1d39\tCount: 10\tDisease: Complex Mixed and Stromal Neoplasms\n",
      "\n",
      "7\n",
      "<bound method Result.next_page of <cdapython.Result object at 0x7f92f5154e50>>\n",
      "Complex Mixed and Stromal Neoplasms\n",
      "Counter: 50\tID: b0770eff-dff2-4e10-8fc9-c07a81efcc5e\tCount: 7\tDisease: Complex Mixed and Stromal Neoplasms\n",
      "\n",
      "Complex Mixed and Stromal Neoplasms\n",
      "Counter: 51\tID: a1206473-cf9d-4bca-97c9-67f35817b806\tCount: 7\tDisease: Complex Mixed and Stromal Neoplasms\n",
      "\n",
      "Complex Mixed and Stromal Neoplasms\n",
      "Counter: 52\tID: ce2b2c41-7d28-4d8b-a037-af842a8fe20f\tCount: 7\tDisease: Complex Mixed and Stromal Neoplasms\n",
      "\n",
      "Complex Mixed and Stromal Neoplasms\n",
      "Counter: 53\tID: 79823022-7feb-49de-8de7-607721b595d2\tCount: 7\tDisease: Complex Mixed and Stromal Neoplasms\n",
      "\n",
      "Complex Mixed and Stromal Neoplasms\n",
      "Counter: 54\tID: 89d0b316-65de-4f4c-988a-3c3861a68090\tCount: 7\tDisease: Complex Mixed and Stromal Neoplasms\n",
      "\n",
      "Complex Mixed and Stromal Neoplasms\n",
      "Counter: 55\tID: 2aad74b4-8d66-4563-8958-88d83f86556d\tCount: 7\tDisease: Complex Mixed and Stromal Neoplasms\n",
      "\n",
      "Complex Mixed and Stromal Neoplasms\n",
      "Counter: 56\tID: ebb834c6-374e-4077-a4ce-c74a850be358\tCount: 7\tDisease: Complex Mixed and Stromal Neoplasms\n",
      "\n"
     ]
    }
   ],
   "source": [
    "counter = 0\n",
    "print(r.next_page)\n",
    "counter = loopPrint(r, counter)\n",
    "while r.count >= limit:\n",
    "    r = r.next_page()\n",
    "    print(r.count)\n",
    "    print(r.next_page)\n",
    "    counter = loopPrint(r, counter)"
   ]
  },
  {
   "cell_type": "code",
   "execution_count": 8,
   "metadata": {
    "collapsed": true,
    "jupyter": {
     "outputs_hidden": true
    }
   },
   "outputs": [
    {
     "data": {
      "text/plain": [
       "1000"
      ]
     },
     "execution_count": 8,
     "metadata": {},
     "output_type": "execute_result"
    }
   ],
   "source": [
    "r.count"
   ]
  },
  {
   "cell_type": "code",
   "execution_count": 9,
   "metadata": {
    "collapsed": true,
    "jupyter": {
     "outputs_hidden": true
    }
   },
   "outputs": [
    {
     "name": "stdout",
     "output_type": "stream",
     "text": [
      "\n",
      "Query: SELECT * FROM gdc-bq-sample.cda_mvp.v2, UNNEST(ResearchSubject) AS _ResearchSubject WHERE (_ResearchSubject.primary_disease_type = 'Adenomas and Adenocarcinomas')\n",
      "Offset: 0\n",
      "Limit: 1000\n",
      "Count: 1000\n",
      "More pages: Yes\n",
      "\n"
     ]
    }
   ],
   "source": [
    "print(r)"
   ]
  },
  {
   "cell_type": "code",
   "execution_count": 10,
   "metadata": {},
   "outputs": [],
   "source": [
    "r2 = r.next_page()"
   ]
  },
  {
   "cell_type": "code",
   "execution_count": 11,
   "metadata": {
    "collapsed": true,
    "jupyter": {
     "outputs_hidden": true
    }
   },
   "outputs": [
    {
     "name": "stdout",
     "output_type": "stream",
     "text": [
      "\n",
      "Query: SELECT * FROM gdc-bq-sample.cda_mvp.v2, UNNEST(ResearchSubject) AS _ResearchSubject WHERE (_ResearchSubject.primary_disease_type = 'Adenomas and Adenocarcinomas')\n",
      "Offset: 1000\n",
      "Limit: 1000\n",
      "Count: 1000\n",
      "More pages: Yes\n",
      "\n"
     ]
    }
   ],
   "source": [
    "print(r2)"
   ]
  },
  {
   "cell_type": "code",
   "execution_count": 12,
   "metadata": {
    "collapsed": true,
    "jupyter": {
     "outputs_hidden": true
    }
   },
   "outputs": [
    {
     "name": "stdout",
     "output_type": "stream",
     "text": [
      "{ 'Diagnosis': [ { 'Treatment': [],\n",
      "                   'age_at_diagnosis': 19558,\n",
      "                   'id': '337747ae-4012-4e47-82cb-f5d1cdb037f6',\n",
      "                   'morphology': '8140/3',\n",
      "                   'primary_diagnosis': 'Adenocarcinoma, NOS',\n",
      "                   'tumor_grade': 'Not Reported',\n",
      "                   'tumor_stage': 'not reported'}],\n",
      "  'ResearchSubject': [ { 'Diagnosis': [ { 'Treatment': [],\n",
      "                                          'age_at_diagnosis': 19558,\n",
      "                                          'id': '337747ae-4012-4e47-82cb-f5d1cdb037f6',\n",
      "                                          'morphology': '8140/3',\n",
      "                                          'primary_diagnosis': 'Adenocarcinoma, '\n",
      "                                                               'NOS',\n",
      "                                          'tumor_grade': 'Not Reported',\n",
      "                                          'tumor_stage': 'not reported'}],\n",
      "                         'Specimen': [ { 'File': [ { 'associated_project': [ 'FM-AD'],\n",
      "                                                     'byte_size': 4087733,\n",
      "                                                     'checksum': 'f1084c8659513993d8346382b7918828',\n",
      "                                                     'data_category': 'Simple '\n",
      "                                                                      'Nucleotide '\n",
      "                                                                      'Variation',\n",
      "                                                     'data_type': 'Aggregated '\n",
      "                                                                  'Somatic '\n",
      "                                                                  'Mutation',\n",
      "                                                     'file_format': None,\n",
      "                                                     'gcs_path': 'gs://gdc-fm-phs001179-controlled/48d0230e-fdb2-4085-a424-da0ac33afecf/FM-AD_SNV.Unknown.protected.maf.gz',\n",
      "                                                     'id': '48d0230e-fdb2-4085-a424-da0ac33afecf',\n",
      "                                                     'identifier': [ { 'system': 'GDC',\n",
      "                                                                       'value': '48d0230e-fdb2-4085-a424-da0ac33afecf'}],\n",
      "                                                     'label': 'FM-AD_SNV.Unknown.protected.maf.gz',\n",
      "                                                     'type': None},\n",
      "                                                   { 'associated_project': [ 'FM-AD'],\n",
      "                                                     'byte_size': 3655,\n",
      "                                                     'checksum': '3c2b5df5e05557cec4575047b7e9727c',\n",
      "                                                     'data_category': 'Simple '\n",
      "                                                                      'Nucleotide '\n",
      "                                                                      'Variation',\n",
      "                                                     'data_type': 'Annotated '\n",
      "                                                                  'Somatic '\n",
      "                                                                  'Mutation',\n",
      "                                                     'file_format': None,\n",
      "                                                     'gcs_path': 'gs://gdc-fm-phs001179-controlled/69ccb79c-3b73-486c-a465-3fefbe5fe328/69ccb79c-3b73-486c-a465-3fefbe5fe328.vep.vcf.gz',\n",
      "                                                     'id': '69ccb79c-3b73-486c-a465-3fefbe5fe328',\n",
      "                                                     'identifier': [ { 'system': 'GDC',\n",
      "                                                                       'value': '69ccb79c-3b73-486c-a465-3fefbe5fe328'}],\n",
      "                                                     'label': '69ccb79c-3b73-486c-a465-3fefbe5fe328.vep.vcf.gz',\n",
      "                                                     'type': None},\n",
      "                                                   { 'associated_project': [ 'FM-AD'],\n",
      "                                                     'byte_size': 1101,\n",
      "                                                     'checksum': 'c1d0c5ea69273a7998e165ea649f0dee',\n",
      "                                                     'data_category': 'Simple '\n",
      "                                                                      'Nucleotide '\n",
      "                                                                      'Variation',\n",
      "                                                     'data_type': 'Raw Simple '\n",
      "                                                                  'Somatic '\n",
      "                                                                  'Mutation',\n",
      "                                                     'file_format': None,\n",
      "                                                     'gcs_path': 'gs://gdc-fm-phs001179-controlled/8e26bdf5-4cc1-4d0c-ac77-b254ca220344/8e26bdf5-4cc1-4d0c-ac77-b254ca220344.vcf.gz',\n",
      "                                                     'id': '8e26bdf5-4cc1-4d0c-ac77-b254ca220344',\n",
      "                                                     'identifier': [ { 'system': 'GDC',\n",
      "                                                                       'value': '8e26bdf5-4cc1-4d0c-ac77-b254ca220344'}],\n",
      "                                                     'label': '8e26bdf5-4cc1-4d0c-ac77-b254ca220344.vcf.gz',\n",
      "                                                     'type': None}],\n",
      "                                         'age_at_collection': None,\n",
      "                                         'anatomical_site': None,\n",
      "                                         'associated_project': 'FM-AD',\n",
      "                                         'derived_from_specimen': 'Initial '\n",
      "                                                                  'sample',\n",
      "                                         'derived_from_subject': 'AD4050',\n",
      "                                         'id': 'c3a0fed2-6d61-4143-92be-f2c781afa1a2',\n",
      "                                         'identifier': [ { 'system': 'GDC',\n",
      "                                                           'value': 'c3a0fed2-6d61-4143-92be-f2c781afa1a2'}],\n",
      "                                         'primary_disease_type': 'Adenomas and '\n",
      "                                                                 'Adenocarcinomas',\n",
      "                                         'source_material_type': 'Tumor',\n",
      "                                         'specimen_type': 'sample'},\n",
      "                                       { 'File': [],\n",
      "                                         'age_at_collection': None,\n",
      "                                         'anatomical_site': None,\n",
      "                                         'associated_project': 'FM-AD',\n",
      "                                         'derived_from_specimen': 'c3a0fed2-6d61-4143-92be-f2c781afa1a2',\n",
      "                                         'derived_from_subject': 'AD4050',\n",
      "                                         'id': '744a5b11-b21b-4ffe-a77e-b6c2acf09457',\n",
      "                                         'identifier': [ { 'system': 'GDC',\n",
      "                                                           'value': '744a5b11-b21b-4ffe-a77e-b6c2acf09457'}],\n",
      "                                         'primary_disease_type': 'Adenomas and '\n",
      "                                                                 'Adenocarcinomas',\n",
      "                                         'source_material_type': 'Tumor',\n",
      "                                         'specimen_type': 'portion'},\n",
      "                                       { 'File': [],\n",
      "                                         'age_at_collection': None,\n",
      "                                         'anatomical_site': None,\n",
      "                                         'associated_project': 'FM-AD',\n",
      "                                         'derived_from_specimen': 'c3a0fed2-6d61-4143-92be-f2c781afa1a2',\n",
      "                                         'derived_from_subject': 'AD4050',\n",
      "                                         'id': '5ab23d0d-0924-44f9-ae7a-f8d5598524ee',\n",
      "                                         'identifier': [ { 'system': 'GDC',\n",
      "                                                           'value': '5ab23d0d-0924-44f9-ae7a-f8d5598524ee'}],\n",
      "                                         'primary_disease_type': 'Adenomas and '\n",
      "                                                                 'Adenocarcinomas',\n",
      "                                         'source_material_type': 'Tumor',\n",
      "                                         'specimen_type': 'portion'},\n",
      "                                       { 'File': [],\n",
      "                                         'age_at_collection': None,\n",
      "                                         'anatomical_site': None,\n",
      "                                         'associated_project': 'FM-AD',\n",
      "                                         'derived_from_specimen': '5ab23d0d-0924-44f9-ae7a-f8d5598524ee',\n",
      "                                         'derived_from_subject': 'AD4050',\n",
      "                                         'id': '50558053-1fb7-44fe-9b8d-852f3ceccaff',\n",
      "                                         'identifier': [ { 'system': 'GDC',\n",
      "                                                           'value': '50558053-1fb7-44fe-9b8d-852f3ceccaff'}],\n",
      "                                         'primary_disease_type': 'Adenomas and '\n",
      "                                                                 'Adenocarcinomas',\n",
      "                                         'source_material_type': 'Tumor',\n",
      "                                         'specimen_type': 'analyte'},\n",
      "                                       { 'File': [],\n",
      "                                         'age_at_collection': None,\n",
      "                                         'anatomical_site': None,\n",
      "                                         'associated_project': 'FM-AD',\n",
      "                                         'derived_from_specimen': '50558053-1fb7-44fe-9b8d-852f3ceccaff',\n",
      "                                         'derived_from_subject': 'AD4050',\n",
      "                                         'id': 'd78cc4f5-df9e-41e7-9bca-f7fbb83b34cb',\n",
      "                                         'identifier': [ { 'system': 'GDC',\n",
      "                                                           'value': 'd78cc4f5-df9e-41e7-9bca-f7fbb83b34cb'}],\n",
      "                                         'primary_disease_type': 'Adenomas and '\n",
      "                                                                 'Adenocarcinomas',\n",
      "                                         'source_material_type': 'Tumor',\n",
      "                                         'specimen_type': 'aliquot'}],\n",
      "                         'associated_project': 'FM-AD',\n",
      "                         'id': '58dde0b9-6977-4bfa-9e22-09a62a7b52ec',\n",
      "                         'identifier': [ { 'system': 'GDC',\n",
      "                                           'value': '58dde0b9-6977-4bfa-9e22-09a62a7b52ec'}],\n",
      "                         'primary_disease_site': 'Unknown',\n",
      "                         'primary_disease_type': 'Adenomas and '\n",
      "                                                 'Adenocarcinomas'}],\n",
      "  'Specimen': [ { 'File': [ { 'associated_project': ['FM-AD'],\n",
      "                              'byte_size': 4087733,\n",
      "                              'checksum': 'f1084c8659513993d8346382b7918828',\n",
      "                              'data_category': 'Simple Nucleotide Variation',\n",
      "                              'data_type': 'Aggregated Somatic Mutation',\n",
      "                              'file_format': None,\n",
      "                              'gcs_path': 'gs://gdc-fm-phs001179-controlled/48d0230e-fdb2-4085-a424-da0ac33afecf/FM-AD_SNV.Unknown.protected.maf.gz',\n",
      "                              'id': '48d0230e-fdb2-4085-a424-da0ac33afecf',\n",
      "                              'identifier': [ { 'system': 'GDC',\n",
      "                                                'value': '48d0230e-fdb2-4085-a424-da0ac33afecf'}],\n",
      "                              'label': 'FM-AD_SNV.Unknown.protected.maf.gz',\n",
      "                              'type': None},\n",
      "                            { 'associated_project': ['FM-AD'],\n",
      "                              'byte_size': 3655,\n",
      "                              'checksum': '3c2b5df5e05557cec4575047b7e9727c',\n",
      "                              'data_category': 'Simple Nucleotide Variation',\n",
      "                              'data_type': 'Annotated Somatic Mutation',\n",
      "                              'file_format': None,\n",
      "                              'gcs_path': 'gs://gdc-fm-phs001179-controlled/69ccb79c-3b73-486c-a465-3fefbe5fe328/69ccb79c-3b73-486c-a465-3fefbe5fe328.vep.vcf.gz',\n",
      "                              'id': '69ccb79c-3b73-486c-a465-3fefbe5fe328',\n",
      "                              'identifier': [ { 'system': 'GDC',\n",
      "                                                'value': '69ccb79c-3b73-486c-a465-3fefbe5fe328'}],\n",
      "                              'label': '69ccb79c-3b73-486c-a465-3fefbe5fe328.vep.vcf.gz',\n",
      "                              'type': None},\n",
      "                            { 'associated_project': ['FM-AD'],\n",
      "                              'byte_size': 1101,\n",
      "                              'checksum': 'c1d0c5ea69273a7998e165ea649f0dee',\n",
      "                              'data_category': 'Simple Nucleotide Variation',\n",
      "                              'data_type': 'Raw Simple Somatic Mutation',\n",
      "                              'file_format': None,\n",
      "                              'gcs_path': 'gs://gdc-fm-phs001179-controlled/8e26bdf5-4cc1-4d0c-ac77-b254ca220344/8e26bdf5-4cc1-4d0c-ac77-b254ca220344.vcf.gz',\n",
      "                              'id': '8e26bdf5-4cc1-4d0c-ac77-b254ca220344',\n",
      "                              'identifier': [ { 'system': 'GDC',\n",
      "                                                'value': '8e26bdf5-4cc1-4d0c-ac77-b254ca220344'}],\n",
      "                              'label': '8e26bdf5-4cc1-4d0c-ac77-b254ca220344.vcf.gz',\n",
      "                              'type': None}],\n",
      "                  'age_at_collection': None,\n",
      "                  'anatomical_site': None,\n",
      "                  'associated_project': 'FM-AD',\n",
      "                  'derived_from_specimen': 'Initial sample',\n",
      "                  'derived_from_subject': 'AD4050',\n",
      "                  'id': 'c3a0fed2-6d61-4143-92be-f2c781afa1a2',\n",
      "                  'identifier': [ { 'system': 'GDC',\n",
      "                                    'value': 'c3a0fed2-6d61-4143-92be-f2c781afa1a2'}],\n",
      "                  'primary_disease_type': 'Adenomas and Adenocarcinomas',\n",
      "                  'source_material_type': 'Tumor',\n",
      "                  'specimen_type': 'sample'},\n",
      "                { 'File': [],\n",
      "                  'age_at_collection': None,\n",
      "                  'anatomical_site': None,\n",
      "                  'associated_project': 'FM-AD',\n",
      "                  'derived_from_specimen': 'c3a0fed2-6d61-4143-92be-f2c781afa1a2',\n",
      "                  'derived_from_subject': 'AD4050',\n",
      "                  'id': '744a5b11-b21b-4ffe-a77e-b6c2acf09457',\n",
      "                  'identifier': [ { 'system': 'GDC',\n",
      "                                    'value': '744a5b11-b21b-4ffe-a77e-b6c2acf09457'}],\n",
      "                  'primary_disease_type': 'Adenomas and Adenocarcinomas',\n",
      "                  'source_material_type': 'Tumor',\n",
      "                  'specimen_type': 'portion'},\n",
      "                { 'File': [],\n",
      "                  'age_at_collection': None,\n",
      "                  'anatomical_site': None,\n",
      "                  'associated_project': 'FM-AD',\n",
      "                  'derived_from_specimen': 'c3a0fed2-6d61-4143-92be-f2c781afa1a2',\n",
      "                  'derived_from_subject': 'AD4050',\n",
      "                  'id': '5ab23d0d-0924-44f9-ae7a-f8d5598524ee',\n",
      "                  'identifier': [ { 'system': 'GDC',\n",
      "                                    'value': '5ab23d0d-0924-44f9-ae7a-f8d5598524ee'}],\n",
      "                  'primary_disease_type': 'Adenomas and Adenocarcinomas',\n",
      "                  'source_material_type': 'Tumor',\n",
      "                  'specimen_type': 'portion'},\n",
      "                { 'File': [],\n",
      "                  'age_at_collection': None,\n",
      "                  'anatomical_site': None,\n",
      "                  'associated_project': 'FM-AD',\n",
      "                  'derived_from_specimen': '5ab23d0d-0924-44f9-ae7a-f8d5598524ee',\n",
      "                  'derived_from_subject': 'AD4050',\n",
      "                  'id': '50558053-1fb7-44fe-9b8d-852f3ceccaff',\n",
      "                  'identifier': [ { 'system': 'GDC',\n",
      "                                    'value': '50558053-1fb7-44fe-9b8d-852f3ceccaff'}],\n",
      "                  'primary_disease_type': 'Adenomas and Adenocarcinomas',\n",
      "                  'source_material_type': 'Tumor',\n",
      "                  'specimen_type': 'analyte'},\n",
      "                { 'File': [],\n",
      "                  'age_at_collection': None,\n",
      "                  'anatomical_site': None,\n",
      "                  'associated_project': 'FM-AD',\n",
      "                  'derived_from_specimen': '50558053-1fb7-44fe-9b8d-852f3ceccaff',\n",
      "                  'derived_from_subject': 'AD4050',\n",
      "                  'id': 'd78cc4f5-df9e-41e7-9bca-f7fbb83b34cb',\n",
      "                  'identifier': [ { 'system': 'GDC',\n",
      "                                    'value': 'd78cc4f5-df9e-41e7-9bca-f7fbb83b34cb'}],\n",
      "                  'primary_disease_type': 'Adenomas and Adenocarcinomas',\n",
      "                  'source_material_type': 'Tumor',\n",
      "                  'specimen_type': 'aliquot'}],\n",
      "  'associated_project': 'FM-AD',\n",
      "  'days_to_birth': None,\n",
      "  'ethnicity': 'not reported',\n",
      "  'id': '58dde0b9-6977-4bfa-9e22-09a62a7b52ec',\n",
      "  'identifier': [ { 'system': 'GDC',\n",
      "                    'value': '58dde0b9-6977-4bfa-9e22-09a62a7b52ec'}],\n",
      "  'primary_disease_site': 'Unknown',\n",
      "  'primary_disease_type': 'Adenomas and Adenocarcinomas',\n",
      "  'race': 'not reported',\n",
      "  'sex': 'female'}\n"
     ]
    }
   ],
   "source": [
    "r2.pretty_print(1)"
   ]
  },
  {
   "cell_type": "code",
   "execution_count": 13,
   "metadata": {
    "collapsed": true,
    "jupyter": {
     "outputs_hidden": true
    }
   },
   "outputs": [
    {
     "name": "stderr",
     "output_type": "stream",
     "text": [
      "SELECT DISTINCT(_Specimen.associated_project) FROM `gdc-bq-sample.cda_mvp.v2`, UNNEST(ResearchSubject) AS _ResearchSubject,UNNEST(_ResearchSubject.Specimen) AS _Specimen ORDER BY _Specimen.associated_project\n"
     ]
    },
    {
     "data": {
      "text/plain": [
       "['Academia Sinica LUAD-100',\n",
       " 'BEATAML1.0-COHORT',\n",
       " 'BEATAML1.0-CRENOLANIB',\n",
       " 'CGCI-BLGSP',\n",
       " 'CGCI-HTMCP-CC',\n",
       " 'CMI-ASC',\n",
       " 'CMI-MBC',\n",
       " 'CMI-MPC',\n",
       " 'CPTAC-2',\n",
       " 'CPTAC-3',\n",
       " 'CPTAC-TCGA',\n",
       " 'CPTAC3-Discovery',\n",
       " 'CTSP-DLBCL1',\n",
       " 'FM-AD',\n",
       " 'GENIE-DFCI',\n",
       " 'GENIE-GRCC',\n",
       " 'GENIE-JHU',\n",
       " 'GENIE-MDA',\n",
       " 'GENIE-MSK',\n",
       " 'GENIE-NKI',\n",
       " 'GENIE-UHN',\n",
       " 'GENIE-VICC',\n",
       " 'Georgetown Lung Cancer Proteomics Study',\n",
       " 'HCMI-CMDC',\n",
       " 'Human Early-Onset Gastric Cancer - Korea University',\n",
       " 'Integrated Proteogenomic Characterization of HBV-related Hepatocellular carcinoma',\n",
       " 'MMRF-COMMPASS',\n",
       " 'NCICCR-DLBCL',\n",
       " 'OHSU-CNL',\n",
       " 'ORGANOID-PANCREATIC',\n",
       " 'Oral Squamous Cell Carcinoma - Chang Gung University',\n",
       " 'PJ25730263',\n",
       " 'Proteogenomic Analysis of Pediatric Brain Cancer Tumors Pilot Study',\n",
       " 'TARGET-ALL-P1',\n",
       " 'TARGET-ALL-P2',\n",
       " 'TARGET-ALL-P3',\n",
       " 'TARGET-AML',\n",
       " 'TARGET-CCSK',\n",
       " 'TARGET-NBL',\n",
       " 'TARGET-OS',\n",
       " 'TARGET-RT',\n",
       " 'TARGET-WT',\n",
       " 'TCGA-ACC',\n",
       " 'TCGA-BLCA',\n",
       " 'TCGA-BRCA',\n",
       " 'TCGA-CESC',\n",
       " 'TCGA-CHOL',\n",
       " 'TCGA-COAD',\n",
       " 'TCGA-DLBC',\n",
       " 'TCGA-ESCA',\n",
       " 'TCGA-GBM',\n",
       " 'TCGA-HNSC',\n",
       " 'TCGA-KICH',\n",
       " 'TCGA-KIRC',\n",
       " 'TCGA-KIRP',\n",
       " 'TCGA-LAML',\n",
       " 'TCGA-LGG',\n",
       " 'TCGA-LIHC',\n",
       " 'TCGA-LUAD',\n",
       " 'TCGA-LUSC',\n",
       " 'TCGA-MESO',\n",
       " 'TCGA-OV',\n",
       " 'TCGA-PAAD',\n",
       " 'TCGA-PCPG',\n",
       " 'TCGA-PRAD',\n",
       " 'TCGA-READ',\n",
       " 'TCGA-SARC',\n",
       " 'TCGA-SKCM',\n",
       " 'TCGA-STAD',\n",
       " 'TCGA-TGCT',\n",
       " 'TCGA-THCA',\n",
       " 'TCGA-THYM',\n",
       " 'TCGA-UCEC',\n",
       " 'TCGA-UCS',\n",
       " 'TCGA-UVM',\n",
       " 'VAREPOP-APOLLO',\n",
       " 'WCDT-MCRPC']"
      ]
     },
     "execution_count": 13,
     "metadata": {},
     "output_type": "execute_result"
    }
   ],
   "source": [
    "unique_terms('ResearchSubject.Specimen.associated_project')"
   ]
  }
 ],
 "metadata": {
  "kernelspec": {
   "display_name": "Python 3",
   "language": "python",
   "name": "python3"
  },
  "language_info": {
   "codemirror_mode": {
    "name": "ipython",
    "version": 3
   },
   "file_extension": ".py",
   "mimetype": "text/x-python",
   "name": "python",
   "nbconvert_exporter": "python",
   "pygments_lexer": "ipython3",
   "version": "3.8.5"
  }
 },
 "nbformat": 4,
 "nbformat_minor": 4
}
