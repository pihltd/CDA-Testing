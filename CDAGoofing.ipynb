{
 "cells": [
  {
   "cell_type": "code",
   "execution_count": 1,
   "metadata": {},
   "outputs": [],
   "source": [
    "from cdapython import Q, columns, unique_terms"
   ]
  },
  {
   "cell_type": "code",
   "execution_count": 2,
   "metadata": {},
   "outputs": [],
   "source": [
    "q1 = Q('ResearchSubject.primary_disease_type = \"Adenomas and Adenocarcinomas\"')\n",
    "r = q1.run()"
   ]
  },
  {
   "cell_type": "code",
   "execution_count": 3,
   "metadata": {},
   "outputs": [
    {
     "name": "stdout",
     "output_type": "stream",
     "text": [
      "\n",
      "Query: SELECT * FROM gdc-bq-sample.cda_mvp.v2, UNNEST(ResearchSubject) AS _ResearchSubject WHERE (_ResearchSubject.primary_disease_type = 'Adenomas and Adenocarcinomas')\n",
      "Offset: 0\n",
      "Limit: 1000\n",
      "Count: 1000\n",
      "More pages: Yes\n",
      "\n"
     ]
    }
   ],
   "source": [
    "print(r)"
   ]
  },
  {
   "cell_type": "code",
   "execution_count": 4,
   "metadata": {},
   "outputs": [
    {
     "data": {
      "text/plain": [
       "1000"
      ]
     },
     "execution_count": 4,
     "metadata": {},
     "output_type": "execute_result"
    }
   ],
   "source": [
    "r.count"
   ]
  },
  {
   "cell_type": "code",
   "execution_count": 5,
   "metadata": {},
   "outputs": [
    {
     "data": {
      "text/plain": [
       "\"SELECT * FROM gdc-bq-sample.cda_mvp.v2, UNNEST(ResearchSubject) AS _ResearchSubject WHERE (_ResearchSubject.primary_disease_type = 'Adenomas and Adenocarcinomas')\""
      ]
     },
     "execution_count": 5,
     "metadata": {},
     "output_type": "execute_result"
    }
   ],
   "source": [
    "r.sql"
   ]
  },
  {
   "cell_type": "code",
   "execution_count": 6,
   "metadata": {},
   "outputs": [
    {
     "data": {
      "text/plain": [
       "['__class__',\n",
       " '__delattr__',\n",
       " '__dict__',\n",
       " '__dir__',\n",
       " '__doc__',\n",
       " '__eq__',\n",
       " '__format__',\n",
       " '__ge__',\n",
       " '__getattribute__',\n",
       " '__getitem__',\n",
       " '__gt__',\n",
       " '__hash__',\n",
       " '__init__',\n",
       " '__init_subclass__',\n",
       " '__le__',\n",
       " '__lt__',\n",
       " '__module__',\n",
       " '__ne__',\n",
       " '__new__',\n",
       " '__reduce__',\n",
       " '__reduce_ex__',\n",
       " '__repr__',\n",
       " '__setattr__',\n",
       " '__sizeof__',\n",
       " '__str__',\n",
       " '__subclasshook__',\n",
       " '__weakref__',\n",
       " '_api_response',\n",
       " '_get_result',\n",
       " '_host',\n",
       " '_limit',\n",
       " '_offset',\n",
       " '_version',\n",
       " 'count',\n",
       " 'next_page',\n",
       " 'pretty_print',\n",
       " 'prev_page',\n",
       " 'sql']"
      ]
     },
     "execution_count": 6,
     "metadata": {},
     "output_type": "execute_result"
    }
   ],
   "source": [
    "dir(r)"
   ]
  },
  {
   "cell_type": "code",
   "execution_count": 7,
   "metadata": {},
   "outputs": [
    {
     "data": {
      "text/plain": [
       "<bound method Result.next_page of <cdapython.Result object at 0x7efe14f14a60>>"
      ]
     },
     "execution_count": 7,
     "metadata": {},
     "output_type": "execute_result"
    }
   ],
   "source": [
    "r.next_page"
   ]
  },
  {
   "cell_type": "code",
   "execution_count": 8,
   "metadata": {},
   "outputs": [
    {
     "data": {
      "text/plain": [
       "1000"
      ]
     },
     "execution_count": 8,
     "metadata": {},
     "output_type": "execute_result"
    }
   ],
   "source": [
    "r.count"
   ]
  },
  {
   "cell_type": "code",
   "execution_count": 9,
   "metadata": {},
   "outputs": [
    {
     "name": "stdout",
     "output_type": "stream",
     "text": [
      "\n",
      "Query: SELECT * FROM gdc-bq-sample.cda_mvp.v2, UNNEST(ResearchSubject) AS _ResearchSubject WHERE (_ResearchSubject.primary_disease_type = 'Adenomas and Adenocarcinomas')\n",
      "Offset: 0\n",
      "Limit: 1000\n",
      "Count: 1000\n",
      "More pages: Yes\n",
      "\n"
     ]
    }
   ],
   "source": [
    "print(r)"
   ]
  },
  {
   "cell_type": "code",
   "execution_count": 10,
   "metadata": {},
   "outputs": [],
   "source": [
    "r2 = r.next_page()"
   ]
  },
  {
   "cell_type": "code",
   "execution_count": 11,
   "metadata": {},
   "outputs": [
    {
     "name": "stdout",
     "output_type": "stream",
     "text": [
      "\n",
      "Query: SELECT * FROM gdc-bq-sample.cda_mvp.v2, UNNEST(ResearchSubject) AS _ResearchSubject WHERE (_ResearchSubject.primary_disease_type = 'Adenomas and Adenocarcinomas')\n",
      "Offset: 1000\n",
      "Limit: 1000\n",
      "Count: 1000\n",
      "More pages: Yes\n",
      "\n"
     ]
    }
   ],
   "source": [
    "print(r2)"
   ]
  },
  {
   "cell_type": "code",
   "execution_count": 12,
   "metadata": {},
   "outputs": [
    {
     "name": "stdout",
     "output_type": "stream",
     "text": [
      "{ 'Diagnosis': [ { 'Treatment': [],\n",
      "                   'age_at_diagnosis': 19558,\n",
      "                   'id': '337747ae-4012-4e47-82cb-f5d1cdb037f6',\n",
      "                   'morphology': '8140/3',\n",
      "                   'primary_diagnosis': 'Adenocarcinoma, NOS',\n",
      "                   'tumor_grade': 'Not Reported',\n",
      "                   'tumor_stage': 'not reported'}],\n",
      "  'ResearchSubject': [ { 'Diagnosis': [ { 'Treatment': [],\n",
      "                                          'age_at_diagnosis': 19558,\n",
      "                                          'id': '337747ae-4012-4e47-82cb-f5d1cdb037f6',\n",
      "                                          'morphology': '8140/3',\n",
      "                                          'primary_diagnosis': 'Adenocarcinoma, '\n",
      "                                                               'NOS',\n",
      "                                          'tumor_grade': 'Not Reported',\n",
      "                                          'tumor_stage': 'not reported'}],\n",
      "                         'Specimen': [ { 'File': [ { 'associated_project': [ 'FM-AD'],\n",
      "                                                     'byte_size': 4087733,\n",
      "                                                     'checksum': 'f1084c8659513993d8346382b7918828',\n",
      "                                                     'data_category': 'Simple '\n",
      "                                                                      'Nucleotide '\n",
      "                                                                      'Variation',\n",
      "                                                     'data_type': 'Aggregated '\n",
      "                                                                  'Somatic '\n",
      "                                                                  'Mutation',\n",
      "                                                     'file_format': None,\n",
      "                                                     'gcs_path': 'gs://gdc-fm-phs001179-controlled/48d0230e-fdb2-4085-a424-da0ac33afecf/FM-AD_SNV.Unknown.protected.maf.gz',\n",
      "                                                     'id': '48d0230e-fdb2-4085-a424-da0ac33afecf',\n",
      "                                                     'identifier': [ { 'system': 'GDC',\n",
      "                                                                       'value': '48d0230e-fdb2-4085-a424-da0ac33afecf'}],\n",
      "                                                     'label': 'FM-AD_SNV.Unknown.protected.maf.gz',\n",
      "                                                     'type': None},\n",
      "                                                   { 'associated_project': [ 'FM-AD'],\n",
      "                                                     'byte_size': 3655,\n",
      "                                                     'checksum': '3c2b5df5e05557cec4575047b7e9727c',\n",
      "                                                     'data_category': 'Simple '\n",
      "                                                                      'Nucleotide '\n",
      "                                                                      'Variation',\n",
      "                                                     'data_type': 'Annotated '\n",
      "                                                                  'Somatic '\n",
      "                                                                  'Mutation',\n",
      "                                                     'file_format': None,\n",
      "                                                     'gcs_path': 'gs://gdc-fm-phs001179-controlled/69ccb79c-3b73-486c-a465-3fefbe5fe328/69ccb79c-3b73-486c-a465-3fefbe5fe328.vep.vcf.gz',\n",
      "                                                     'id': '69ccb79c-3b73-486c-a465-3fefbe5fe328',\n",
      "                                                     'identifier': [ { 'system': 'GDC',\n",
      "                                                                       'value': '69ccb79c-3b73-486c-a465-3fefbe5fe328'}],\n",
      "                                                     'label': '69ccb79c-3b73-486c-a465-3fefbe5fe328.vep.vcf.gz',\n",
      "                                                     'type': None},\n",
      "                                                   { 'associated_project': [ 'FM-AD'],\n",
      "                                                     'byte_size': 1101,\n",
      "                                                     'checksum': 'c1d0c5ea69273a7998e165ea649f0dee',\n",
      "                                                     'data_category': 'Simple '\n",
      "                                                                      'Nucleotide '\n",
      "                                                                      'Variation',\n",
      "                                                     'data_type': 'Raw Simple '\n",
      "                                                                  'Somatic '\n",
      "                                                                  'Mutation',\n",
      "                                                     'file_format': None,\n",
      "                                                     'gcs_path': 'gs://gdc-fm-phs001179-controlled/8e26bdf5-4cc1-4d0c-ac77-b254ca220344/8e26bdf5-4cc1-4d0c-ac77-b254ca220344.vcf.gz',\n",
      "                                                     'id': '8e26bdf5-4cc1-4d0c-ac77-b254ca220344',\n",
      "                                                     'identifier': [ { 'system': 'GDC',\n",
      "                                                                       'value': '8e26bdf5-4cc1-4d0c-ac77-b254ca220344'}],\n",
      "                                                     'label': '8e26bdf5-4cc1-4d0c-ac77-b254ca220344.vcf.gz',\n",
      "                                                     'type': None}],\n",
      "                                         'age_at_collection': None,\n",
      "                                         'anatomical_site': None,\n",
      "                                         'associated_project': 'FM-AD',\n",
      "                                         'derived_from_specimen': 'Initial '\n",
      "                                                                  'sample',\n",
      "                                         'derived_from_subject': 'AD4050',\n",
      "                                         'id': 'c3a0fed2-6d61-4143-92be-f2c781afa1a2',\n",
      "                                         'identifier': [ { 'system': 'GDC',\n",
      "                                                           'value': 'c3a0fed2-6d61-4143-92be-f2c781afa1a2'}],\n",
      "                                         'primary_disease_type': 'Adenomas and '\n",
      "                                                                 'Adenocarcinomas',\n",
      "                                         'source_material_type': 'Tumor',\n",
      "                                         'specimen_type': 'sample'},\n",
      "                                       { 'File': [],\n",
      "                                         'age_at_collection': None,\n",
      "                                         'anatomical_site': None,\n",
      "                                         'associated_project': 'FM-AD',\n",
      "                                         'derived_from_specimen': 'c3a0fed2-6d61-4143-92be-f2c781afa1a2',\n",
      "                                         'derived_from_subject': 'AD4050',\n",
      "                                         'id': '744a5b11-b21b-4ffe-a77e-b6c2acf09457',\n",
      "                                         'identifier': [ { 'system': 'GDC',\n",
      "                                                           'value': '744a5b11-b21b-4ffe-a77e-b6c2acf09457'}],\n",
      "                                         'primary_disease_type': 'Adenomas and '\n",
      "                                                                 'Adenocarcinomas',\n",
      "                                         'source_material_type': 'Tumor',\n",
      "                                         'specimen_type': 'portion'},\n",
      "                                       { 'File': [],\n",
      "                                         'age_at_collection': None,\n",
      "                                         'anatomical_site': None,\n",
      "                                         'associated_project': 'FM-AD',\n",
      "                                         'derived_from_specimen': 'c3a0fed2-6d61-4143-92be-f2c781afa1a2',\n",
      "                                         'derived_from_subject': 'AD4050',\n",
      "                                         'id': '5ab23d0d-0924-44f9-ae7a-f8d5598524ee',\n",
      "                                         'identifier': [ { 'system': 'GDC',\n",
      "                                                           'value': '5ab23d0d-0924-44f9-ae7a-f8d5598524ee'}],\n",
      "                                         'primary_disease_type': 'Adenomas and '\n",
      "                                                                 'Adenocarcinomas',\n",
      "                                         'source_material_type': 'Tumor',\n",
      "                                         'specimen_type': 'portion'},\n",
      "                                       { 'File': [],\n",
      "                                         'age_at_collection': None,\n",
      "                                         'anatomical_site': None,\n",
      "                                         'associated_project': 'FM-AD',\n",
      "                                         'derived_from_specimen': '5ab23d0d-0924-44f9-ae7a-f8d5598524ee',\n",
      "                                         'derived_from_subject': 'AD4050',\n",
      "                                         'id': '50558053-1fb7-44fe-9b8d-852f3ceccaff',\n",
      "                                         'identifier': [ { 'system': 'GDC',\n",
      "                                                           'value': '50558053-1fb7-44fe-9b8d-852f3ceccaff'}],\n",
      "                                         'primary_disease_type': 'Adenomas and '\n",
      "                                                                 'Adenocarcinomas',\n",
      "                                         'source_material_type': 'Tumor',\n",
      "                                         'specimen_type': 'analyte'},\n",
      "                                       { 'File': [],\n",
      "                                         'age_at_collection': None,\n",
      "                                         'anatomical_site': None,\n",
      "                                         'associated_project': 'FM-AD',\n",
      "                                         'derived_from_specimen': '50558053-1fb7-44fe-9b8d-852f3ceccaff',\n",
      "                                         'derived_from_subject': 'AD4050',\n",
      "                                         'id': 'd78cc4f5-df9e-41e7-9bca-f7fbb83b34cb',\n",
      "                                         'identifier': [ { 'system': 'GDC',\n",
      "                                                           'value': 'd78cc4f5-df9e-41e7-9bca-f7fbb83b34cb'}],\n",
      "                                         'primary_disease_type': 'Adenomas and '\n",
      "                                                                 'Adenocarcinomas',\n",
      "                                         'source_material_type': 'Tumor',\n",
      "                                         'specimen_type': 'aliquot'}],\n",
      "                         'associated_project': 'FM-AD',\n",
      "                         'id': '58dde0b9-6977-4bfa-9e22-09a62a7b52ec',\n",
      "                         'identifier': [ { 'system': 'GDC',\n",
      "                                           'value': '58dde0b9-6977-4bfa-9e22-09a62a7b52ec'}],\n",
      "                         'primary_disease_site': 'Unknown',\n",
      "                         'primary_disease_type': 'Adenomas and '\n",
      "                                                 'Adenocarcinomas'}],\n",
      "  'Specimen': [ { 'File': [ { 'associated_project': ['FM-AD'],\n",
      "                              'byte_size': 4087733,\n",
      "                              'checksum': 'f1084c8659513993d8346382b7918828',\n",
      "                              'data_category': 'Simple Nucleotide Variation',\n",
      "                              'data_type': 'Aggregated Somatic Mutation',\n",
      "                              'file_format': None,\n",
      "                              'gcs_path': 'gs://gdc-fm-phs001179-controlled/48d0230e-fdb2-4085-a424-da0ac33afecf/FM-AD_SNV.Unknown.protected.maf.gz',\n",
      "                              'id': '48d0230e-fdb2-4085-a424-da0ac33afecf',\n",
      "                              'identifier': [ { 'system': 'GDC',\n",
      "                                                'value': '48d0230e-fdb2-4085-a424-da0ac33afecf'}],\n",
      "                              'label': 'FM-AD_SNV.Unknown.protected.maf.gz',\n",
      "                              'type': None},\n",
      "                            { 'associated_project': ['FM-AD'],\n",
      "                              'byte_size': 3655,\n",
      "                              'checksum': '3c2b5df5e05557cec4575047b7e9727c',\n",
      "                              'data_category': 'Simple Nucleotide Variation',\n",
      "                              'data_type': 'Annotated Somatic Mutation',\n",
      "                              'file_format': None,\n",
      "                              'gcs_path': 'gs://gdc-fm-phs001179-controlled/69ccb79c-3b73-486c-a465-3fefbe5fe328/69ccb79c-3b73-486c-a465-3fefbe5fe328.vep.vcf.gz',\n",
      "                              'id': '69ccb79c-3b73-486c-a465-3fefbe5fe328',\n",
      "                              'identifier': [ { 'system': 'GDC',\n",
      "                                                'value': '69ccb79c-3b73-486c-a465-3fefbe5fe328'}],\n",
      "                              'label': '69ccb79c-3b73-486c-a465-3fefbe5fe328.vep.vcf.gz',\n",
      "                              'type': None},\n",
      "                            { 'associated_project': ['FM-AD'],\n",
      "                              'byte_size': 1101,\n",
      "                              'checksum': 'c1d0c5ea69273a7998e165ea649f0dee',\n",
      "                              'data_category': 'Simple Nucleotide Variation',\n",
      "                              'data_type': 'Raw Simple Somatic Mutation',\n",
      "                              'file_format': None,\n",
      "                              'gcs_path': 'gs://gdc-fm-phs001179-controlled/8e26bdf5-4cc1-4d0c-ac77-b254ca220344/8e26bdf5-4cc1-4d0c-ac77-b254ca220344.vcf.gz',\n",
      "                              'id': '8e26bdf5-4cc1-4d0c-ac77-b254ca220344',\n",
      "                              'identifier': [ { 'system': 'GDC',\n",
      "                                                'value': '8e26bdf5-4cc1-4d0c-ac77-b254ca220344'}],\n",
      "                              'label': '8e26bdf5-4cc1-4d0c-ac77-b254ca220344.vcf.gz',\n",
      "                              'type': None}],\n",
      "                  'age_at_collection': None,\n",
      "                  'anatomical_site': None,\n",
      "                  'associated_project': 'FM-AD',\n",
      "                  'derived_from_specimen': 'Initial sample',\n",
      "                  'derived_from_subject': 'AD4050',\n",
      "                  'id': 'c3a0fed2-6d61-4143-92be-f2c781afa1a2',\n",
      "                  'identifier': [ { 'system': 'GDC',\n",
      "                                    'value': 'c3a0fed2-6d61-4143-92be-f2c781afa1a2'}],\n",
      "                  'primary_disease_type': 'Adenomas and Adenocarcinomas',\n",
      "                  'source_material_type': 'Tumor',\n",
      "                  'specimen_type': 'sample'},\n",
      "                { 'File': [],\n",
      "                  'age_at_collection': None,\n",
      "                  'anatomical_site': None,\n",
      "                  'associated_project': 'FM-AD',\n",
      "                  'derived_from_specimen': 'c3a0fed2-6d61-4143-92be-f2c781afa1a2',\n",
      "                  'derived_from_subject': 'AD4050',\n",
      "                  'id': '744a5b11-b21b-4ffe-a77e-b6c2acf09457',\n",
      "                  'identifier': [ { 'system': 'GDC',\n",
      "                                    'value': '744a5b11-b21b-4ffe-a77e-b6c2acf09457'}],\n",
      "                  'primary_disease_type': 'Adenomas and Adenocarcinomas',\n",
      "                  'source_material_type': 'Tumor',\n",
      "                  'specimen_type': 'portion'},\n",
      "                { 'File': [],\n",
      "                  'age_at_collection': None,\n",
      "                  'anatomical_site': None,\n",
      "                  'associated_project': 'FM-AD',\n",
      "                  'derived_from_specimen': 'c3a0fed2-6d61-4143-92be-f2c781afa1a2',\n",
      "                  'derived_from_subject': 'AD4050',\n",
      "                  'id': '5ab23d0d-0924-44f9-ae7a-f8d5598524ee',\n",
      "                  'identifier': [ { 'system': 'GDC',\n",
      "                                    'value': '5ab23d0d-0924-44f9-ae7a-f8d5598524ee'}],\n",
      "                  'primary_disease_type': 'Adenomas and Adenocarcinomas',\n",
      "                  'source_material_type': 'Tumor',\n",
      "                  'specimen_type': 'portion'},\n",
      "                { 'File': [],\n",
      "                  'age_at_collection': None,\n",
      "                  'anatomical_site': None,\n",
      "                  'associated_project': 'FM-AD',\n",
      "                  'derived_from_specimen': '5ab23d0d-0924-44f9-ae7a-f8d5598524ee',\n",
      "                  'derived_from_subject': 'AD4050',\n",
      "                  'id': '50558053-1fb7-44fe-9b8d-852f3ceccaff',\n",
      "                  'identifier': [ { 'system': 'GDC',\n",
      "                                    'value': '50558053-1fb7-44fe-9b8d-852f3ceccaff'}],\n",
      "                  'primary_disease_type': 'Adenomas and Adenocarcinomas',\n",
      "                  'source_material_type': 'Tumor',\n",
      "                  'specimen_type': 'analyte'},\n",
      "                { 'File': [],\n",
      "                  'age_at_collection': None,\n",
      "                  'anatomical_site': None,\n",
      "                  'associated_project': 'FM-AD',\n",
      "                  'derived_from_specimen': '50558053-1fb7-44fe-9b8d-852f3ceccaff',\n",
      "                  'derived_from_subject': 'AD4050',\n",
      "                  'id': 'd78cc4f5-df9e-41e7-9bca-f7fbb83b34cb',\n",
      "                  'identifier': [ { 'system': 'GDC',\n",
      "                                    'value': 'd78cc4f5-df9e-41e7-9bca-f7fbb83b34cb'}],\n",
      "                  'primary_disease_type': 'Adenomas and Adenocarcinomas',\n",
      "                  'source_material_type': 'Tumor',\n",
      "                  'specimen_type': 'aliquot'}],\n",
      "  'associated_project': 'FM-AD',\n",
      "  'days_to_birth': None,\n",
      "  'ethnicity': 'not reported',\n",
      "  'id': '58dde0b9-6977-4bfa-9e22-09a62a7b52ec',\n",
      "  'identifier': [ { 'system': 'GDC',\n",
      "                    'value': '58dde0b9-6977-4bfa-9e22-09a62a7b52ec'}],\n",
      "  'primary_disease_site': 'Unknown',\n",
      "  'primary_disease_type': 'Adenomas and Adenocarcinomas',\n",
      "  'race': 'not reported',\n",
      "  'sex': 'female'}\n"
     ]
    }
   ],
   "source": [
    "r2.pretty_print(1)"
   ]
  },
  {
   "cell_type": "code",
   "execution_count": 13,
   "metadata": {},
   "outputs": [
    {
     "name": "stderr",
     "output_type": "stream",
     "text": [
      "SELECT DISTINCT(_Specimen.associated_project) FROM `gdc-bq-sample.cda_mvp.v2`, UNNEST(ResearchSubject) AS _ResearchSubject,UNNEST(_ResearchSubject.Specimen) AS _Specimen ORDER BY _Specimen.associated_project\n"
     ]
    },
    {
     "data": {
      "text/plain": [
       "['Academia Sinica LUAD-100',\n",
       " 'BEATAML1.0-COHORT',\n",
       " 'BEATAML1.0-CRENOLANIB',\n",
       " 'CGCI-BLGSP',\n",
       " 'CGCI-HTMCP-CC',\n",
       " 'CMI-ASC',\n",
       " 'CMI-MBC',\n",
       " 'CMI-MPC',\n",
       " 'CPTAC-2',\n",
       " 'CPTAC-3',\n",
       " 'CPTAC-TCGA',\n",
       " 'CPTAC3-Discovery',\n",
       " 'CTSP-DLBCL1',\n",
       " 'FM-AD',\n",
       " 'GENIE-DFCI',\n",
       " 'GENIE-GRCC',\n",
       " 'GENIE-JHU',\n",
       " 'GENIE-MDA',\n",
       " 'GENIE-MSK',\n",
       " 'GENIE-NKI',\n",
       " 'GENIE-UHN',\n",
       " 'GENIE-VICC',\n",
       " 'Georgetown Lung Cancer Proteomics Study',\n",
       " 'HCMI-CMDC',\n",
       " 'Human Early-Onset Gastric Cancer - Korea University',\n",
       " 'Integrated Proteogenomic Characterization of HBV-related Hepatocellular carcinoma',\n",
       " 'MMRF-COMMPASS',\n",
       " 'NCICCR-DLBCL',\n",
       " 'OHSU-CNL',\n",
       " 'ORGANOID-PANCREATIC',\n",
       " 'Oral Squamous Cell Carcinoma - Chang Gung University',\n",
       " 'PJ25730263',\n",
       " 'Proteogenomic Analysis of Pediatric Brain Cancer Tumors Pilot Study',\n",
       " 'TARGET-ALL-P1',\n",
       " 'TARGET-ALL-P2',\n",
       " 'TARGET-ALL-P3',\n",
       " 'TARGET-AML',\n",
       " 'TARGET-CCSK',\n",
       " 'TARGET-NBL',\n",
       " 'TARGET-OS',\n",
       " 'TARGET-RT',\n",
       " 'TARGET-WT',\n",
       " 'TCGA-ACC',\n",
       " 'TCGA-BLCA',\n",
       " 'TCGA-BRCA',\n",
       " 'TCGA-CESC',\n",
       " 'TCGA-CHOL',\n",
       " 'TCGA-COAD',\n",
       " 'TCGA-DLBC',\n",
       " 'TCGA-ESCA',\n",
       " 'TCGA-GBM',\n",
       " 'TCGA-HNSC',\n",
       " 'TCGA-KICH',\n",
       " 'TCGA-KIRC',\n",
       " 'TCGA-KIRP',\n",
       " 'TCGA-LAML',\n",
       " 'TCGA-LGG',\n",
       " 'TCGA-LIHC',\n",
       " 'TCGA-LUAD',\n",
       " 'TCGA-LUSC',\n",
       " 'TCGA-MESO',\n",
       " 'TCGA-OV',\n",
       " 'TCGA-PAAD',\n",
       " 'TCGA-PCPG',\n",
       " 'TCGA-PRAD',\n",
       " 'TCGA-READ',\n",
       " 'TCGA-SARC',\n",
       " 'TCGA-SKCM',\n",
       " 'TCGA-STAD',\n",
       " 'TCGA-TGCT',\n",
       " 'TCGA-THCA',\n",
       " 'TCGA-THYM',\n",
       " 'TCGA-UCEC',\n",
       " 'TCGA-UCS',\n",
       " 'TCGA-UVM',\n",
       " 'VAREPOP-APOLLO',\n",
       " 'WCDT-MCRPC']"
      ]
     },
     "execution_count": 13,
     "metadata": {},
     "output_type": "execute_result"
    }
   ],
   "source": [
    "unique_terms('ResearchSubject.Specimen.associated_project')"
   ]
  }
 ],
 "metadata": {
  "kernelspec": {
   "display_name": "Python 3",
   "language": "python",
   "name": "python3"
  },
  "language_info": {
   "codemirror_mode": {
    "name": "ipython",
    "version": 3
   },
   "file_extension": ".py",
   "mimetype": "text/x-python",
   "name": "python",
   "nbconvert_exporter": "python",
   "pygments_lexer": "ipython3",
   "version": "3.8.5"
  }
 },
 "nbformat": 4,
 "nbformat_minor": 4
}
