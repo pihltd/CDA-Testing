{
 "cells": [
  {
   "cell_type": "code",
   "execution_count": 1,
   "id": "290bd268-ea69-403b-a574-979316e969e5",
   "metadata": {},
   "outputs": [],
   "source": [
    "from cdapython import unique_terms, Q\n",
    "import pprint"
   ]
  },
  {
   "cell_type": "markdown",
   "id": "aa43f96d-55be-4c09-8bbe-686284d3c1fa",
   "metadata": {},
   "source": [
    "<font color=blue> Project names (associated_projects) seem to exist in several locations in CDA\n",
    "    Subject.subject_associated_project\n",
    "    File.associated_project\n",
    "    ResearchSubject.associated_project\n",
    "    ResearchSubject.File.associated_project\n",
    "    ResearchSubject.Specimen.associated_project\n",
    "    ResearchSubject.Specimen.File.associated_projet\n",
    "    </font>"
   ]
  },
  {
   "cell_type": "markdown",
   "id": "c33226a0-0e7b-4b8a-afc3-a68cfdab6c74",
   "metadata": {},
   "source": [
    "<font color=blue>The Subject.subject_associated_project field doesn't work with unique_terms</font>"
   ]
  },
  {
   "cell_type": "code",
   "execution_count": 6,
   "id": "ceec49d2-4467-4182-87f7-e47e2eec5ceb",
   "metadata": {},
   "outputs": [
    {
     "name": "stderr",
     "output_type": "stream",
     "text": [
      "ERROR:root:\n",
      "            Http Status: 500\n",
      "            Error Message: Column subject_associated_project of type ARRAY cannot be used in SELECT DISTINCT at [1:17]\n",
      "            \n"
     ]
    }
   ],
   "source": [
    "unique_terms(\"subject_associated_project\")"
   ]
  },
  {
   "cell_type": "code",
   "execution_count": 17,
   "id": "88193a6c-7564-4de0-8180-c3b164e1d183",
   "metadata": {},
   "outputs": [
    {
     "name": "stdout",
     "output_type": "stream",
     "text": [
      "['4d_lung', 'Academia Sinica LUAD-100', 'BEATAML1.0-COHORT', 'BEATAML1.0-CRENOLANIB', 'CGCI-BLGSP', 'CGCI-HTMCP-CC', 'CMI-ASC', 'CMI-MBC', 'CMI-MPC', 'CPTAC-2', 'CPTAC-3', 'CPTAC-TCGA', 'CPTAC2 Retrospective', 'CPTAC2-Other', 'CPTAC3-Discovery', 'CPTAC3-Other', 'CTSP-DLBCL1', 'FM-AD', 'GENIE-DFCI', 'GENIE-GRCC', 'GENIE-JHU', 'GENIE-MDA', 'GENIE-MSK', 'GENIE-NKI', 'GENIE-UHN', 'GENIE-VICC', 'Georgetown Lung Cancer Proteomics Study', 'HCMI-CMDC', 'Human Early-Onset Gastric Cancer - Korea University', 'Integrated Proteogenomic Characterization of HBV-related Hepatocellular carcinoma', 'MMRF-COMMPASS', 'NCICCR-DLBCL', 'OHSU-CNL', 'ORGANOID-PANCREATIC', 'Oral Squamous Cell Carcinoma - Chang Gung University', 'PJ25730263', 'Proteogenomic Analysis of Pediatric Brain Cancer Tumors Pilot Study', 'Proteogenomic Translational Research Centers (PTRC)', 'REBC-THYR', 'TARGET-ALL-P1', 'TARGET-ALL-P2', 'TARGET-ALL-P3', 'TARGET-AML', 'TARGET-CCSK', 'TARGET-NBL', 'TARGET-OS', 'TARGET-RT', 'TARGET-WT', 'TCGA-ACC', 'TCGA-BLCA', 'TCGA-BRCA', 'TCGA-CESC', 'TCGA-CHOL', 'TCGA-COAD', 'TCGA-DLBC', 'TCGA-ESCA', 'TCGA-GBM', 'TCGA-HNSC', 'TCGA-KICH', 'TCGA-KIRC', 'TCGA-KIRP', 'TCGA-LAML', 'TCGA-LGG', 'TCGA-LIHC', 'TCGA-LUAD', 'TCGA-LUSC', 'TCGA-MESO', 'TCGA-OV', 'TCGA-PAAD', 'TCGA-PCPG', 'TCGA-PRAD', 'TCGA-READ', 'TCGA-SARC', 'TCGA-SKCM', 'TCGA-STAD', 'TCGA-TGCT', 'TCGA-THCA', 'TCGA-THYM', 'TCGA-UCEC', 'TCGA-UCS', 'TCGA-UVM', 'TRIO-CRU', 'VAREPOP-APOLLO', 'WCDT-MCRPC', 'aapm_rt_mac', 'acrin_dsc_mr_brain', 'acrin_flt_breast', 'acrin_fmiso_brain', 'acrin_nsclc_fdg_pet', 'anti_pd_1_lung', 'anti_pd_1_melanoma', 'apollo', 'brain_tumor_progression', 'breast_cancer_screening_dbt', 'breast_diagnosis', 'breast_mri_nact_pilot', 'c4kc_kits', 'covid_19_ar', 'cptac_ccrcc', 'cptac_cm', 'cptac_gbm', 'cptac_hnscc', 'cptac_lscc', 'cptac_luad', 'cptac_pda', 'cptac_sar', 'cptac_ucec', 'ct_colonography', 'ct_lymph_nodes', 'dro_toolkit', 'head_neck_cetuximab', 'head_neck_pet_ct', 'head_neck_radiomics_hn1', 'hnscc', 'hnscc_3dct_rt', 'icdc_glioma', 'ispy1', 'ivygap', 'lctsc', 'lgg_1p19qdeletion', 'lidc_idri', 'lung_fused_ct_pathology', 'lung_pet_ct_dx', 'lung_phantom', 'lungct_diagnosis', 'midrc_ricord_1a', 'midrc_ricord_1b', 'midrc_ricord_1c', 'mouse_astrocytoma', 'mouse_mammary', 'mri_dir', 'naf_prostate', 'nlst', 'nsclc_radiogenomics', 'nsclc_radiomics', 'nsclc_radiomics_genomics', 'nsclc_radiomics_interobserver1', 'opc_radiomics', 'pancreas_ct', 'pdmr_292921_168_r', 'pdmr_425362_245_t', 'pdmr_833975_119_r', 'pdmr_997537_175_t', 'pdmr_bl0293_f563', 'pelvic_reference_data', 'phantom_fda', 'prostate_3t', 'prostate_fused_mri_pathology', 'prostate_mri', 'prostate_mri_us_biopsy', 'prostatex', 'pseudo_phi_dicom_data', 'qiba_ct_1c', 'qin_brain_dsc_mri', 'qin_breast', 'qin_breast_dce_mri', 'qin_gbm_treatment_response', 'qin_headneck', 'qin_lung_ct', 'qin_prostate_repeatability', 'rembrandt', 'rider_breast_mri', 'rider_lung_ct', 'rider_lung_pet_ct', 'rider_neuro_mri', 'soft_tissue_sarcoma', 'spie_aapm_lung_ct_challenge', 'tcga_blca', 'tcga_brca', 'tcga_cesc', 'tcga_coad', 'tcga_esca', 'tcga_gbm', 'tcga_hnsc', 'tcga_kich', 'tcga_kirc', 'tcga_kirp', 'tcga_lgg', 'tcga_lihc', 'tcga_luad', 'tcga_lusc', 'tcga_ov', 'tcga_prad', 'tcga_read', 'tcga_sarc', 'tcga_stad', 'tcga_thca', 'tcga_ucec', 'vestibular_schwannoma_seg', 'victre']\n",
      "190\n"
     ]
    }
   ],
   "source": [
    "F = unique_terms(\"File.associated_project\", limit=500)\n",
    "F.sort()\n",
    "print(F)\n",
    "count = str(len(F))\n",
    "print(count)"
   ]
  },
  {
   "cell_type": "code",
   "execution_count": 18,
   "id": "33609bf7-89a2-48c5-95ee-cd350a42371b",
   "metadata": {},
   "outputs": [
    {
     "name": "stdout",
     "output_type": "stream",
     "text": [
      "['Academia Sinica LUAD-100', 'BEATAML1.0-COHORT', 'BEATAML1.0-CRENOLANIB', 'CGCI-BLGSP', 'CGCI-HTMCP-CC', 'CMI-ASC', 'CMI-MBC', 'CMI-MPC', 'CPTAC-2', 'CPTAC-3', 'CPTAC-TCGA', 'CPTAC2 Retrospective', 'CPTAC2-Other', 'CPTAC3-Discovery', 'CPTAC3-Other', 'CTSP-DLBCL1', 'FM-AD', 'GENIE-DFCI', 'GENIE-GRCC', 'GENIE-JHU', 'GENIE-MDA', 'GENIE-MSK', 'GENIE-NKI', 'GENIE-UHN', 'GENIE-VICC', 'Georgetown Lung Cancer Proteomics Study', 'HCMI-CMDC', 'Human Early-Onset Gastric Cancer - Korea University', 'Integrated Proteogenomic Characterization of HBV-related Hepatocellular carcinoma', 'MMRF-COMMPASS', 'NCICCR-DLBCL', 'OHSU-CNL', 'ORGANOID-PANCREATIC', 'Oral Squamous Cell Carcinoma - Chang Gung University', 'PJ25730263', 'Proteogenomic Analysis of Pediatric Brain Cancer Tumors Pilot Study', 'Proteogenomic Translational Research Centers (PTRC)', 'REBC-THYR', 'TARGET-ALL-P1', 'TARGET-ALL-P2', 'TARGET-ALL-P3', 'TARGET-AML', 'TARGET-CCSK', 'TARGET-NBL', 'TARGET-OS', 'TARGET-RT', 'TARGET-WT', 'TCGA-ACC', 'TCGA-BLCA', 'TCGA-BRCA', 'TCGA-CESC', 'TCGA-CHOL', 'TCGA-COAD', 'TCGA-DLBC', 'TCGA-ESCA', 'TCGA-GBM', 'TCGA-HNSC', 'TCGA-KICH', 'TCGA-KIRC', 'TCGA-KIRP', 'TCGA-LAML', 'TCGA-LGG', 'TCGA-LIHC', 'TCGA-LUAD', 'TCGA-LUSC', 'TCGA-MESO', 'TCGA-OV', 'TCGA-PAAD', 'TCGA-PCPG', 'TCGA-PRAD', 'TCGA-READ', 'TCGA-SARC', 'TCGA-SKCM', 'TCGA-STAD', 'TCGA-TGCT', 'TCGA-THCA', 'TCGA-THYM', 'TCGA-UCEC', 'TCGA-UCS', 'TCGA-UVM', 'TRIO-CRU', 'VAREPOP-APOLLO', 'WCDT-MCRPC']\n"
     ]
    }
   ],
   "source": [
    "R = unique_terms(\"ResearchSubject.associated_project\", limit=500)\n",
    "R.sort()\n",
    "print(R)"
   ]
  },
  {
   "cell_type": "code",
   "execution_count": 20,
   "id": "9575c5f6-de61-48c0-b010-d02ca35c7fe0",
   "metadata": {},
   "outputs": [],
   "source": [
    "RF = unique_terms(\"ResearchSubject.File.associated_project\", limit=500)\n",
    "RF.sort()"
   ]
  },
  {
   "cell_type": "code",
   "execution_count": 21,
   "id": "48d81fc4-a0f8-412a-8e8c-19d0b0f13176",
   "metadata": {},
   "outputs": [],
   "source": [
    "RS = unique_terms(\"ResearchSubject.Specimen.associated_project\", limit=500)\n",
    "RS.sort()"
   ]
  },
  {
   "cell_type": "code",
   "execution_count": 22,
   "id": "d4b88abb-2451-403a-a665-3ddd088c35b4",
   "metadata": {},
   "outputs": [],
   "source": [
    "RSF = unique_terms(\"ResearchSubject.Specimen.File.associated_project\", limit=500)\n",
    "RSF.sort()"
   ]
  },
  {
   "cell_type": "markdown",
   "id": "c4727e83-daff-49db-b5be-613e7b85778d",
   "metadata": {},
   "source": [
    "<font color = blue> Now check to see which of the lists are the same, starting with the ResearchSubject based lists<font>"
   ]
  },
  {
   "cell_type": "code",
   "execution_count": 23,
   "id": "992ac440-2646-4487-aebb-286c00cafc95",
   "metadata": {},
   "outputs": [
    {
     "name": "stdout",
     "output_type": "stream",
     "text": [
      "R and RF are identical\n"
     ]
    }
   ],
   "source": [
    "if R == RF:\n",
    "    print(\"R and RF are identical\")\n",
    "else:\n",
    "    print(\"R and RF differ\")"
   ]
  },
  {
   "cell_type": "code",
   "execution_count": 24,
   "id": "3a8ad11f-54bb-468a-83be-278ef9a72b60",
   "metadata": {},
   "outputs": [
    {
     "name": "stdout",
     "output_type": "stream",
     "text": [
      "R and RS are identical\n"
     ]
    }
   ],
   "source": [
    "if R == RS:\n",
    "    print(\"R and RS are identical\")\n",
    "else:\n",
    "    print(\"R and RS differ\")"
   ]
  },
  {
   "cell_type": "code",
   "execution_count": 25,
   "id": "7dfa21a0-9209-4f21-b64e-d5f72a42202e",
   "metadata": {},
   "outputs": [
    {
     "name": "stdout",
     "output_type": "stream",
     "text": [
      "R and RSF are identical\n"
     ]
    }
   ],
   "source": [
    "if R == RSF:\n",
    "    print(\"R and RSF are identical\")\n",
    "else:\n",
    "    print(\"R and RSF differ\")"
   ]
  },
  {
   "cell_type": "markdown",
   "id": "ec4f5589-2881-49da-acff-5fdcf09aeb28",
   "metadata": {},
   "source": [
    "<font color=blue> So far, so good.  All the ResearchSubject based lists are identical</font>"
   ]
  },
  {
   "cell_type": "code",
   "execution_count": 26,
   "id": "04c46db2-9590-4941-b9a0-2380a6ce6d36",
   "metadata": {},
   "outputs": [
    {
     "name": "stdout",
     "output_type": "stream",
     "text": [
      "R and F differ\n"
     ]
    }
   ],
   "source": [
    "if R == F:\n",
    "    print(\"R and F are identical\")\n",
    "else:\n",
    "    print(\"R and F differ\")"
   ]
  },
  {
   "cell_type": "code",
   "execution_count": 27,
   "id": "19accbda-2ac5-4a01-b1ee-4abf4de41742",
   "metadata": {},
   "outputs": [
    {
     "name": "stdout",
     "output_type": "stream",
     "text": [
      "['Academia Sinica LUAD-100', 'BEATAML1.0-COHORT', 'BEATAML1.0-CRENOLANIB', 'CGCI-BLGSP', 'CGCI-HTMCP-CC', 'CMI-ASC', 'CMI-MBC', 'CMI-MPC', 'CPTAC-2', 'CPTAC-3', 'CPTAC-TCGA', 'CPTAC2 Retrospective', 'CPTAC2-Other', 'CPTAC3-Discovery', 'CPTAC3-Other', 'CTSP-DLBCL1', 'FM-AD', 'GENIE-DFCI', 'GENIE-GRCC', 'GENIE-JHU', 'GENIE-MDA', 'GENIE-MSK', 'GENIE-NKI', 'GENIE-UHN', 'GENIE-VICC', 'Georgetown Lung Cancer Proteomics Study', 'HCMI-CMDC', 'Human Early-Onset Gastric Cancer - Korea University', 'Integrated Proteogenomic Characterization of HBV-related Hepatocellular carcinoma', 'MMRF-COMMPASS', 'NCICCR-DLBCL', 'OHSU-CNL', 'ORGANOID-PANCREATIC', 'Oral Squamous Cell Carcinoma - Chang Gung University', 'PJ25730263', 'Proteogenomic Analysis of Pediatric Brain Cancer Tumors Pilot Study', 'Proteogenomic Translational Research Centers (PTRC)', 'REBC-THYR', 'TARGET-ALL-P1', 'TARGET-ALL-P2', 'TARGET-ALL-P3', 'TARGET-AML', 'TARGET-CCSK', 'TARGET-NBL', 'TARGET-OS', 'TARGET-RT', 'TARGET-WT', 'TCGA-ACC', 'TCGA-BLCA', 'TCGA-BRCA', 'TCGA-CESC', 'TCGA-CHOL', 'TCGA-COAD', 'TCGA-DLBC', 'TCGA-ESCA', 'TCGA-GBM', 'TCGA-HNSC', 'TCGA-KICH', 'TCGA-KIRC', 'TCGA-KIRP', 'TCGA-LAML', 'TCGA-LGG', 'TCGA-LIHC', 'TCGA-LUAD', 'TCGA-LUSC', 'TCGA-MESO', 'TCGA-OV', 'TCGA-PAAD', 'TCGA-PCPG', 'TCGA-PRAD', 'TCGA-READ', 'TCGA-SARC', 'TCGA-SKCM', 'TCGA-STAD', 'TCGA-TGCT', 'TCGA-THCA', 'TCGA-THYM', 'TCGA-UCEC', 'TCGA-UCS', 'TCGA-UVM', 'TRIO-CRU', 'VAREPOP-APOLLO', 'WCDT-MCRPC']\n"
     ]
    }
   ],
   "source": [
    "print(R)"
   ]
  },
  {
   "cell_type": "code",
   "execution_count": 28,
   "id": "69524dd1-e639-4675-8847-4585b8c79689",
   "metadata": {},
   "outputs": [
    {
     "name": "stdout",
     "output_type": "stream",
     "text": [
      "['4d_lung', 'Academia Sinica LUAD-100', 'BEATAML1.0-COHORT', 'BEATAML1.0-CRENOLANIB', 'CGCI-BLGSP', 'CGCI-HTMCP-CC', 'CMI-ASC', 'CMI-MBC', 'CMI-MPC', 'CPTAC-2', 'CPTAC-3', 'CPTAC-TCGA', 'CPTAC2 Retrospective', 'CPTAC2-Other', 'CPTAC3-Discovery', 'CPTAC3-Other', 'CTSP-DLBCL1', 'FM-AD', 'GENIE-DFCI', 'GENIE-GRCC', 'GENIE-JHU', 'GENIE-MDA', 'GENIE-MSK', 'GENIE-NKI', 'GENIE-UHN', 'GENIE-VICC', 'Georgetown Lung Cancer Proteomics Study', 'HCMI-CMDC', 'Human Early-Onset Gastric Cancer - Korea University', 'Integrated Proteogenomic Characterization of HBV-related Hepatocellular carcinoma', 'MMRF-COMMPASS', 'NCICCR-DLBCL', 'OHSU-CNL', 'ORGANOID-PANCREATIC', 'Oral Squamous Cell Carcinoma - Chang Gung University', 'PJ25730263', 'Proteogenomic Analysis of Pediatric Brain Cancer Tumors Pilot Study', 'Proteogenomic Translational Research Centers (PTRC)', 'REBC-THYR', 'TARGET-ALL-P1', 'TARGET-ALL-P2', 'TARGET-ALL-P3', 'TARGET-AML', 'TARGET-CCSK', 'TARGET-NBL', 'TARGET-OS', 'TARGET-RT', 'TARGET-WT', 'TCGA-ACC', 'TCGA-BLCA', 'TCGA-BRCA', 'TCGA-CESC', 'TCGA-CHOL', 'TCGA-COAD', 'TCGA-DLBC', 'TCGA-ESCA', 'TCGA-GBM', 'TCGA-HNSC', 'TCGA-KICH', 'TCGA-KIRC', 'TCGA-KIRP', 'TCGA-LAML', 'TCGA-LGG', 'TCGA-LIHC', 'TCGA-LUAD', 'TCGA-LUSC', 'TCGA-MESO', 'TCGA-OV', 'TCGA-PAAD', 'TCGA-PCPG', 'TCGA-PRAD', 'TCGA-READ', 'TCGA-SARC', 'TCGA-SKCM', 'TCGA-STAD', 'TCGA-TGCT', 'TCGA-THCA', 'TCGA-THYM', 'TCGA-UCEC', 'TCGA-UCS', 'TCGA-UVM', 'TRIO-CRU', 'VAREPOP-APOLLO', 'WCDT-MCRPC', 'aapm_rt_mac', 'acrin_dsc_mr_brain', 'acrin_flt_breast', 'acrin_fmiso_brain', 'acrin_nsclc_fdg_pet', 'anti_pd_1_lung', 'anti_pd_1_melanoma', 'apollo', 'brain_tumor_progression', 'breast_cancer_screening_dbt', 'breast_diagnosis', 'breast_mri_nact_pilot', 'c4kc_kits', 'covid_19_ar', 'cptac_ccrcc', 'cptac_cm', 'cptac_gbm', 'cptac_hnscc', 'cptac_lscc', 'cptac_luad', 'cptac_pda', 'cptac_sar', 'cptac_ucec', 'ct_colonography', 'ct_lymph_nodes', 'dro_toolkit', 'head_neck_cetuximab', 'head_neck_pet_ct', 'head_neck_radiomics_hn1', 'hnscc', 'hnscc_3dct_rt', 'icdc_glioma', 'ispy1', 'ivygap', 'lctsc', 'lgg_1p19qdeletion', 'lidc_idri', 'lung_fused_ct_pathology', 'lung_pet_ct_dx', 'lung_phantom', 'lungct_diagnosis', 'midrc_ricord_1a', 'midrc_ricord_1b', 'midrc_ricord_1c', 'mouse_astrocytoma', 'mouse_mammary', 'mri_dir', 'naf_prostate', 'nlst', 'nsclc_radiogenomics', 'nsclc_radiomics', 'nsclc_radiomics_genomics', 'nsclc_radiomics_interobserver1', 'opc_radiomics', 'pancreas_ct', 'pdmr_292921_168_r', 'pdmr_425362_245_t', 'pdmr_833975_119_r', 'pdmr_997537_175_t', 'pdmr_bl0293_f563', 'pelvic_reference_data', 'phantom_fda', 'prostate_3t', 'prostate_fused_mri_pathology', 'prostate_mri', 'prostate_mri_us_biopsy', 'prostatex', 'pseudo_phi_dicom_data', 'qiba_ct_1c', 'qin_brain_dsc_mri', 'qin_breast', 'qin_breast_dce_mri', 'qin_gbm_treatment_response', 'qin_headneck', 'qin_lung_ct', 'qin_prostate_repeatability', 'rembrandt', 'rider_breast_mri', 'rider_lung_ct', 'rider_lung_pet_ct', 'rider_neuro_mri', 'soft_tissue_sarcoma', 'spie_aapm_lung_ct_challenge', 'tcga_blca', 'tcga_brca', 'tcga_cesc', 'tcga_coad', 'tcga_esca', 'tcga_gbm', 'tcga_hnsc', 'tcga_kich', 'tcga_kirc', 'tcga_kirp', 'tcga_lgg', 'tcga_lihc', 'tcga_luad', 'tcga_lusc', 'tcga_ov', 'tcga_prad', 'tcga_read', 'tcga_sarc', 'tcga_stad', 'tcga_thca', 'tcga_ucec', 'vestibular_schwannoma_seg', 'victre']\n"
     ]
    }
   ],
   "source": [
    "print(F)"
   ]
  },
  {
   "cell_type": "code",
   "execution_count": 29,
   "id": "df3dbe84-185c-4355-ad0f-30005abcf911",
   "metadata": {},
   "outputs": [],
   "source": [
    "F_Only = []\n",
    "R_Only = []\n",
    "RF_Common = []\n",
    "\n",
    "for entry in F:\n",
    "    if entry in R:\n",
    "        RF_Common.append(entry)\n",
    "    else:\n",
    "        F_Only.append(entry)\n",
    "for entry in R:\n",
    "    if entry in F:\n",
    "        None\n",
    "    else:\n",
    "        R_Only.append(entry)"
   ]
  },
  {
   "cell_type": "code",
   "execution_count": 30,
   "id": "c8ab99f2-653c-47a6-9493-c923a7e11cbf",
   "metadata": {},
   "outputs": [
    {
     "name": "stdout",
     "output_type": "stream",
     "text": [
      "F only entires 107\n"
     ]
    }
   ],
   "source": [
    "print(\"F only entires %s\" % str(len(F_Only))) "
   ]
  },
  {
   "cell_type": "code",
   "execution_count": 31,
   "id": "f461fe5a-cdaa-46bb-ae1d-d4b5e436143e",
   "metadata": {},
   "outputs": [
    {
     "name": "stdout",
     "output_type": "stream",
     "text": [
      "['4d_lung',\n",
      " 'aapm_rt_mac',\n",
      " 'acrin_dsc_mr_brain',\n",
      " 'acrin_flt_breast',\n",
      " 'acrin_fmiso_brain',\n",
      " 'acrin_nsclc_fdg_pet',\n",
      " 'anti_pd_1_lung',\n",
      " 'anti_pd_1_melanoma',\n",
      " 'apollo',\n",
      " 'brain_tumor_progression',\n",
      " 'breast_cancer_screening_dbt',\n",
      " 'breast_diagnosis',\n",
      " 'breast_mri_nact_pilot',\n",
      " 'c4kc_kits',\n",
      " 'covid_19_ar',\n",
      " 'cptac_ccrcc',\n",
      " 'cptac_cm',\n",
      " 'cptac_gbm',\n",
      " 'cptac_hnscc',\n",
      " 'cptac_lscc',\n",
      " 'cptac_luad',\n",
      " 'cptac_pda',\n",
      " 'cptac_sar',\n",
      " 'cptac_ucec',\n",
      " 'ct_colonography',\n",
      " 'ct_lymph_nodes',\n",
      " 'dro_toolkit',\n",
      " 'head_neck_cetuximab',\n",
      " 'head_neck_pet_ct',\n",
      " 'head_neck_radiomics_hn1',\n",
      " 'hnscc',\n",
      " 'hnscc_3dct_rt',\n",
      " 'icdc_glioma',\n",
      " 'ispy1',\n",
      " 'ivygap',\n",
      " 'lctsc',\n",
      " 'lgg_1p19qdeletion',\n",
      " 'lidc_idri',\n",
      " 'lung_fused_ct_pathology',\n",
      " 'lung_pet_ct_dx',\n",
      " 'lung_phantom',\n",
      " 'lungct_diagnosis',\n",
      " 'midrc_ricord_1a',\n",
      " 'midrc_ricord_1b',\n",
      " 'midrc_ricord_1c',\n",
      " 'mouse_astrocytoma',\n",
      " 'mouse_mammary',\n",
      " 'mri_dir',\n",
      " 'naf_prostate',\n",
      " 'nlst',\n",
      " 'nsclc_radiogenomics',\n",
      " 'nsclc_radiomics',\n",
      " 'nsclc_radiomics_genomics',\n",
      " 'nsclc_radiomics_interobserver1',\n",
      " 'opc_radiomics',\n",
      " 'pancreas_ct',\n",
      " 'pdmr_292921_168_r',\n",
      " 'pdmr_425362_245_t',\n",
      " 'pdmr_833975_119_r',\n",
      " 'pdmr_997537_175_t',\n",
      " 'pdmr_bl0293_f563',\n",
      " 'pelvic_reference_data',\n",
      " 'phantom_fda',\n",
      " 'prostate_3t',\n",
      " 'prostate_fused_mri_pathology',\n",
      " 'prostate_mri',\n",
      " 'prostate_mri_us_biopsy',\n",
      " 'prostatex',\n",
      " 'pseudo_phi_dicom_data',\n",
      " 'qiba_ct_1c',\n",
      " 'qin_brain_dsc_mri',\n",
      " 'qin_breast',\n",
      " 'qin_breast_dce_mri',\n",
      " 'qin_gbm_treatment_response',\n",
      " 'qin_headneck',\n",
      " 'qin_lung_ct',\n",
      " 'qin_prostate_repeatability',\n",
      " 'rembrandt',\n",
      " 'rider_breast_mri',\n",
      " 'rider_lung_ct',\n",
      " 'rider_lung_pet_ct',\n",
      " 'rider_neuro_mri',\n",
      " 'soft_tissue_sarcoma',\n",
      " 'spie_aapm_lung_ct_challenge',\n",
      " 'tcga_blca',\n",
      " 'tcga_brca',\n",
      " 'tcga_cesc',\n",
      " 'tcga_coad',\n",
      " 'tcga_esca',\n",
      " 'tcga_gbm',\n",
      " 'tcga_hnsc',\n",
      " 'tcga_kich',\n",
      " 'tcga_kirc',\n",
      " 'tcga_kirp',\n",
      " 'tcga_lgg',\n",
      " 'tcga_lihc',\n",
      " 'tcga_luad',\n",
      " 'tcga_lusc',\n",
      " 'tcga_ov',\n",
      " 'tcga_prad',\n",
      " 'tcga_read',\n",
      " 'tcga_sarc',\n",
      " 'tcga_stad',\n",
      " 'tcga_thca',\n",
      " 'tcga_ucec',\n",
      " 'vestibular_schwannoma_seg',\n",
      " 'victre']\n"
     ]
    }
   ],
   "source": [
    "pprint.pprint(F_Only)"
   ]
  },
  {
   "cell_type": "code",
   "execution_count": 32,
   "id": "c0c6038c-d2d1-41b7-9614-09bbdc279ff0",
   "metadata": {},
   "outputs": [
    {
     "name": "stdout",
     "output_type": "stream",
     "text": [
      "R only entires 0\n"
     ]
    }
   ],
   "source": [
    "print(\"R only entires %s\" % str(len(R_Only))) "
   ]
  },
  {
   "cell_type": "code",
   "execution_count": 33,
   "id": "64feecf3-ce97-4f75-852b-2c2e9cccf298",
   "metadata": {},
   "outputs": [
    {
     "name": "stdout",
     "output_type": "stream",
     "text": [
      "[]\n"
     ]
    }
   ],
   "source": [
    "pprint.pprint(R_Only)"
   ]
  },
  {
   "cell_type": "code",
   "execution_count": 34,
   "id": "96af2060-3a92-493c-a2d9-86809b64bec7",
   "metadata": {},
   "outputs": [
    {
     "name": "stdout",
     "output_type": "stream",
     "text": [
      "Common entires 83\n"
     ]
    }
   ],
   "source": [
    "print(\"Common entires %s\" % str(len(RF_Common))) "
   ]
  },
  {
   "cell_type": "code",
   "execution_count": 35,
   "id": "93c04b06-caf6-4bf1-9489-df8d11aed8ea",
   "metadata": {},
   "outputs": [
    {
     "name": "stdout",
     "output_type": "stream",
     "text": [
      "['Academia Sinica LUAD-100',\n",
      " 'BEATAML1.0-COHORT',\n",
      " 'BEATAML1.0-CRENOLANIB',\n",
      " 'CGCI-BLGSP',\n",
      " 'CGCI-HTMCP-CC',\n",
      " 'CMI-ASC',\n",
      " 'CMI-MBC',\n",
      " 'CMI-MPC',\n",
      " 'CPTAC-2',\n",
      " 'CPTAC-3',\n",
      " 'CPTAC-TCGA',\n",
      " 'CPTAC2 Retrospective',\n",
      " 'CPTAC2-Other',\n",
      " 'CPTAC3-Discovery',\n",
      " 'CPTAC3-Other',\n",
      " 'CTSP-DLBCL1',\n",
      " 'FM-AD',\n",
      " 'GENIE-DFCI',\n",
      " 'GENIE-GRCC',\n",
      " 'GENIE-JHU',\n",
      " 'GENIE-MDA',\n",
      " 'GENIE-MSK',\n",
      " 'GENIE-NKI',\n",
      " 'GENIE-UHN',\n",
      " 'GENIE-VICC',\n",
      " 'Georgetown Lung Cancer Proteomics Study',\n",
      " 'HCMI-CMDC',\n",
      " 'Human Early-Onset Gastric Cancer - Korea University',\n",
      " 'Integrated Proteogenomic Characterization of HBV-related Hepatocellular '\n",
      " 'carcinoma',\n",
      " 'MMRF-COMMPASS',\n",
      " 'NCICCR-DLBCL',\n",
      " 'OHSU-CNL',\n",
      " 'ORGANOID-PANCREATIC',\n",
      " 'Oral Squamous Cell Carcinoma - Chang Gung University',\n",
      " 'PJ25730263',\n",
      " 'Proteogenomic Analysis of Pediatric Brain Cancer Tumors Pilot Study',\n",
      " 'Proteogenomic Translational Research Centers (PTRC)',\n",
      " 'REBC-THYR',\n",
      " 'TARGET-ALL-P1',\n",
      " 'TARGET-ALL-P2',\n",
      " 'TARGET-ALL-P3',\n",
      " 'TARGET-AML',\n",
      " 'TARGET-CCSK',\n",
      " 'TARGET-NBL',\n",
      " 'TARGET-OS',\n",
      " 'TARGET-RT',\n",
      " 'TARGET-WT',\n",
      " 'TCGA-ACC',\n",
      " 'TCGA-BLCA',\n",
      " 'TCGA-BRCA',\n",
      " 'TCGA-CESC',\n",
      " 'TCGA-CHOL',\n",
      " 'TCGA-COAD',\n",
      " 'TCGA-DLBC',\n",
      " 'TCGA-ESCA',\n",
      " 'TCGA-GBM',\n",
      " 'TCGA-HNSC',\n",
      " 'TCGA-KICH',\n",
      " 'TCGA-KIRC',\n",
      " 'TCGA-KIRP',\n",
      " 'TCGA-LAML',\n",
      " 'TCGA-LGG',\n",
      " 'TCGA-LIHC',\n",
      " 'TCGA-LUAD',\n",
      " 'TCGA-LUSC',\n",
      " 'TCGA-MESO',\n",
      " 'TCGA-OV',\n",
      " 'TCGA-PAAD',\n",
      " 'TCGA-PCPG',\n",
      " 'TCGA-PRAD',\n",
      " 'TCGA-READ',\n",
      " 'TCGA-SARC',\n",
      " 'TCGA-SKCM',\n",
      " 'TCGA-STAD',\n",
      " 'TCGA-TGCT',\n",
      " 'TCGA-THCA',\n",
      " 'TCGA-THYM',\n",
      " 'TCGA-UCEC',\n",
      " 'TCGA-UCS',\n",
      " 'TCGA-UVM',\n",
      " 'TRIO-CRU',\n",
      " 'VAREPOP-APOLLO',\n",
      " 'WCDT-MCRPC']\n"
     ]
    }
   ],
   "source": [
    "pprint.pprint(RF_Common)"
   ]
  },
  {
   "cell_type": "code",
   "execution_count": 37,
   "id": "53b7f3d2-5059-4429-9d09-e66dfac84e32",
   "metadata": {},
   "outputs": [
    {
     "name": "stdout",
     "output_type": "stream",
     "text": [
      "\n",
      "QueryID: 132be40e-6c74-4b90-a4aa-be63f067f5e5\n",
      "Query: SELECT DISTINCT _File.associated_project AS project FROM gdc-bq-sample.integration.all_v2 AS all_v2, UNNEST(File) AS _File\n",
      "Offset: 0\n",
      "Count: 190\n",
      "Total Row Count: 190\n",
      "More pages: False\n",
      "\n"
     ]
    }
   ],
   "source": [
    "q = \"SELECT DISTINCT _File.associated_project AS project FROM gdc-bq-sample.integration.all_v2 AS all_v2, UNNEST(File) AS _File\"\n",
    "results = Q.sql(q, limit=500)\n",
    "SQLlist = []\n",
    "for result in results:\n",
    "    SQLlist.append(result['project'])\n",
    "print(results)"
   ]
  },
  {
   "cell_type": "code",
   "execution_count": 38,
   "id": "92409b62-3297-4fe8-b260-da9dfe978ca1",
   "metadata": {},
   "outputs": [
    {
     "name": "stdout",
     "output_type": "stream",
     "text": [
      "['4d_lung',\n",
      " 'Academia Sinica LUAD-100',\n",
      " 'BEATAML1.0-COHORT',\n",
      " 'BEATAML1.0-CRENOLANIB',\n",
      " 'CGCI-BLGSP',\n",
      " 'CGCI-HTMCP-CC',\n",
      " 'CMI-ASC',\n",
      " 'CMI-MBC',\n",
      " 'CMI-MPC',\n",
      " 'CPTAC-2',\n",
      " 'CPTAC-3',\n",
      " 'CPTAC-TCGA',\n",
      " 'CPTAC2 Retrospective',\n",
      " 'CPTAC2-Other',\n",
      " 'CPTAC3-Discovery',\n",
      " 'CPTAC3-Other',\n",
      " 'CTSP-DLBCL1',\n",
      " 'FM-AD',\n",
      " 'GENIE-DFCI',\n",
      " 'GENIE-GRCC',\n",
      " 'GENIE-JHU',\n",
      " 'GENIE-MDA',\n",
      " 'GENIE-MSK',\n",
      " 'GENIE-NKI',\n",
      " 'GENIE-UHN',\n",
      " 'GENIE-VICC',\n",
      " 'Georgetown Lung Cancer Proteomics Study',\n",
      " 'HCMI-CMDC',\n",
      " 'Human Early-Onset Gastric Cancer - Korea University',\n",
      " 'Integrated Proteogenomic Characterization of HBV-related Hepatocellular '\n",
      " 'carcinoma',\n",
      " 'MMRF-COMMPASS',\n",
      " 'NCICCR-DLBCL',\n",
      " 'OHSU-CNL',\n",
      " 'ORGANOID-PANCREATIC',\n",
      " 'Oral Squamous Cell Carcinoma - Chang Gung University',\n",
      " 'PJ25730263',\n",
      " 'Proteogenomic Analysis of Pediatric Brain Cancer Tumors Pilot Study',\n",
      " 'Proteogenomic Translational Research Centers (PTRC)',\n",
      " 'REBC-THYR',\n",
      " 'TARGET-ALL-P1',\n",
      " 'TARGET-ALL-P2',\n",
      " 'TARGET-ALL-P3',\n",
      " 'TARGET-AML',\n",
      " 'TARGET-CCSK',\n",
      " 'TARGET-NBL',\n",
      " 'TARGET-OS',\n",
      " 'TARGET-RT',\n",
      " 'TARGET-WT',\n",
      " 'TCGA-ACC',\n",
      " 'TCGA-BLCA',\n",
      " 'TCGA-BRCA',\n",
      " 'TCGA-CESC',\n",
      " 'TCGA-CHOL',\n",
      " 'TCGA-COAD',\n",
      " 'TCGA-DLBC',\n",
      " 'TCGA-ESCA',\n",
      " 'TCGA-GBM',\n",
      " 'TCGA-HNSC',\n",
      " 'TCGA-KICH',\n",
      " 'TCGA-KIRC',\n",
      " 'TCGA-KIRP',\n",
      " 'TCGA-LAML',\n",
      " 'TCGA-LGG',\n",
      " 'TCGA-LIHC',\n",
      " 'TCGA-LUAD',\n",
      " 'TCGA-LUSC',\n",
      " 'TCGA-MESO',\n",
      " 'TCGA-OV',\n",
      " 'TCGA-PAAD',\n",
      " 'TCGA-PCPG',\n",
      " 'TCGA-PRAD',\n",
      " 'TCGA-READ',\n",
      " 'TCGA-SARC',\n",
      " 'TCGA-SKCM',\n",
      " 'TCGA-STAD',\n",
      " 'TCGA-TGCT',\n",
      " 'TCGA-THCA',\n",
      " 'TCGA-THYM',\n",
      " 'TCGA-UCEC',\n",
      " 'TCGA-UCS',\n",
      " 'TCGA-UVM',\n",
      " 'TRIO-CRU',\n",
      " 'VAREPOP-APOLLO',\n",
      " 'WCDT-MCRPC',\n",
      " 'aapm_rt_mac',\n",
      " 'acrin_dsc_mr_brain',\n",
      " 'acrin_flt_breast',\n",
      " 'acrin_fmiso_brain',\n",
      " 'acrin_nsclc_fdg_pet',\n",
      " 'anti_pd_1_lung',\n",
      " 'anti_pd_1_melanoma',\n",
      " 'apollo',\n",
      " 'brain_tumor_progression',\n",
      " 'breast_cancer_screening_dbt',\n",
      " 'breast_diagnosis',\n",
      " 'breast_mri_nact_pilot',\n",
      " 'c4kc_kits',\n",
      " 'covid_19_ar',\n",
      " 'cptac_ccrcc',\n",
      " 'cptac_cm',\n",
      " 'cptac_gbm',\n",
      " 'cptac_hnscc',\n",
      " 'cptac_lscc',\n",
      " 'cptac_luad',\n",
      " 'cptac_pda',\n",
      " 'cptac_sar',\n",
      " 'cptac_ucec',\n",
      " 'ct_colonography',\n",
      " 'ct_lymph_nodes',\n",
      " 'dro_toolkit',\n",
      " 'head_neck_cetuximab',\n",
      " 'head_neck_pet_ct',\n",
      " 'head_neck_radiomics_hn1',\n",
      " 'hnscc',\n",
      " 'hnscc_3dct_rt',\n",
      " 'icdc_glioma',\n",
      " 'ispy1',\n",
      " 'ivygap',\n",
      " 'lctsc',\n",
      " 'lgg_1p19qdeletion',\n",
      " 'lidc_idri',\n",
      " 'lung_fused_ct_pathology',\n",
      " 'lung_pet_ct_dx',\n",
      " 'lung_phantom',\n",
      " 'lungct_diagnosis',\n",
      " 'midrc_ricord_1a',\n",
      " 'midrc_ricord_1b',\n",
      " 'midrc_ricord_1c',\n",
      " 'mouse_astrocytoma',\n",
      " 'mouse_mammary',\n",
      " 'mri_dir',\n",
      " 'naf_prostate',\n",
      " 'nlst',\n",
      " 'nsclc_radiogenomics',\n",
      " 'nsclc_radiomics',\n",
      " 'nsclc_radiomics_genomics',\n",
      " 'nsclc_radiomics_interobserver1',\n",
      " 'opc_radiomics',\n",
      " 'pancreas_ct',\n",
      " 'pdmr_292921_168_r',\n",
      " 'pdmr_425362_245_t',\n",
      " 'pdmr_833975_119_r',\n",
      " 'pdmr_997537_175_t',\n",
      " 'pdmr_bl0293_f563',\n",
      " 'pelvic_reference_data',\n",
      " 'phantom_fda',\n",
      " 'prostate_3t',\n",
      " 'prostate_fused_mri_pathology',\n",
      " 'prostate_mri',\n",
      " 'prostate_mri_us_biopsy',\n",
      " 'prostatex',\n",
      " 'pseudo_phi_dicom_data',\n",
      " 'qiba_ct_1c',\n",
      " 'qin_brain_dsc_mri',\n",
      " 'qin_breast',\n",
      " 'qin_breast_dce_mri',\n",
      " 'qin_gbm_treatment_response',\n",
      " 'qin_headneck',\n",
      " 'qin_lung_ct',\n",
      " 'qin_prostate_repeatability',\n",
      " 'rembrandt',\n",
      " 'rider_breast_mri',\n",
      " 'rider_lung_ct',\n",
      " 'rider_lung_pet_ct',\n",
      " 'rider_neuro_mri',\n",
      " 'soft_tissue_sarcoma',\n",
      " 'spie_aapm_lung_ct_challenge',\n",
      " 'tcga_blca',\n",
      " 'tcga_brca',\n",
      " 'tcga_cesc',\n",
      " 'tcga_coad',\n",
      " 'tcga_esca',\n",
      " 'tcga_gbm',\n",
      " 'tcga_hnsc',\n",
      " 'tcga_kich',\n",
      " 'tcga_kirc',\n",
      " 'tcga_kirp',\n",
      " 'tcga_lgg',\n",
      " 'tcga_lihc',\n",
      " 'tcga_luad',\n",
      " 'tcga_lusc',\n",
      " 'tcga_ov',\n",
      " 'tcga_prad',\n",
      " 'tcga_read',\n",
      " 'tcga_sarc',\n",
      " 'tcga_stad',\n",
      " 'tcga_thca',\n",
      " 'tcga_ucec',\n",
      " 'vestibular_schwannoma_seg',\n",
      " 'victre']\n"
     ]
    }
   ],
   "source": [
    "SQLlist.sort()\n",
    "pprint.pprint(SQLlist)"
   ]
  },
  {
   "cell_type": "code",
   "execution_count": 39,
   "id": "d98e16ba-b092-4b93-8992-7b14b45bd367",
   "metadata": {},
   "outputs": [
    {
     "name": "stdout",
     "output_type": "stream",
     "text": [
      "F and SQLlist are identicat\n"
     ]
    }
   ],
   "source": [
    "SQLlist.sort()\n",
    "if F == SQLlist:\n",
    "    print(\"F and SQLlist are identicat\")\n",
    "else:\n",
    "    print(\"F and SQLlist differ\")"
   ]
  },
  {
   "cell_type": "code",
   "execution_count": 40,
   "id": "31dc811e-ffec-48ac-912a-7c3507201a79",
   "metadata": {},
   "outputs": [],
   "source": [
    "New_F_Only = []\n",
    "SQL_Only = []\n",
    "F_SQL_Common = []"
   ]
  },
  {
   "cell_type": "code",
   "execution_count": 41,
   "id": "0af87ffb-c8e0-4c1a-b1b2-8766971019f3",
   "metadata": {},
   "outputs": [],
   "source": [
    "for entry in F:\n",
    "    if entry in SQLlist:\n",
    "        F_SQL_Common.append(entry)\n",
    "    else:\n",
    "        New_F_Only.append(entry)"
   ]
  },
  {
   "cell_type": "code",
   "execution_count": 42,
   "id": "8e744cca-bb81-491d-aa14-409a56b11842",
   "metadata": {},
   "outputs": [],
   "source": [
    "for entry in SQLlist:\n",
    "    if entry in F:\n",
    "        None\n",
    "    else:\n",
    "        SQL_Only.append(entry)"
   ]
  },
  {
   "cell_type": "code",
   "execution_count": 43,
   "id": "1018ddd0-1c5f-4b29-9e89-2840a3877521",
   "metadata": {},
   "outputs": [
    {
     "name": "stdout",
     "output_type": "stream",
     "text": [
      "New F only entires 0\n"
     ]
    }
   ],
   "source": [
    "print(\"New F only entires %s\" % str(len(New_F_Only))) "
   ]
  },
  {
   "cell_type": "code",
   "execution_count": 44,
   "id": "49713cfd-2904-460a-a069-68a8bbe035f0",
   "metadata": {},
   "outputs": [
    {
     "name": "stdout",
     "output_type": "stream",
     "text": [
      "[]\n"
     ]
    }
   ],
   "source": [
    "pprint.pprint(New_F_Only)"
   ]
  },
  {
   "cell_type": "code",
   "execution_count": 45,
   "id": "0e35ed63-553f-4489-8f1c-e03c0ca5758d",
   "metadata": {},
   "outputs": [
    {
     "name": "stdout",
     "output_type": "stream",
     "text": [
      "SQL only entires 0\n"
     ]
    }
   ],
   "source": [
    "print(\"SQL only entires %s\" % str(len(SQL_Only))) "
   ]
  },
  {
   "cell_type": "code",
   "execution_count": 46,
   "id": "ef4c8b27-9b3a-43cb-9f66-18208adeaee5",
   "metadata": {},
   "outputs": [
    {
     "name": "stdout",
     "output_type": "stream",
     "text": [
      "[]\n"
     ]
    }
   ],
   "source": [
    "pprint.pprint(SQL_Only)"
   ]
  },
  {
   "cell_type": "code",
   "execution_count": 47,
   "id": "c41c08d7-f875-4bf4-b9b8-cd7b945a47e0",
   "metadata": {},
   "outputs": [
    {
     "name": "stdout",
     "output_type": "stream",
     "text": [
      "F and SQL Common entires 190\n"
     ]
    }
   ],
   "source": [
    "print(\"F and SQL Common entires %s\" % str(len(F_SQL_Common))) "
   ]
  },
  {
   "cell_type": "code",
   "execution_count": 48,
   "id": "50c8dce9-da74-4602-b172-a950330a57a7",
   "metadata": {},
   "outputs": [
    {
     "name": "stdout",
     "output_type": "stream",
     "text": [
      "['4d_lung',\n",
      " 'Academia Sinica LUAD-100',\n",
      " 'BEATAML1.0-COHORT',\n",
      " 'BEATAML1.0-CRENOLANIB',\n",
      " 'CGCI-BLGSP',\n",
      " 'CGCI-HTMCP-CC',\n",
      " 'CMI-ASC',\n",
      " 'CMI-MBC',\n",
      " 'CMI-MPC',\n",
      " 'CPTAC-2',\n",
      " 'CPTAC-3',\n",
      " 'CPTAC-TCGA',\n",
      " 'CPTAC2 Retrospective',\n",
      " 'CPTAC2-Other',\n",
      " 'CPTAC3-Discovery',\n",
      " 'CPTAC3-Other',\n",
      " 'CTSP-DLBCL1',\n",
      " 'FM-AD',\n",
      " 'GENIE-DFCI',\n",
      " 'GENIE-GRCC',\n",
      " 'GENIE-JHU',\n",
      " 'GENIE-MDA',\n",
      " 'GENIE-MSK',\n",
      " 'GENIE-NKI',\n",
      " 'GENIE-UHN',\n",
      " 'GENIE-VICC',\n",
      " 'Georgetown Lung Cancer Proteomics Study',\n",
      " 'HCMI-CMDC',\n",
      " 'Human Early-Onset Gastric Cancer - Korea University',\n",
      " 'Integrated Proteogenomic Characterization of HBV-related Hepatocellular '\n",
      " 'carcinoma',\n",
      " 'MMRF-COMMPASS',\n",
      " 'NCICCR-DLBCL',\n",
      " 'OHSU-CNL',\n",
      " 'ORGANOID-PANCREATIC',\n",
      " 'Oral Squamous Cell Carcinoma - Chang Gung University',\n",
      " 'PJ25730263',\n",
      " 'Proteogenomic Analysis of Pediatric Brain Cancer Tumors Pilot Study',\n",
      " 'Proteogenomic Translational Research Centers (PTRC)',\n",
      " 'REBC-THYR',\n",
      " 'TARGET-ALL-P1',\n",
      " 'TARGET-ALL-P2',\n",
      " 'TARGET-ALL-P3',\n",
      " 'TARGET-AML',\n",
      " 'TARGET-CCSK',\n",
      " 'TARGET-NBL',\n",
      " 'TARGET-OS',\n",
      " 'TARGET-RT',\n",
      " 'TARGET-WT',\n",
      " 'TCGA-ACC',\n",
      " 'TCGA-BLCA',\n",
      " 'TCGA-BRCA',\n",
      " 'TCGA-CESC',\n",
      " 'TCGA-CHOL',\n",
      " 'TCGA-COAD',\n",
      " 'TCGA-DLBC',\n",
      " 'TCGA-ESCA',\n",
      " 'TCGA-GBM',\n",
      " 'TCGA-HNSC',\n",
      " 'TCGA-KICH',\n",
      " 'TCGA-KIRC',\n",
      " 'TCGA-KIRP',\n",
      " 'TCGA-LAML',\n",
      " 'TCGA-LGG',\n",
      " 'TCGA-LIHC',\n",
      " 'TCGA-LUAD',\n",
      " 'TCGA-LUSC',\n",
      " 'TCGA-MESO',\n",
      " 'TCGA-OV',\n",
      " 'TCGA-PAAD',\n",
      " 'TCGA-PCPG',\n",
      " 'TCGA-PRAD',\n",
      " 'TCGA-READ',\n",
      " 'TCGA-SARC',\n",
      " 'TCGA-SKCM',\n",
      " 'TCGA-STAD',\n",
      " 'TCGA-TGCT',\n",
      " 'TCGA-THCA',\n",
      " 'TCGA-THYM',\n",
      " 'TCGA-UCEC',\n",
      " 'TCGA-UCS',\n",
      " 'TCGA-UVM',\n",
      " 'TRIO-CRU',\n",
      " 'VAREPOP-APOLLO',\n",
      " 'WCDT-MCRPC',\n",
      " 'aapm_rt_mac',\n",
      " 'acrin_dsc_mr_brain',\n",
      " 'acrin_flt_breast',\n",
      " 'acrin_fmiso_brain',\n",
      " 'acrin_nsclc_fdg_pet',\n",
      " 'anti_pd_1_lung',\n",
      " 'anti_pd_1_melanoma',\n",
      " 'apollo',\n",
      " 'brain_tumor_progression',\n",
      " 'breast_cancer_screening_dbt',\n",
      " 'breast_diagnosis',\n",
      " 'breast_mri_nact_pilot',\n",
      " 'c4kc_kits',\n",
      " 'covid_19_ar',\n",
      " 'cptac_ccrcc',\n",
      " 'cptac_cm',\n",
      " 'cptac_gbm',\n",
      " 'cptac_hnscc',\n",
      " 'cptac_lscc',\n",
      " 'cptac_luad',\n",
      " 'cptac_pda',\n",
      " 'cptac_sar',\n",
      " 'cptac_ucec',\n",
      " 'ct_colonography',\n",
      " 'ct_lymph_nodes',\n",
      " 'dro_toolkit',\n",
      " 'head_neck_cetuximab',\n",
      " 'head_neck_pet_ct',\n",
      " 'head_neck_radiomics_hn1',\n",
      " 'hnscc',\n",
      " 'hnscc_3dct_rt',\n",
      " 'icdc_glioma',\n",
      " 'ispy1',\n",
      " 'ivygap',\n",
      " 'lctsc',\n",
      " 'lgg_1p19qdeletion',\n",
      " 'lidc_idri',\n",
      " 'lung_fused_ct_pathology',\n",
      " 'lung_pet_ct_dx',\n",
      " 'lung_phantom',\n",
      " 'lungct_diagnosis',\n",
      " 'midrc_ricord_1a',\n",
      " 'midrc_ricord_1b',\n",
      " 'midrc_ricord_1c',\n",
      " 'mouse_astrocytoma',\n",
      " 'mouse_mammary',\n",
      " 'mri_dir',\n",
      " 'naf_prostate',\n",
      " 'nlst',\n",
      " 'nsclc_radiogenomics',\n",
      " 'nsclc_radiomics',\n",
      " 'nsclc_radiomics_genomics',\n",
      " 'nsclc_radiomics_interobserver1',\n",
      " 'opc_radiomics',\n",
      " 'pancreas_ct',\n",
      " 'pdmr_292921_168_r',\n",
      " 'pdmr_425362_245_t',\n",
      " 'pdmr_833975_119_r',\n",
      " 'pdmr_997537_175_t',\n",
      " 'pdmr_bl0293_f563',\n",
      " 'pelvic_reference_data',\n",
      " 'phantom_fda',\n",
      " 'prostate_3t',\n",
      " 'prostate_fused_mri_pathology',\n",
      " 'prostate_mri',\n",
      " 'prostate_mri_us_biopsy',\n",
      " 'prostatex',\n",
      " 'pseudo_phi_dicom_data',\n",
      " 'qiba_ct_1c',\n",
      " 'qin_brain_dsc_mri',\n",
      " 'qin_breast',\n",
      " 'qin_breast_dce_mri',\n",
      " 'qin_gbm_treatment_response',\n",
      " 'qin_headneck',\n",
      " 'qin_lung_ct',\n",
      " 'qin_prostate_repeatability',\n",
      " 'rembrandt',\n",
      " 'rider_breast_mri',\n",
      " 'rider_lung_ct',\n",
      " 'rider_lung_pet_ct',\n",
      " 'rider_neuro_mri',\n",
      " 'soft_tissue_sarcoma',\n",
      " 'spie_aapm_lung_ct_challenge',\n",
      " 'tcga_blca',\n",
      " 'tcga_brca',\n",
      " 'tcga_cesc',\n",
      " 'tcga_coad',\n",
      " 'tcga_esca',\n",
      " 'tcga_gbm',\n",
      " 'tcga_hnsc',\n",
      " 'tcga_kich',\n",
      " 'tcga_kirc',\n",
      " 'tcga_kirp',\n",
      " 'tcga_lgg',\n",
      " 'tcga_lihc',\n",
      " 'tcga_luad',\n",
      " 'tcga_lusc',\n",
      " 'tcga_ov',\n",
      " 'tcga_prad',\n",
      " 'tcga_read',\n",
      " 'tcga_sarc',\n",
      " 'tcga_stad',\n",
      " 'tcga_thca',\n",
      " 'tcga_ucec',\n",
      " 'vestibular_schwannoma_seg',\n",
      " 'victre']\n"
     ]
    }
   ],
   "source": [
    "pprint.pprint(F_SQL_Common)"
   ]
  },
  {
   "cell_type": "code",
   "execution_count": 49,
   "id": "32fa3fe5-b494-463d-919b-2469067de382",
   "metadata": {},
   "outputs": [
    {
     "name": "stdout",
     "output_type": "stream",
     "text": [
      "Getting results from database\n",
      "\n",
      "Total execution time: 1266 ms\n",
      "\n",
      "QueryID: 9b14538e-29a8-45c7-9396-bc538348bf45\n",
      "Query: SELECT all_v2.* FROM gdc-bq-sample.integration.all_v2 AS all_v2 WHERE (all_v2.id = 'TCGA-13-1409')\n",
      "Offset: 0\n",
      "Count: 1\n",
      "Total Row Count: 1\n",
      "More pages: False\n",
      "\n"
     ]
    }
   ],
   "source": [
    "casequery = Q('id = \"TCGA-13-1409\"')\n",
    "r = casequery.run()\n",
    "print(r)"
   ]
  },
  {
   "cell_type": "code",
   "execution_count": 50,
   "id": "60e2fc01-001f-4450-a226-cbcf9536d9ca",
   "metadata": {},
   "outputs": [
    {
     "name": "stdout",
     "output_type": "stream",
     "text": [
      "['TCGA-OV', 'CPTAC-TCGA', 'CPTAC-TCGA', 'tcga_ov']\n"
     ]
    }
   ],
   "source": [
    "print(r[0]['subject_associated_project'])"
   ]
  },
  {
   "cell_type": "code",
   "execution_count": 8,
   "id": "08c8bbf6-3b8c-4724-b460-8ec648d21ea6",
   "metadata": {},
   "outputs": [],
   "source": [
    "import requests"
   ]
  },
  {
   "cell_type": "code",
   "execution_count": 9,
   "id": "0ff327a2-334f-48da-a871-6de9e3dfa5a0",
   "metadata": {},
   "outputs": [],
   "source": [
    "swagger_results = \"ef6c962b-b5b9-43d5-81a5-28f9b450fd50\""
   ]
  },
  {
   "cell_type": "code",
   "execution_count": 10,
   "id": "ef716f6d-8a1f-49c9-bf85-4fb93498677b",
   "metadata": {},
   "outputs": [],
   "source": [
    "def getResults(queryid, offset, limit):\n",
    "    #curl -X GET \"https://cda.cda-dev.broadinstitute.org/api/v1/query/bcff531e-0ada-4d43-9d81-ae9ab05efacb?offset=10&limit=100\" -H \"accept: application/json\"\n",
    "    resultURL = \"https://cda.cda-dev.broadinstitute.org/api/v1/query/{}?offset={}&limit={}\".format(queryid, str(offset), str(limit))\n",
    "    #pprint.pprint(resultURL)\n",
    "    headers = {'accept' : 'application/json'}\n",
    "    \n",
    "    request = requests.get(resultURL, headers = headers)\n",
    "    \n",
    "    if request.status_code == 200:\n",
    "        #pprint.pprint(request.json())\n",
    "        return request.json()\n",
    "    else:\n",
    "        raise Exception (\"Query failed code {}. {}\".format(request.status_code))\n",
    "    "
   ]
  },
  {
   "cell_type": "code",
   "execution_count": 53,
   "id": "e2ae8603-3ab3-4b40-8bbe-70e0df584aec",
   "metadata": {},
   "outputs": [
    {
     "name": "stdout",
     "output_type": "stream",
     "text": [
      "'190'\n",
      "['4d_lung',\n",
      " 'Academia Sinica LUAD-100',\n",
      " 'BEATAML1.0-COHORT',\n",
      " 'BEATAML1.0-CRENOLANIB',\n",
      " 'CGCI-BLGSP',\n",
      " 'CGCI-HTMCP-CC',\n",
      " 'CMI-ASC',\n",
      " 'CMI-MBC',\n",
      " 'CMI-MPC',\n",
      " 'CPTAC-2',\n",
      " 'CPTAC-3',\n",
      " 'CPTAC-TCGA',\n",
      " 'CPTAC2 Retrospective',\n",
      " 'CPTAC2-Other',\n",
      " 'CPTAC3-Discovery',\n",
      " 'CPTAC3-Other',\n",
      " 'CTSP-DLBCL1',\n",
      " 'FM-AD',\n",
      " 'GENIE-DFCI',\n",
      " 'GENIE-GRCC',\n",
      " 'GENIE-JHU',\n",
      " 'GENIE-MDA',\n",
      " 'GENIE-MSK',\n",
      " 'GENIE-NKI',\n",
      " 'GENIE-UHN',\n",
      " 'GENIE-VICC',\n",
      " 'Georgetown Lung Cancer Proteomics Study',\n",
      " 'HCMI-CMDC',\n",
      " 'Human Early-Onset Gastric Cancer - Korea University',\n",
      " 'Integrated Proteogenomic Characterization of HBV-related Hepatocellular '\n",
      " 'carcinoma',\n",
      " 'MMRF-COMMPASS',\n",
      " 'NCICCR-DLBCL',\n",
      " 'OHSU-CNL',\n",
      " 'ORGANOID-PANCREATIC',\n",
      " 'Oral Squamous Cell Carcinoma - Chang Gung University',\n",
      " 'PJ25730263',\n",
      " 'Proteogenomic Analysis of Pediatric Brain Cancer Tumors Pilot Study',\n",
      " 'Proteogenomic Translational Research Centers (PTRC)',\n",
      " 'REBC-THYR',\n",
      " 'TARGET-ALL-P1',\n",
      " 'TARGET-ALL-P2',\n",
      " 'TARGET-ALL-P3',\n",
      " 'TARGET-AML',\n",
      " 'TARGET-CCSK',\n",
      " 'TARGET-NBL',\n",
      " 'TARGET-OS',\n",
      " 'TARGET-RT',\n",
      " 'TARGET-WT',\n",
      " 'TCGA-ACC',\n",
      " 'TCGA-BLCA',\n",
      " 'TCGA-BRCA',\n",
      " 'TCGA-CESC',\n",
      " 'TCGA-CHOL',\n",
      " 'TCGA-COAD',\n",
      " 'TCGA-DLBC',\n",
      " 'TCGA-ESCA',\n",
      " 'TCGA-GBM',\n",
      " 'TCGA-HNSC',\n",
      " 'TCGA-KICH',\n",
      " 'TCGA-KIRC',\n",
      " 'TCGA-KIRP',\n",
      " 'TCGA-LAML',\n",
      " 'TCGA-LGG',\n",
      " 'TCGA-LIHC',\n",
      " 'TCGA-LUAD',\n",
      " 'TCGA-LUSC',\n",
      " 'TCGA-MESO',\n",
      " 'TCGA-OV',\n",
      " 'TCGA-PAAD',\n",
      " 'TCGA-PCPG',\n",
      " 'TCGA-PRAD',\n",
      " 'TCGA-READ',\n",
      " 'TCGA-SARC',\n",
      " 'TCGA-SKCM',\n",
      " 'TCGA-STAD',\n",
      " 'TCGA-TGCT',\n",
      " 'TCGA-THCA',\n",
      " 'TCGA-THYM',\n",
      " 'TCGA-UCEC',\n",
      " 'TCGA-UCS',\n",
      " 'TCGA-UVM',\n",
      " 'TRIO-CRU',\n",
      " 'VAREPOP-APOLLO',\n",
      " 'WCDT-MCRPC',\n",
      " 'aapm_rt_mac',\n",
      " 'acrin_dsc_mr_brain',\n",
      " 'acrin_flt_breast',\n",
      " 'acrin_fmiso_brain',\n",
      " 'acrin_nsclc_fdg_pet',\n",
      " 'anti_pd_1_lung',\n",
      " 'anti_pd_1_melanoma',\n",
      " 'apollo',\n",
      " 'brain_tumor_progression',\n",
      " 'breast_cancer_screening_dbt',\n",
      " 'breast_diagnosis',\n",
      " 'breast_mri_nact_pilot',\n",
      " 'c4kc_kits',\n",
      " 'covid_19_ar',\n",
      " 'cptac_ccrcc',\n",
      " 'cptac_cm',\n",
      " 'cptac_gbm',\n",
      " 'cptac_hnscc',\n",
      " 'cptac_lscc',\n",
      " 'cptac_luad',\n",
      " 'cptac_pda',\n",
      " 'cptac_sar',\n",
      " 'cptac_ucec',\n",
      " 'ct_colonography',\n",
      " 'ct_lymph_nodes',\n",
      " 'dro_toolkit',\n",
      " 'head_neck_cetuximab',\n",
      " 'head_neck_pet_ct',\n",
      " 'head_neck_radiomics_hn1',\n",
      " 'hnscc',\n",
      " 'hnscc_3dct_rt',\n",
      " 'icdc_glioma',\n",
      " 'ispy1',\n",
      " 'ivygap',\n",
      " 'lctsc',\n",
      " 'lgg_1p19qdeletion',\n",
      " 'lidc_idri',\n",
      " 'lung_fused_ct_pathology',\n",
      " 'lung_pet_ct_dx',\n",
      " 'lung_phantom',\n",
      " 'lungct_diagnosis',\n",
      " 'midrc_ricord_1a',\n",
      " 'midrc_ricord_1b',\n",
      " 'midrc_ricord_1c',\n",
      " 'mouse_astrocytoma',\n",
      " 'mouse_mammary',\n",
      " 'mri_dir',\n",
      " 'naf_prostate',\n",
      " 'nlst',\n",
      " 'nsclc_radiogenomics',\n",
      " 'nsclc_radiomics',\n",
      " 'nsclc_radiomics_genomics',\n",
      " 'nsclc_radiomics_interobserver1',\n",
      " 'opc_radiomics',\n",
      " 'pancreas_ct',\n",
      " 'pdmr_292921_168_r',\n",
      " 'pdmr_425362_245_t',\n",
      " 'pdmr_833975_119_r',\n",
      " 'pdmr_997537_175_t',\n",
      " 'pdmr_bl0293_f563',\n",
      " 'pelvic_reference_data',\n",
      " 'phantom_fda',\n",
      " 'prostate_3t',\n",
      " 'prostate_fused_mri_pathology',\n",
      " 'prostate_mri',\n",
      " 'prostate_mri_us_biopsy',\n",
      " 'prostatex',\n",
      " 'pseudo_phi_dicom_data',\n",
      " 'qiba_ct_1c',\n",
      " 'qin_brain_dsc_mri',\n",
      " 'qin_breast',\n",
      " 'qin_breast_dce_mri',\n",
      " 'qin_gbm_treatment_response',\n",
      " 'qin_headneck',\n",
      " 'qin_lung_ct',\n",
      " 'qin_prostate_repeatability',\n",
      " 'rembrandt',\n",
      " 'rider_breast_mri',\n",
      " 'rider_lung_ct',\n",
      " 'rider_lung_pet_ct',\n",
      " 'rider_neuro_mri',\n",
      " 'soft_tissue_sarcoma',\n",
      " 'spie_aapm_lung_ct_challenge',\n",
      " 'tcga_blca',\n",
      " 'tcga_brca',\n",
      " 'tcga_cesc',\n",
      " 'tcga_coad',\n",
      " 'tcga_esca',\n",
      " 'tcga_gbm',\n",
      " 'tcga_hnsc',\n",
      " 'tcga_kich',\n",
      " 'tcga_kirc',\n",
      " 'tcga_kirp',\n",
      " 'tcga_lgg',\n",
      " 'tcga_lihc',\n",
      " 'tcga_luad',\n",
      " 'tcga_lusc',\n",
      " 'tcga_ov',\n",
      " 'tcga_prad',\n",
      " 'tcga_read',\n",
      " 'tcga_sarc',\n",
      " 'tcga_stad',\n",
      " 'tcga_thca',\n",
      " 'tcga_ucec',\n",
      " 'vestibular_schwannoma_seg',\n",
      " 'victre']\n"
     ]
    }
   ],
   "source": [
    "swr = getResults(swagger_results,0,500)\n",
    "swr_list = []\n",
    "for result in swr['result']:\n",
    "    swr_list.append(result['associated_project'])\n",
    "swr_list.sort()\n",
    "pprint.pprint(str(len(swr_list)))\n",
    "pprint.pprint(swr_list)\n",
    "                    "
   ]
  },
  {
   "cell_type": "code",
   "execution_count": null,
   "id": "cd5520cc-3f25-426c-b09f-268ab3daccd9",
   "metadata": {},
   "outputs": [],
   "source": []
  }
 ],
 "metadata": {
  "kernelspec": {
   "display_name": "Python 3 (ipykernel)",
   "language": "python",
   "name": "python3"
  },
  "language_info": {
   "codemirror_mode": {
    "name": "ipython",
    "version": 3
   },
   "file_extension": ".py",
   "mimetype": "text/x-python",
   "name": "python",
   "nbconvert_exporter": "python",
   "pygments_lexer": "ipython3",
   "version": "3.8.10"
  }
 },
 "nbformat": 4,
 "nbformat_minor": 5
}
