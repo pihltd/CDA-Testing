{
 "cells": [
  {
   "cell_type": "code",
   "execution_count": 58,
   "metadata": {},
   "outputs": [],
   "source": [
    "from cdapython import Q, columns, unique_terms"
   ]
  },
  {
   "cell_type": "code",
   "execution_count": 2,
   "metadata": {},
   "outputs": [],
   "source": [
    "q1 = Q('ResearchSubject.Diagnosis.age_at_diagnosis > 50*365')"
   ]
  },
  {
   "cell_type": "code",
   "execution_count": 3,
   "metadata": {},
   "outputs": [],
   "source": [
    "q2 = Q('ResearchSubject.associated_project = \"TCGA-OV\"')"
   ]
  },
  {
   "cell_type": "code",
   "execution_count": 4,
   "metadata": {},
   "outputs": [],
   "source": [
    "q = q1.And(q2)"
   ]
  },
  {
   "cell_type": "code",
   "execution_count": 46,
   "metadata": {},
   "outputs": [],
   "source": [
    "result = q.run(limit = 1)"
   ]
  },
  {
   "cell_type": "code",
   "execution_count": 47,
   "metadata": {},
   "outputs": [
    {
     "name": "stdout",
     "output_type": "stream",
     "text": [
      "\n",
      "Query: SELECT * FROM gdc-bq-sample.cda_mvp.v2, UNNEST(ResearchSubject) AS _ResearchSubject, UNNEST(_ResearchSubject.Diagnosis) AS _Diagnosis WHERE ((_Diagnosis.age_at_diagnosis > 50*365) AND (_ResearchSubject.associated_project = 'TCGA-OV'))\n",
      "Offset: 0\n",
      "Limit: 1\n",
      "Count: 1\n",
      "More pages: Yes\n",
      "\n"
     ]
    }
   ],
   "source": [
    "print(result)"
   ]
  },
  {
   "cell_type": "code",
   "execution_count": 48,
   "metadata": {},
   "outputs": [
    {
     "name": "stdout",
     "output_type": "stream",
     "text": [
      "dict_keys(['days_to_birth', 'race', 'sex', 'ethnicity', 'id', 'ResearchSubject', 'Diagnosis', 'Specimen', 'associated_project', 'primary_disease_type', 'identifier', 'primary_disease_site', 'morphology', 'tumor_stage', 'tumor_grade', 'Treatment', 'primary_diagnosis', 'age_at_diagnosis'])\n"
     ]
    }
   ],
   "source": [
    "for subject in result:\n",
    "    print(subject.keys())\n",
    "    "
   ]
  },
  {
   "cell_type": "code",
   "execution_count": 49,
   "metadata": {},
   "outputs": [
    {
     "name": "stdout",
     "output_type": "stream",
     "text": [
      "ID: a9e4580c-412c-5325-a91d-50fd125a515b\tSex: female\tAge: 55.37260273972603\tDisease: Cystic, Mucinous and Serous Neoplasms\n",
      "\n"
     ]
    }
   ],
   "source": [
    "for subject in result:\n",
    "    #print(subject['Diagnosis'])\n",
    "    id = subject['id']\n",
    "    sex = subject['sex']\n",
    "    age = subject['age_at_diagnosis']\n",
    "    age = age/365\n",
    "    disease = subject['primary_disease_type']\n",
    "    print((\"ID: %s\\tSex: %s\\tAge: %s\\tDisease: %s\\n\") % (id,sex,age,disease))"
   ]
  },
  {
   "cell_type": "code",
   "execution_count": 56,
   "metadata": {},
   "outputs": [
    {
     "name": "stdout",
     "output_type": "stream",
     "text": [
      "Biospecimen\tSlide Image\n",
      "Simple Nucleotide Variation\tAggregated Somatic Mutation\n",
      "Simple Nucleotide Variation\tRaw Simple Somatic Mutation\n",
      "Simple Nucleotide Variation\tAggregated Somatic Mutation\n",
      "Simple Nucleotide Variation\tRaw Simple Somatic Mutation\n",
      "Copy Number Variation\tGene Level Copy Number\n",
      "Simple Nucleotide Variation\tMasked Somatic Mutation\n",
      "Simple Nucleotide Variation\tAggregated Somatic Mutation\n",
      "Simple Nucleotide Variation\tAnnotated Somatic Mutation\n",
      "Simple Nucleotide Variation\tAnnotated Somatic Mutation\n",
      "Simple Nucleotide Variation\tMasked Somatic Mutation\n",
      "Simple Nucleotide Variation\tAnnotated Somatic Mutation\n",
      "Copy Number Variation\tAllele-specific Copy Number Segment\n",
      "Simple Nucleotide Variation\tRaw Simple Somatic Mutation\n",
      "Sequencing Reads\tAligned Reads\n",
      "Simple Nucleotide Variation\tRaw Simple Somatic Mutation\n",
      "Simple Nucleotide Variation\tMasked Somatic Mutation\n",
      "Simple Nucleotide Variation\tAnnotated Somatic Mutation\n",
      "Simple Nucleotide Variation\tMasked Somatic Mutation\n",
      "Copy Number Variation\tCopy Number Segment\n",
      "Copy Number Variation\tMasked Copy Number Segment\n",
      "Simple Nucleotide Variation\tAggregated Somatic Mutation\n",
      "Simple Nucleotide Variation\tAggregated Somatic Mutation\n",
      "Simple Nucleotide Variation\tRaw Simple Somatic Mutation\n",
      "Copy Number Variation\tGene Level Copy Number Scores\n",
      "Simple Nucleotide Variation\tAggregated Somatic Mutation\n",
      "Simple Nucleotide Variation\tRaw Simple Somatic Mutation\n",
      "Copy Number Variation\tGene Level Copy Number\n",
      "Simple Nucleotide Variation\tMasked Somatic Mutation\n",
      "Simple Nucleotide Variation\tAggregated Somatic Mutation\n",
      "Simple Nucleotide Variation\tAnnotated Somatic Mutation\n",
      "Transcriptome Profiling\tmiRNA Expression Quantification\n",
      "Simple Nucleotide Variation\tAnnotated Somatic Mutation\n",
      "Copy Number Variation\tMasked Copy Number Segment\n",
      "Simple Nucleotide Variation\tMasked Somatic Mutation\n",
      "Simple Nucleotide Variation\tAnnotated Somatic Mutation\n",
      "Copy Number Variation\tAllele-specific Copy Number Segment\n",
      "Simple Nucleotide Variation\tRaw Simple Somatic Mutation\n",
      "Copy Number Variation\tCopy Number Segment\n",
      "Simple Nucleotide Variation\tRaw Simple Somatic Mutation\n",
      "Simple Nucleotide Variation\tMasked Somatic Mutation\n",
      "Simple Nucleotide Variation\tAnnotated Somatic Mutation\n",
      "Simple Nucleotide Variation\tMasked Somatic Mutation\n",
      "DNA Methylation\tMethylation Beta Value\n",
      "Sequencing Reads\tAligned Reads\n",
      "Sequencing Reads\tAligned Reads\n",
      "Transcriptome Profiling\tIsoform Expression Quantification\n",
      "Simple Nucleotide Variation\tAggregated Somatic Mutation\n",
      "Biospecimen\tSlide Image\n"
     ]
    }
   ],
   "source": [
    "for specimen in subject['Specimen']:\n",
    "   for file in specimen['File']:\n",
    "    print(file['data_category'] + \"\\t\" + file['data_type'])"
   ]
  },
  {
   "cell_type": "code",
   "execution_count": 59,
   "metadata": {},
   "outputs": [
    {
     "name": "stderr",
     "output_type": "stream",
     "text": [
      "SELECT DISTINCT(_File.data_category) FROM `gdc-bq-sample.cda_mvp.v2`, UNNEST(ResearchSubject) AS _ResearchSubject,UNNEST(_ResearchSubject.Specimen) AS _Specimen,UNNEST(_Specimen.File) AS _File ORDER BY _File.data_category\n"
     ]
    },
    {
     "data": {
      "text/plain": [
       "['Biospecimen',\n",
       " 'Combined Nucleotide Variation',\n",
       " 'Copy Number Variation',\n",
       " 'DNA Methylation',\n",
       " 'Peptide Spectral Matches',\n",
       " 'Processed Mass Spectra',\n",
       " 'Raw Mass Spectra',\n",
       " 'Sequencing Reads',\n",
       " 'Simple Nucleotide Variation',\n",
       " 'Somatic Structural Variation',\n",
       " 'Structural Variation',\n",
       " 'Transcriptome Profiling']"
      ]
     },
     "execution_count": 59,
     "metadata": {},
     "output_type": "execute_result"
    }
   ],
   "source": [
    "unique_terms(\"ResearchSubject.Specimen.File.data_category\")"
   ]
  },
  {
   "cell_type": "code",
   "execution_count": 63,
   "metadata": {},
   "outputs": [
    {
     "name": "stderr",
     "output_type": "stream",
     "text": [
      "SELECT field_path FROM `gdc-bq-sample.cda_mvp.INFORMATION_SCHEMA.COLUMN_FIELD_PATHS` WHERE table_name = 'ResearchSubject.Specimen.File'\n"
     ]
    },
    {
     "data": {
      "text/plain": [
       "[]"
      ]
     },
     "execution_count": 63,
     "metadata": {},
     "output_type": "execute_result"
    }
   ],
   "source": []
  },
  {
   "cell_type": "code",
   "execution_count": 65,
   "metadata": {},
   "outputs": [
    {
     "name": "stdout",
     "output_type": "stream",
     "text": [
      "a9e4580c-412c-5325-a91d-50fd125a515b\tfemale\t55.4\tCystic, Mucinous and Serous Neoplasms\tSlide Image\te460e9fb-62c2-47fe-8311-ecac88d543f8\tgs://gdc-tcga-phs000178-open/e460e9fb-62c2-47fe-8311-ecac88d543f8/TCGA-3P-A9WA-01Z-00-DX1.A5FDC436-7F0D-4DD2-8644-CEF1BFF9C614.svs\n",
      "\n",
      "a9e4580c-412c-5325-a91d-50fd125a515b\tfemale\t55.4\tCystic, Mucinous and Serous Neoplasms\tAggregated Somatic Mutation\t04da990e-67a3-4ead-ab08-448c7118624c\tgs://gdc-tcga-phs000178-controlled/04da990e-67a3-4ead-ab08-448c7118624c/TCGA.OV.varscan.04da990e-67a3-4ead-ab08-448c7118624c.DR-10.0.protected.maf.gz\n",
      "\n",
      "a9e4580c-412c-5325-a91d-50fd125a515b\tfemale\t55.4\tCystic, Mucinous and Serous Neoplasms\tRaw Simple Somatic Mutation\t10bddb46-9f54-4c14-bd29-6c201166a931\tgs://gdc-tcga-phs000178-controlled/10bddb46-9f54-4c14-bd29-6c201166a931/10bddb46-9f54-4c14-bd29-6c201166a931.vcf\n",
      "\n",
      "a9e4580c-412c-5325-a91d-50fd125a515b\tfemale\t55.4\tCystic, Mucinous and Serous Neoplasms\tAggregated Somatic Mutation\t1cb59aef-ef3f-4367-9a3d-f33f7fb93e40\tgs://gdc-tcga-phs000178-controlled/1cb59aef-ef3f-4367-9a3d-f33f7fb93e40/TCGA.OV.muse.1cb59aef-ef3f-4367-9a3d-f33f7fb93e40.DR-10.0.protected.maf.gz\n",
      "\n",
      "a9e4580c-412c-5325-a91d-50fd125a515b\tfemale\t55.4\tCystic, Mucinous and Serous Neoplasms\tRaw Simple Somatic Mutation\t25c7cb48-27d9-4141-b8cb-d11c4fb192ed\tgs://gdc-tcga-phs000178-controlled/25c7cb48-27d9-4141-b8cb-d11c4fb192ed/25c7cb48-27d9-4141-b8cb-d11c4fb192ed.vcf.gz\n",
      "\n",
      "a9e4580c-412c-5325-a91d-50fd125a515b\tfemale\t55.4\tCystic, Mucinous and Serous Neoplasms\tGene Level Copy Number\t3d10ea79-80be-439b-b77c-b92c064827a6\tgs://gdc-tcga-phs000178-open/3d10ea79-80be-439b-b77c-b92c064827a6/TCGA-OV.997c7fe1-5f90-4aeb-983d-6d36bac3b03b.gene_level_copy_number.tsv\n",
      "\n",
      "a9e4580c-412c-5325-a91d-50fd125a515b\tfemale\t55.4\tCystic, Mucinous and Serous Neoplasms\tMasked Somatic Mutation\t3e48014d-ce4a-4937-bba4-13eaf631a64a\tgs://gdc-tcga-phs000178-open/3e48014d-ce4a-4937-bba4-13eaf631a64a/TCGA.OV.somaticsniper.3e48014d-ce4a-4937-bba4-13eaf631a64a.DR-10.0.somatic.maf.gz\n",
      "\n",
      "a9e4580c-412c-5325-a91d-50fd125a515b\tfemale\t55.4\tCystic, Mucinous and Serous Neoplasms\tAggregated Somatic Mutation\t4683fdc3-2041-4b03-9886-fd035ab64c4f\tgs://gdc-tcga-phs000178-controlled/4683fdc3-2041-4b03-9886-fd035ab64c4f/TCGA.OV.somaticsniper.4683fdc3-2041-4b03-9886-fd035ab64c4f.DR-10.0.protected.maf.gz\n",
      "\n",
      "a9e4580c-412c-5325-a91d-50fd125a515b\tfemale\t55.4\tCystic, Mucinous and Serous Neoplasms\tAnnotated Somatic Mutation\t48e51379-ff7d-4588-b038-a77e0d12d54f\tgs://gdc-tcga-phs000178-controlled/48e51379-ff7d-4588-b038-a77e0d12d54f/48e51379-ff7d-4588-b038-a77e0d12d54f.vep.vcf.gz\n",
      "\n",
      "a9e4580c-412c-5325-a91d-50fd125a515b\tfemale\t55.4\tCystic, Mucinous and Serous Neoplasms\tAnnotated Somatic Mutation\t4c624298-ffc3-48b7-ba13-42c9e68df732\tgs://gdc-tcga-phs000178-controlled/4c624298-ffc3-48b7-ba13-42c9e68df732/4c624298-ffc3-48b7-ba13-42c9e68df732.vep.vcf.gz\n",
      "\n",
      "a9e4580c-412c-5325-a91d-50fd125a515b\tfemale\t55.4\tCystic, Mucinous and Serous Neoplasms\tMasked Somatic Mutation\t51423d79-e9c5-4c4d-b12c-99c1338dbd43\tgs://gdc-tcga-phs000178-open/51423d79-e9c5-4c4d-b12c-99c1338dbd43/TCGA.OV.muse.51423d79-e9c5-4c4d-b12c-99c1338dbd43.DR-10.0.somatic.maf.gz\n",
      "\n",
      "a9e4580c-412c-5325-a91d-50fd125a515b\tfemale\t55.4\tCystic, Mucinous and Serous Neoplasms\tAnnotated Somatic Mutation\t6d7b5c0e-6603-4066-baca-16d3d5b7b160\tgs://gdc-tcga-phs000178-controlled/6d7b5c0e-6603-4066-baca-16d3d5b7b160/6d7b5c0e-6603-4066-baca-16d3d5b7b160.vep.vcf.gz\n",
      "\n",
      "a9e4580c-412c-5325-a91d-50fd125a515b\tfemale\t55.4\tCystic, Mucinous and Serous Neoplasms\tAllele-specific Copy Number Segment\t6f839cc2-3694-4f16-a620-8dcad7b1615a\tgs://gdc-tcga-phs000178-open/6f839cc2-3694-4f16-a620-8dcad7b1615a/TCGA-OV.997c7fe1-5f90-4aeb-983d-6d36bac3b03b.ascat2.allelic_specific.seg.txt\n",
      "\n",
      "a9e4580c-412c-5325-a91d-50fd125a515b\tfemale\t55.4\tCystic, Mucinous and Serous Neoplasms\tRaw Simple Somatic Mutation\t70d12d8b-969b-43fe-9285-8572b46cb66b\tgs://gdc-tcga-phs000178-controlled/70d12d8b-969b-43fe-9285-8572b46cb66b/70d12d8b-969b-43fe-9285-8572b46cb66b.vcf.gz\n",
      "\n",
      "a9e4580c-412c-5325-a91d-50fd125a515b\tfemale\t55.4\tCystic, Mucinous and Serous Neoplasms\tAligned Reads\t8d7982e3-cc0a-49d0-9edc-71ac0afdaa8b\tgs://gdc-tcga-phs000178-controlled/8d7982e3-cc0a-49d0-9edc-71ac0afdaa8b/b777ddf3d6e9297d5357b1c000f59c23_gdc_realn.bam\n",
      "\n",
      "a9e4580c-412c-5325-a91d-50fd125a515b\tfemale\t55.4\tCystic, Mucinous and Serous Neoplasms\tRaw Simple Somatic Mutation\ta594ae9f-5550-4924-9452-fe6d0e0fa0d3\tgs://gdc-tcga-phs000178-controlled/a594ae9f-5550-4924-9452-fe6d0e0fa0d3/a594ae9f-5550-4924-9452-fe6d0e0fa0d3.vcf.gz\n",
      "\n",
      "a9e4580c-412c-5325-a91d-50fd125a515b\tfemale\t55.4\tCystic, Mucinous and Serous Neoplasms\tMasked Somatic Mutation\ta8f41106-633d-4027-9e1f-e73bfd48f11e\tgs://gdc-tcga-phs000178-open/a8f41106-633d-4027-9e1f-e73bfd48f11e/TCGA.OV.varscan.a8f41106-633d-4027-9e1f-e73bfd48f11e.DR-10.0.somatic.maf.gz\n",
      "\n",
      "a9e4580c-412c-5325-a91d-50fd125a515b\tfemale\t55.4\tCystic, Mucinous and Serous Neoplasms\tAnnotated Somatic Mutation\tacd37fba-c9a7-4655-aa5d-4b2288a823e7\tgs://gdc-tcga-phs000178-controlled/acd37fba-c9a7-4655-aa5d-4b2288a823e7/acd37fba-c9a7-4655-aa5d-4b2288a823e7.vep.vcf.gz\n",
      "\n",
      "a9e4580c-412c-5325-a91d-50fd125a515b\tfemale\t55.4\tCystic, Mucinous and Serous Neoplasms\tMasked Somatic Mutation\tb22b85eb-2ca8-4c9f-a1cd-b77caab999bd\tgs://gdc-tcga-phs000178-open/b22b85eb-2ca8-4c9f-a1cd-b77caab999bd/TCGA.OV.mutect.b22b85eb-2ca8-4c9f-a1cd-b77caab999bd.DR-10.0.somatic.maf.gz\n",
      "\n",
      "a9e4580c-412c-5325-a91d-50fd125a515b\tfemale\t55.4\tCystic, Mucinous and Serous Neoplasms\tCopy Number Segment\tb3b8134d-8c6e-4fd8-9f1b-9dc3d6f8016b\tgs://gdc-tcga-phs000178-open/b3b8134d-8c6e-4fd8-9f1b-9dc3d6f8016b/NIZAM_p_TCGAb_406_07_08_09_10_N_GenomeWideSNP_6_E10_1486452.grch38.seg.v2.txt\n",
      "\n",
      "a9e4580c-412c-5325-a91d-50fd125a515b\tfemale\t55.4\tCystic, Mucinous and Serous Neoplasms\tMasked Copy Number Segment\tdf1daf67-b366-4bf6-b9cc-1e8eda71e93b\tgs://gdc-tcga-phs000178-open/df1daf67-b366-4bf6-b9cc-1e8eda71e93b/NIZAM_p_TCGAb_406_07_08_09_10_N_GenomeWideSNP_6_E10_1486452.nocnv_grch38.seg.v2.txt\n",
      "\n",
      "a9e4580c-412c-5325-a91d-50fd125a515b\tfemale\t55.4\tCystic, Mucinous and Serous Neoplasms\tAggregated Somatic Mutation\te6ea3b5e-48fc-4155-81f6-4ffe59871d5a\tgs://gdc-tcga-phs000178-controlled/e6ea3b5e-48fc-4155-81f6-4ffe59871d5a/TCGA.OV.mutect.e6ea3b5e-48fc-4155-81f6-4ffe59871d5a.DR-10.0.protected.maf.gz\n",
      "\n",
      "a9e4580c-412c-5325-a91d-50fd125a515b\tfemale\t55.4\tCystic, Mucinous and Serous Neoplasms\tAggregated Somatic Mutation\t04da990e-67a3-4ead-ab08-448c7118624c\tgs://gdc-tcga-phs000178-controlled/04da990e-67a3-4ead-ab08-448c7118624c/TCGA.OV.varscan.04da990e-67a3-4ead-ab08-448c7118624c.DR-10.0.protected.maf.gz\n",
      "\n",
      "a9e4580c-412c-5325-a91d-50fd125a515b\tfemale\t55.4\tCystic, Mucinous and Serous Neoplasms\tRaw Simple Somatic Mutation\t10bddb46-9f54-4c14-bd29-6c201166a931\tgs://gdc-tcga-phs000178-controlled/10bddb46-9f54-4c14-bd29-6c201166a931/10bddb46-9f54-4c14-bd29-6c201166a931.vcf\n",
      "\n",
      "a9e4580c-412c-5325-a91d-50fd125a515b\tfemale\t55.4\tCystic, Mucinous and Serous Neoplasms\tGene Level Copy Number Scores\t14a0766c-6ca4-47bb-ac70-62133c30c1c5\tgs://gdc-tcga-phs000178-open/14a0766c-6ca4-47bb-ac70-62133c30c1c5/OV.focal_score_by_genes.txt\n",
      "\n",
      "a9e4580c-412c-5325-a91d-50fd125a515b\tfemale\t55.4\tCystic, Mucinous and Serous Neoplasms\tAggregated Somatic Mutation\t1cb59aef-ef3f-4367-9a3d-f33f7fb93e40\tgs://gdc-tcga-phs000178-controlled/1cb59aef-ef3f-4367-9a3d-f33f7fb93e40/TCGA.OV.muse.1cb59aef-ef3f-4367-9a3d-f33f7fb93e40.DR-10.0.protected.maf.gz\n",
      "\n",
      "a9e4580c-412c-5325-a91d-50fd125a515b\tfemale\t55.4\tCystic, Mucinous and Serous Neoplasms\tRaw Simple Somatic Mutation\t25c7cb48-27d9-4141-b8cb-d11c4fb192ed\tgs://gdc-tcga-phs000178-controlled/25c7cb48-27d9-4141-b8cb-d11c4fb192ed/25c7cb48-27d9-4141-b8cb-d11c4fb192ed.vcf.gz\n",
      "\n",
      "a9e4580c-412c-5325-a91d-50fd125a515b\tfemale\t55.4\tCystic, Mucinous and Serous Neoplasms\tGene Level Copy Number\t3d10ea79-80be-439b-b77c-b92c064827a6\tgs://gdc-tcga-phs000178-open/3d10ea79-80be-439b-b77c-b92c064827a6/TCGA-OV.997c7fe1-5f90-4aeb-983d-6d36bac3b03b.gene_level_copy_number.tsv\n",
      "\n",
      "a9e4580c-412c-5325-a91d-50fd125a515b\tfemale\t55.4\tCystic, Mucinous and Serous Neoplasms\tMasked Somatic Mutation\t3e48014d-ce4a-4937-bba4-13eaf631a64a\tgs://gdc-tcga-phs000178-open/3e48014d-ce4a-4937-bba4-13eaf631a64a/TCGA.OV.somaticsniper.3e48014d-ce4a-4937-bba4-13eaf631a64a.DR-10.0.somatic.maf.gz\n",
      "\n",
      "a9e4580c-412c-5325-a91d-50fd125a515b\tfemale\t55.4\tCystic, Mucinous and Serous Neoplasms\tAggregated Somatic Mutation\t4683fdc3-2041-4b03-9886-fd035ab64c4f\tgs://gdc-tcga-phs000178-controlled/4683fdc3-2041-4b03-9886-fd035ab64c4f/TCGA.OV.somaticsniper.4683fdc3-2041-4b03-9886-fd035ab64c4f.DR-10.0.protected.maf.gz\n",
      "\n",
      "a9e4580c-412c-5325-a91d-50fd125a515b\tfemale\t55.4\tCystic, Mucinous and Serous Neoplasms\tAnnotated Somatic Mutation\t48e51379-ff7d-4588-b038-a77e0d12d54f\tgs://gdc-tcga-phs000178-controlled/48e51379-ff7d-4588-b038-a77e0d12d54f/48e51379-ff7d-4588-b038-a77e0d12d54f.vep.vcf.gz\n",
      "\n",
      "a9e4580c-412c-5325-a91d-50fd125a515b\tfemale\t55.4\tCystic, Mucinous and Serous Neoplasms\tmiRNA Expression Quantification\t49375bab-4df4-409c-9516-9f4f935f457f\tgs://gdc-tcga-phs000178-open/49375bab-4df4-409c-9516-9f4f935f457f/ca74d2ee-20e5-4a73-ad1b-033c7be2cd89.mirbase21.mirnas.quantification.txt\n",
      "\n",
      "a9e4580c-412c-5325-a91d-50fd125a515b\tfemale\t55.4\tCystic, Mucinous and Serous Neoplasms\tAnnotated Somatic Mutation\t4c624298-ffc3-48b7-ba13-42c9e68df732\tgs://gdc-tcga-phs000178-controlled/4c624298-ffc3-48b7-ba13-42c9e68df732/4c624298-ffc3-48b7-ba13-42c9e68df732.vep.vcf.gz\n",
      "\n",
      "a9e4580c-412c-5325-a91d-50fd125a515b\tfemale\t55.4\tCystic, Mucinous and Serous Neoplasms\tMasked Copy Number Segment\t4d6db008-0ccc-46b0-bc21-aac8107f3f96\tgs://gdc-tcga-phs000178-open/4d6db008-0ccc-46b0-bc21-aac8107f3f96/NIZAM_p_TCGAb_406_07_08_09_10_N_GenomeWideSNP_6_E11_1486560.nocnv_grch38.seg.v2.txt\n",
      "\n",
      "a9e4580c-412c-5325-a91d-50fd125a515b\tfemale\t55.4\tCystic, Mucinous and Serous Neoplasms\tMasked Somatic Mutation\t51423d79-e9c5-4c4d-b12c-99c1338dbd43\tgs://gdc-tcga-phs000178-open/51423d79-e9c5-4c4d-b12c-99c1338dbd43/TCGA.OV.muse.51423d79-e9c5-4c4d-b12c-99c1338dbd43.DR-10.0.somatic.maf.gz\n",
      "\n",
      "a9e4580c-412c-5325-a91d-50fd125a515b\tfemale\t55.4\tCystic, Mucinous and Serous Neoplasms\tAnnotated Somatic Mutation\t6d7b5c0e-6603-4066-baca-16d3d5b7b160\tgs://gdc-tcga-phs000178-controlled/6d7b5c0e-6603-4066-baca-16d3d5b7b160/6d7b5c0e-6603-4066-baca-16d3d5b7b160.vep.vcf.gz\n",
      "\n",
      "a9e4580c-412c-5325-a91d-50fd125a515b\tfemale\t55.4\tCystic, Mucinous and Serous Neoplasms\tAllele-specific Copy Number Segment\t6f839cc2-3694-4f16-a620-8dcad7b1615a\tgs://gdc-tcga-phs000178-open/6f839cc2-3694-4f16-a620-8dcad7b1615a/TCGA-OV.997c7fe1-5f90-4aeb-983d-6d36bac3b03b.ascat2.allelic_specific.seg.txt\n",
      "\n",
      "a9e4580c-412c-5325-a91d-50fd125a515b\tfemale\t55.4\tCystic, Mucinous and Serous Neoplasms\tRaw Simple Somatic Mutation\t70d12d8b-969b-43fe-9285-8572b46cb66b\tgs://gdc-tcga-phs000178-controlled/70d12d8b-969b-43fe-9285-8572b46cb66b/70d12d8b-969b-43fe-9285-8572b46cb66b.vcf.gz\n",
      "\n",
      "a9e4580c-412c-5325-a91d-50fd125a515b\tfemale\t55.4\tCystic, Mucinous and Serous Neoplasms\tCopy Number Segment\t838a186c-d706-4574-8fd6-92b5f9d76d19\tgs://gdc-tcga-phs000178-open/838a186c-d706-4574-8fd6-92b5f9d76d19/NIZAM_p_TCGAb_406_07_08_09_10_N_GenomeWideSNP_6_E11_1486560.grch38.seg.v2.txt\n",
      "\n",
      "a9e4580c-412c-5325-a91d-50fd125a515b\tfemale\t55.4\tCystic, Mucinous and Serous Neoplasms\tRaw Simple Somatic Mutation\ta594ae9f-5550-4924-9452-fe6d0e0fa0d3\tgs://gdc-tcga-phs000178-controlled/a594ae9f-5550-4924-9452-fe6d0e0fa0d3/a594ae9f-5550-4924-9452-fe6d0e0fa0d3.vcf.gz\n",
      "\n",
      "a9e4580c-412c-5325-a91d-50fd125a515b\tfemale\t55.4\tCystic, Mucinous and Serous Neoplasms\tMasked Somatic Mutation\ta8f41106-633d-4027-9e1f-e73bfd48f11e\tgs://gdc-tcga-phs000178-open/a8f41106-633d-4027-9e1f-e73bfd48f11e/TCGA.OV.varscan.a8f41106-633d-4027-9e1f-e73bfd48f11e.DR-10.0.somatic.maf.gz\n",
      "\n",
      "a9e4580c-412c-5325-a91d-50fd125a515b\tfemale\t55.4\tCystic, Mucinous and Serous Neoplasms\tAnnotated Somatic Mutation\tacd37fba-c9a7-4655-aa5d-4b2288a823e7\tgs://gdc-tcga-phs000178-controlled/acd37fba-c9a7-4655-aa5d-4b2288a823e7/acd37fba-c9a7-4655-aa5d-4b2288a823e7.vep.vcf.gz\n",
      "\n",
      "a9e4580c-412c-5325-a91d-50fd125a515b\tfemale\t55.4\tCystic, Mucinous and Serous Neoplasms\tMasked Somatic Mutation\tb22b85eb-2ca8-4c9f-a1cd-b77caab999bd\tgs://gdc-tcga-phs000178-open/b22b85eb-2ca8-4c9f-a1cd-b77caab999bd/TCGA.OV.mutect.b22b85eb-2ca8-4c9f-a1cd-b77caab999bd.DR-10.0.somatic.maf.gz\n",
      "\n",
      "a9e4580c-412c-5325-a91d-50fd125a515b\tfemale\t55.4\tCystic, Mucinous and Serous Neoplasms\tMethylation Beta Value\tc6512e2b-b75f-44d2-95b0-af9cd94b182c\tgs://gdc-tcga-phs000178-open/c6512e2b-b75f-44d2-95b0-af9cd94b182c/jhu-usc.edu_OV.HumanMethylation450.1.lvl-3.TCGA-3P-A9WA-01A-11D-A409-05.gdc_hg38.txt\n",
      "\n",
      "a9e4580c-412c-5325-a91d-50fd125a515b\tfemale\t55.4\tCystic, Mucinous and Serous Neoplasms\tAligned Reads\td9af2f04-07ed-4806-9dfe-8dcab37a7c8d\tgs://gdc-tcga-phs000178-controlled/d9af2f04-07ed-4806-9dfe-8dcab37a7c8d/229502633dff99bd34faac03acf5169f_gdc_realn.bam\n",
      "\n",
      "a9e4580c-412c-5325-a91d-50fd125a515b\tfemale\t55.4\tCystic, Mucinous and Serous Neoplasms\tAligned Reads\tde993d76-f923-450f-b980-bb0cecdc43b0\tgs://gdc-tcga-phs000178-controlled/de993d76-f923-450f-b980-bb0cecdc43b0/TCGA-3P-A9WA-01A-11R-A407-13_mirna_gdc_realn.bam\n",
      "\n",
      "a9e4580c-412c-5325-a91d-50fd125a515b\tfemale\t55.4\tCystic, Mucinous and Serous Neoplasms\tIsoform Expression Quantification\tdfa6aeaf-5a47-4f2b-ba43-97ab8fbc66c7\tgs://gdc-tcga-phs000178-open/dfa6aeaf-5a47-4f2b-ba43-97ab8fbc66c7/ca74d2ee-20e5-4a73-ad1b-033c7be2cd89.mirbase21.isoforms.quantification.txt\n",
      "\n",
      "a9e4580c-412c-5325-a91d-50fd125a515b\tfemale\t55.4\tCystic, Mucinous and Serous Neoplasms\tAggregated Somatic Mutation\te6ea3b5e-48fc-4155-81f6-4ffe59871d5a\tgs://gdc-tcga-phs000178-controlled/e6ea3b5e-48fc-4155-81f6-4ffe59871d5a/TCGA.OV.mutect.e6ea3b5e-48fc-4155-81f6-4ffe59871d5a.DR-10.0.protected.maf.gz\n",
      "\n",
      "a9e4580c-412c-5325-a91d-50fd125a515b\tfemale\t55.4\tCystic, Mucinous and Serous Neoplasms\tSlide Image\tf834d47f-7671-4e9a-9baa-b9d791812322\tgs://gdc-tcga-phs000178-open/f834d47f-7671-4e9a-9baa-b9d791812322/TCGA-3P-A9WA-01A-01-TS1.EC84245E-56A9-46C1-9496-CCF2587D318E.svs\n",
      "\n"
     ]
    }
   ],
   "source": [
    "for subject in result:\n",
    "    id = subject['id']\n",
    "    sex = subject['sex']\n",
    "    age = subject['age_at_diagnosis']\n",
    "    age = round(age/365,1)\n",
    "    disease = subject['primary_disease_type']\n",
    "    for specimen in subject['Specimen']:\n",
    "        for file in specimen['File']:\n",
    "            type = file['data_type']\n",
    "            fileid = file['id']\n",
    "            loc = file['gcs_path']\n",
    "            print((\"%s\\t%s\\t%s\\t%s\\t%s\\t%s\\t%s\\n\") % (id,sex,age,disease,type,fileid,loc))\n",
    "        "
   ]
  },
  {
   "cell_type": "code",
   "execution_count": null,
   "metadata": {},
   "outputs": [],
   "source": []
  }
 ],
 "metadata": {
  "kernelspec": {
   "display_name": "Python 3",
   "language": "python",
   "name": "python3"
  },
  "language_info": {
   "codemirror_mode": {
    "name": "ipython",
    "version": 3
   },
   "file_extension": ".py",
   "mimetype": "text/x-python",
   "name": "python",
   "nbconvert_exporter": "python",
   "pygments_lexer": "ipython3",
   "version": "3.8.5"
  }
 },
 "nbformat": 4,
 "nbformat_minor": 4
}
