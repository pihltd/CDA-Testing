{
 "cells": [
  {
   "cell_type": "code",
   "execution_count": 4,
   "metadata": {},
   "outputs": [],
   "source": [
    "import pandas\n",
    "from cdapython import Q, unique_terms"
   ]
  },
  {
   "cell_type": "code",
   "execution_count": 6,
   "metadata": {},
   "outputs": [
    {
     "name": "stderr",
     "output_type": "stream",
     "text": [
      "SELECT DISTINCT(_Specimen.associated_project) FROM `gdc-bq-sample.cda_mvp.v2`, UNNEST(ResearchSubject) AS _ResearchSubject,UNNEST(_ResearchSubject.Specimen) AS _Specimen ORDER BY _Specimen.associated_project\n"
     ]
    }
   ],
   "source": [
    "projectList = unique_terms('ResearchSubject.Specimen.associated_project')"
   ]
  },
  {
   "cell_type": "code",
   "execution_count": 9,
   "metadata": {},
   "outputs": [],
   "source": [
    "q1 = Q('ResearchSubject.Specimen.associated_project = \"TCGA-UCEC\"')"
   ]
  },
  {
   "cell_type": "code",
   "execution_count": 10,
   "metadata": {},
   "outputs": [],
   "source": [
    "result = q1.run(limit =2)"
   ]
  },
  {
   "cell_type": "code",
   "execution_count": 13,
   "metadata": {},
   "outputs": [],
   "source": [
    "finaldata = {}\n",
    "for subject in result:\n",
    "    typelist = []\n",
    "    project = subject['associated_project']\n",
    "    for specimen in subject['Specimen']:\n",
    "        for file in specimen['File']:\n",
    "            if file['data_type'] not in typelist:\n",
    "                typelist.append(file['data_type'])\n",
    "    finaldata[project] = typelist"
   ]
  },
  {
   "cell_type": "code",
   "execution_count": 14,
   "metadata": {},
   "outputs": [
    {
     "name": "stdout",
     "output_type": "stream",
     "text": [
      "{'TCGA-UCEC': ['Aligned Reads', 'Gene Expression Quantification', 'Methylation Beta Value', 'Slide Image', 'Copy Number Segment', 'Masked Copy Number Segment']}\n"
     ]
    }
   ],
   "source": [
    "print(finaldata)"
   ]
  },
  {
   "cell_type": "code",
   "execution_count": null,
   "metadata": {},
   "outputs": [],
   "source": []
  }
 ],
 "metadata": {
  "kernelspec": {
   "display_name": "Python 3",
   "language": "python",
   "name": "python3"
  },
  "language_info": {
   "codemirror_mode": {
    "name": "ipython",
    "version": 3
   },
   "file_extension": ".py",
   "mimetype": "text/x-python",
   "name": "python",
   "nbconvert_exporter": "python",
   "pygments_lexer": "ipython3",
   "version": "3.8.5"
  }
 },
 "nbformat": 4,
 "nbformat_minor": 4
}
